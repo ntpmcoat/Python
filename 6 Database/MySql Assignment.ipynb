{
 "cells": [
  {
   "cell_type": "markdown",
   "id": "fe35ecae",
   "metadata": {},
   "source": [
    "Q1. What is a database? Differentiate between SQL and NoSQL databases.\n",
    "\n",
    "A database is a structured collection of data organized and stored in a way that allows efficient retrieval and management of data.\n",
    "It serves as a central repository for storing, managing, and manipulating information.\n",
    "Databases can be relational (SQL) or non-relational (NoSQL) based on their data model and storage mechanism.\n",
    "\n",
    "********** Difference b/w SQL and NoSQL********\n",
    "Data Model:\n",
    "SQL databases are based on the relational model, while NoSQL databases use various non-relational data models.\n",
    "\n",
    "Schema:\n",
    "SQL databases have a fixed schema, while NoSQL databases are schema-less or have flexible schemas.\n",
    "\n",
    "Scalability:\n",
    "NoSQL databases are often more scalable and suitable for handling large datasets and distributed systems.\n",
    "\n",
    "Query Language: \n",
    "SQL databases use SQL for querying, whereas NoSQL databases may have their query languages, APIs, or use simple key-value access."
   ]
  },
  {
   "cell_type": "code",
   "execution_count": null,
   "id": "213cda70",
   "metadata": {},
   "outputs": [],
   "source": []
  },
  {
   "cell_type": "markdown",
   "id": "ba5506ca",
   "metadata": {},
   "source": [
    "Q2. What is DDL? Explain why CREATE, DROP, ALTER, and TRUNCATE are used with an example.\n",
    "\n",
    "\n",
    "DDL stands for Data Definition Language\n",
    "It is used to define and manage the structure of the database and its objects. DDL commands are used to create, modify, and delete database objects such as tables, indexes, and views. \n",
    "\n",
    "***CREATE***\n",
    "Used to create new database objects.\n",
    "Example: \n",
    "    CREATE TABLE employees (\n",
    "    emp_id INT PRIMARY KEY,\n",
    "    emp_name VARCHAR(50),\n",
    "    department VARCHAR(50),\n",
    "    salary DECIMAL(10, 2)\n",
    ");\n",
    "\n",
    "***DROP***\n",
    "Used to delete existing database objects.\n",
    "Example: \n",
    "    DROP TABLE employees;\n",
    "\n",
    "\n",
    "***ALTER***\n",
    "Used to modify the structure of existing database objects.\n",
    "Example: \n",
    "    ALTER TABLE employees ADD COLUMN email VARCHAR(100);\n",
    "\n",
    "***TRUNCATE**\n",
    "Used to remove all rows from a table, but the table's structure remains intact.\n",
    "Example:\n",
    "    TRUNCATE TABLE employees;"
   ]
  },
  {
   "cell_type": "code",
   "execution_count": null,
   "id": "a8a012a0",
   "metadata": {},
   "outputs": [],
   "source": []
  },
  {
   "cell_type": "markdown",
   "id": "41492edb",
   "metadata": {},
   "source": [
    "Q3. What is DML? Explain INSERT, UPDATE, and DELETE with an example.\n",
    "\n",
    "DML stands for Data Manipulation Language\n",
    "It is used to manipulate data in a database. \n",
    "DML commands are used to insert, update, and delete data from database tables. \n",
    "\n",
    "\n",
    "***INSERT***\n",
    "It is used to add new rows (records) to a database table.\n",
    "Syntax: \n",
    "        INSERT INTO table_name VALUES (value1, value2, ...);\n",
    "Example:\n",
    "    INSERT INTO employees VALUES (104, 'Mary', 'Marketing', 48000);\n",
    "    \n",
    "    \n",
    "***UPDATE***\n",
    "It is used to modify existing rows in a database table.\n",
    "Syntax: \n",
    "    UPDATE table_name SET column1 = value1, column2 = value2, ... WHERE condition;\n",
    "Example : \n",
    "    UPDATE employees SET salary = 52000 WHERE emp_id = 102;\n",
    "\n",
    "***DELETE***\n",
    "It is used to remove rows from a database table.\n",
    "Syntax:\n",
    "    DELETE FROM table_name WHERE condition;\n",
    "Example:\n",
    "    DELETE FROM employees WHERE department = 'Finance';"
   ]
  },
  {
   "cell_type": "code",
   "execution_count": null,
   "id": "e3e369db",
   "metadata": {},
   "outputs": [],
   "source": []
  },
  {
   "cell_type": "markdown",
   "id": "daa99cb2",
   "metadata": {},
   "source": [
    "Q4. What is DQL? Explain SELECT with an example.\n",
    "\n",
    "\n",
    "DQL stands for Data Query Language\n",
    "it is used to retrieve and manipulate data in a database.\n",
    "The main DQL command is the SELECT statement, which is used to retrieve data from one or more database tables.\n",
    "syntax of select :\n",
    "    SELECT column1, column2, ... FROM table_name WHERE condition;\n",
    "    \n",
    "   column1, column2,.-->- Names of the columns to retrieve data from. \n",
    "                           Use '*' for all columns.\n",
    "   FROM: Keyword followed by the name of the table to fetch data from.\n",
    "   WHERE: Optional clause to specify conditions for rows to be included in the result.\n",
    "\n",
    "\n",
    "example\n",
    "SELECT * FROM employees;\n",
    "Retrieves all rows and columns from the \"employees\" table.\n",
    "\n",
    "SELECT emp_name FROM employees WHERE department = 'IT';\n",
    "Fetches \"emp_name\"  for employees in the \"IT\" department.\n",
    "\n",
    "SELECT * FROM employees WHERE salary > 150000;\n",
    "Retrieves employees with a salary greater than 150000."
   ]
  },
  {
   "cell_type": "code",
   "execution_count": null,
   "id": "f5a16803",
   "metadata": {},
   "outputs": [],
   "source": []
  },
  {
   "cell_type": "markdown",
   "id": "d0edb688",
   "metadata": {},
   "source": [
    "Q5. Explain Primary Key and Foreign Key.\n",
    "\n",
    "Primary Key:\n",
    "Primary Key is a unique identifier for each record in a database table.\n",
    "It ensures that each row in the table is uniquely identified and can be used to retrieve and modify specific records.\n",
    "The primary key column must have unique and non-null values.\n",
    "Typically, tables have a single primary key, but it can also be a combination of multiple columns, forming a composite primary key.\n",
    "Primary keys are used to enforce data integrity and create relationships between tables\n",
    "\n",
    "\n",
    "Foreign Key:\n",
    "A Foreign Key is a column or a set of columns in a table that refers to the Primary Key of another table.\n",
    "It establishes a relationship between two tables, creating a link between data in different tables.\n",
    "The Foreign Key ensures referential integrity, meaning that the values in the Foreign Key column(s) must correspond to existing values in the Primary Key of the related table or be set to NULL.\n",
    "It allows you to perform JOIN operations to retrieve data from related tables.\n",
    "Foreign Key constraints prevent orphaned records (rows in a table that refer to non-existent rows in the related table) and maintain data consistency in the database."
   ]
  },
  {
   "cell_type": "code",
   "execution_count": null,
   "id": "c8bc9dbe",
   "metadata": {},
   "outputs": [],
   "source": []
  },
  {
   "cell_type": "code",
   "execution_count": null,
   "id": "503d3f9c",
   "metadata": {},
   "outputs": [],
   "source": [
    "# Q6. Write a python code to connect MySQL to python. Explain the cursor() and execute() method.\n",
    "\n",
    "import mysql.connector\n",
    "mydb = mysql.connector.connect(\n",
    "  host=\"localhost\",\n",
    "  user=\"abc\",\n",
    "  password=\"password\"\n",
    ")\n",
    "\n",
    "mycursor = mydb.cursor()\n",
    "mycursor.execute(\"create database if not exists test5\")\n",
    "mycursor.execute(\"create table if not exists test5.Student(roll int,name varchar(20) , Address varchar(20))\")\n",
    "mycursor.execute(\"insert into test5.Student values(1,'Nikhil','Taloja')\")\n",
    "mydb.commit()\n",
    "mycursor.execute(\"select * from test5.Student\")\n",
    "for i in mycursor:\n",
    "    print(i)\n",
    "\n",
    "mydb.close()"
   ]
  },
  {
   "cell_type": "markdown",
   "id": "58ea6bc2",
   "metadata": {},
   "source": [
    "cursor(): \n",
    "The cursor() method creates an object that allows interaction with the database.\n",
    "It acts as a pointer to execute SQL queries and fetch data.\n",
    "\n",
    "execute(query):\n",
    "The execute() method runs SQL queries on the MySQL database.\n",
    "It takes the query as its  argument \n",
    "\n",
    "*should always call conn.commit() after data-modifying queries (INSERT, UPDATE, DELETE) to save changes. \n",
    "*Close the cursor and connection using cursor.close() and conn.close() respectively to release resources."
   ]
  },
  {
   "cell_type": "code",
   "execution_count": null,
   "id": "d94e1440",
   "metadata": {},
   "outputs": [],
   "source": []
  },
  {
   "cell_type": "markdown",
   "id": "64d7f10e",
   "metadata": {},
   "source": [
    "Q7. Give the order of execution of SQL clauses in an SQL query.\n",
    "\n",
    "\n",
    "1. FROM\n",
    "2. WHERE\n",
    "3. GROUP BY\n",
    "4. HAVING\n",
    "6. SELECT\n",
    "7. ORDER BY\n"
   ]
  },
  {
   "cell_type": "code",
   "execution_count": null,
   "id": "c0dec477",
   "metadata": {},
   "outputs": [],
   "source": []
  }
 ],
 "metadata": {
  "kernelspec": {
   "display_name": "Python 3 (ipykernel)",
   "language": "python",
   "name": "python3"
  },
  "language_info": {
   "codemirror_mode": {
    "name": "ipython",
    "version": 3
   },
   "file_extension": ".py",
   "mimetype": "text/x-python",
   "name": "python",
   "nbconvert_exporter": "python",
   "pygments_lexer": "ipython3",
   "version": "3.10.9"
  }
 },
 "nbformat": 4,
 "nbformat_minor": 5
}
