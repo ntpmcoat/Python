{
 "cells": [
  {
   "cell_type": "code",
   "execution_count": 8,
   "id": "9677141b-d130-41a4-91f0-4f6d8c9d3d67",
   "metadata": {},
   "outputs": [],
   "source": [
    "# Q1. Create one variable containing following type of data:\n",
    "# (i) string\n",
    "# (ii) list\n",
    "# (iii) float\n",
    "# (iv) tuple\n",
    "name=\"Nikhil\"\n",
    "list1=[ 1.5,66,True, 'ram']\n",
    "per=89.90\n",
    "tup=(1,\"Nikhil\", \"Mishra\")"
   ]
  },
  {
   "cell_type": "code",
   "execution_count": 4,
   "id": "7e8f6a8e-80b7-45d4-ae6a-71d4849cb2de",
   "metadata": {},
   "outputs": [
    {
     "data": {
      "text/plain": [
       "str"
      ]
     },
     "execution_count": 4,
     "metadata": {},
     "output_type": "execute_result"
    }
   ],
   "source": [
    "type(name)"
   ]
  },
  {
   "cell_type": "code",
   "execution_count": 5,
   "id": "8ca61aca-0945-405f-9dfb-14d96ce68699",
   "metadata": {},
   "outputs": [
    {
     "data": {
      "text/plain": [
       "list"
      ]
     },
     "execution_count": 5,
     "metadata": {},
     "output_type": "execute_result"
    }
   ],
   "source": [
    "type(list1)"
   ]
  },
  {
   "cell_type": "code",
   "execution_count": 6,
   "id": "87505398-73db-405b-b027-c19e64e49638",
   "metadata": {},
   "outputs": [
    {
     "data": {
      "text/plain": [
       "float"
      ]
     },
     "execution_count": 6,
     "metadata": {},
     "output_type": "execute_result"
    }
   ],
   "source": [
    "type(per)"
   ]
  },
  {
   "cell_type": "code",
   "execution_count": 7,
   "id": "f08ae9d7-2cf7-4268-835d-fd37d04a9679",
   "metadata": {},
   "outputs": [
    {
     "data": {
      "text/plain": [
       "tuple"
      ]
     },
     "execution_count": 7,
     "metadata": {},
     "output_type": "execute_result"
    }
   ],
   "source": [
    "type(tup)"
   ]
  },
  {
   "cell_type": "code",
   "execution_count": 13,
   "id": "9db58d37-7e98-4660-b316-b583a51f4ad0",
   "metadata": {},
   "outputs": [],
   "source": [
    "# Q2. Given are some following variables containing data:\n",
    "var1 = ''\n",
    "var2 = '[ DS , ML , Python]'\n",
    "var3 = [ 'DS' , 'ML' , 'Python' ]\n",
    "var4 = 1."
   ]
  },
  {
   "cell_type": "code",
   "execution_count": 14,
   "id": "42360181-d401-41e2-9691-3928e536ae43",
   "metadata": {},
   "outputs": [
    {
     "data": {
      "text/plain": [
       "str"
      ]
     },
     "execution_count": 14,
     "metadata": {},
     "output_type": "execute_result"
    }
   ],
   "source": [
    "type(var1)"
   ]
  },
  {
   "cell_type": "code",
   "execution_count": 15,
   "id": "59a8009f-33ac-4fb6-a471-8bf47823e6c7",
   "metadata": {},
   "outputs": [
    {
     "data": {
      "text/plain": [
       "str"
      ]
     },
     "execution_count": 15,
     "metadata": {},
     "output_type": "execute_result"
    }
   ],
   "source": [
    "type(var2)"
   ]
  },
  {
   "cell_type": "code",
   "execution_count": 16,
   "id": "80891a0a-dc80-403d-935e-6258c2f7c6ce",
   "metadata": {},
   "outputs": [
    {
     "data": {
      "text/plain": [
       "list"
      ]
     },
     "execution_count": 16,
     "metadata": {},
     "output_type": "execute_result"
    }
   ],
   "source": [
    "type(var3)"
   ]
  },
  {
   "cell_type": "code",
   "execution_count": 17,
   "id": "420d862d-6ecb-4266-a2d4-af7bfe7ac5a8",
   "metadata": {},
   "outputs": [
    {
     "data": {
      "text/plain": [
       "float"
      ]
     },
     "execution_count": 17,
     "metadata": {},
     "output_type": "execute_result"
    }
   ],
   "source": [
    "type(var4)"
   ]
  },
  {
   "cell_type": "markdown",
   "id": "5a36e436-8a4e-4a01-a285-6d93dc295e2a",
   "metadata": {},
   "source": [
    "Q.3 EXPLAIN THE USE OF THE FOLLOWING OPERATOR USING AN EXAMPLE\n",
    "\n",
    "(i) /   : Division Operator allows us to divide two numbers and return a quotient.\n",
    "(ii) %  : Modulus Operator is used to find out the remainder.\n",
    "(iii) // : Division floor divides the first operand by the second and returns floor value of it\n",
    "           Ex. 10//3---> 3.333 it returns 3 i.e floor value of 3.333\n",
    "(iv) ** :Exponent(Power) Operator Returns first raised to power second."
   ]
  },
  {
   "cell_type": "code",
   "execution_count": 18,
   "id": "ac367647-a354-4493-9ab1-cb93e05cab1c",
   "metadata": {},
   "outputs": [
    {
     "name": "stdout",
     "output_type": "stream",
     "text": [
      "<class 'int'>\n",
      "<class 'int'>\n",
      "<class 'int'>\n",
      "<class 'int'>\n",
      "<class 'int'>\n",
      "<class 'str'>\n",
      "<class 'float'>\n",
      "<class 'bool'>\n",
      "<class 'str'>\n"
     ]
    }
   ],
   "source": [
    "#Q.4 CREATE A LIST OF LENGHTH 10 OF YOUR CHOICE CONTAINING MULTIPLE TYPES OF DATA USING FOR LOOP PRINT THE ELEMENTS AND ITS DATA TYPE?\n",
    "\n",
    "l=[1,2,3,4,5,'Nikhil',23.5,True,\"Lion\"]\n",
    "\n",
    "for i in l :\n",
    "    print(type(i))"
   ]
  },
  {
   "cell_type": "code",
   "execution_count": 2,
   "id": "ea8989d0-23c5-419c-bdbf-505d817f4044",
   "metadata": {},
   "outputs": [
    {
     "name": "stdin",
     "output_type": "stream",
     "text": [
      "Enter the value of A: 90\n",
      "Enter the value of B: 40\n"
     ]
    },
    {
     "name": "stdout",
     "output_type": "stream",
     "text": [
      "90 is not Divisible by 40\n"
     ]
    }
   ],
   "source": [
    "# Q.5] Usingh a while loop verify if the number A is purely divisible by number B and if so then how many times it can be divisible.\n",
    "\n",
    "A=int(input(\"Enter the value of A:\"))\n",
    "B=int(input(\"Enter the value of B:\"))\n",
    "\n",
    "while A%B == 0 :\n",
    "    C = int(A/B)\n",
    "   \n",
    "    print(f\"{A} is divisible by {B} and can be divided {C} times\")\n",
    "    break\n",
    "else:\n",
    "    print(f\"{A} is not Divisible by {B}\") "
   ]
  },
  {
   "cell_type": "code",
   "execution_count": 3,
   "id": "d4481784-1e11-482e-ba75-d329b37bea22",
   "metadata": {},
   "outputs": [
    {
     "name": "stdout",
     "output_type": "stream",
     "text": [
      "10 is not divisible by 3:\n",
      "12 is divisible by 3:\n",
      "18 is divisible by 3:\n",
      "25 is not divisible by 3:\n",
      "33 is divisible by 3:\n",
      "42 is divisible by 3:\n",
      "56 is not divisible by 3:\n",
      "61 is not divisible by 3:\n",
      "72 is divisible by 3:\n",
      "81 is divisible by 3:\n",
      "94 is not divisible by 3:\n",
      "120 is divisible by 3:\n",
      "117 is divisible by 3:\n",
      "122 is not divisible by 3:\n",
      "166 is not divisible by 3:\n",
      "14 is not divisible by 3:\n",
      "158 is not divisible by 3:\n",
      "165 is divisible by 3:\n",
      "178 is not divisible by 3:\n",
      "183 is divisible by 3:\n",
      "197 is not divisible by 3:\n",
      "330 is divisible by 3:\n",
      "300 is divisible by 3:\n",
      "224 is not divisible by 3:\n",
      "200 is not divisible by 3:\n"
     ]
    }
   ],
   "source": [
    "#Q.6  Create a list containing 25 int type data. Using for loop and if-else condition print if the element is divisible by 3 or not\n",
    "int_list = [10, 12, 18, 25, 33, 42, 56, 61, 72, 81, 94, 120, 117, 122, 166, 14, 158, 165, 178, 183, 197, 330, 300, 224, 200]\n",
    "\n",
    "for i in int_list:\n",
    "    if i % 3 == 0:\n",
    "        print(f\"{i} is divisible by 3:\")\n",
    "    else:\n",
    "        print(f\"{i} is not divisible by 3:\")"
   ]
  },
  {
   "cell_type": "raw",
   "id": "95f63335-1f4a-4249-8458-b65b527c322c",
   "metadata": {},
   "source": [
    "Q7. What do you understand about mutable and immutable data types? Give examples for both showing this property."
   ]
  },
  {
   "cell_type": "markdown",
   "id": "0292f1e5-06ac-4803-a158-1aa40f2b07c0",
   "metadata": {},
   "source": [
    "The term \"mutable\" in Python refers to an object's capacity to modify its values. These are frequently the things that hold a data collection.\n",
    "Ex. Lists , Dictionaries, Sets"
   ]
  },
  {
   "cell_type": "code",
   "execution_count": 1,
   "id": "55c3b0b2-50ee-4175-8abf-0efdd91034e8",
   "metadata": {},
   "outputs": [
    {
     "data": {
      "text/plain": [
       "[1, 8, 'hii']"
      ]
     },
     "execution_count": 1,
     "metadata": {},
     "output_type": "execute_result"
    }
   ],
   "source": [
    "l=[1, 8 , \"jii\" ]\n",
    "l[2]=\"hii\"\n",
    "l"
   ]
  },
  {
   "cell_type": "raw",
   "id": "21b26146-6eed-4600-ad16-14875f70d394",
   "metadata": {},
   "source": [
    "Immutable datatypes are objects that cannot be modified or altered after they have been created (for example, by adding new elements, removing elements, or replacing elements). Python's immutable data types are:\n",
    "Ex. Int, Float, Tuple, Complex,String, etc."
   ]
  },
  {
   "cell_type": "code",
   "execution_count": 4,
   "id": "2d59ac5b-e4cd-4961-81bd-725a595ce100",
   "metadata": {},
   "outputs": [
    {
     "ename": "TypeError",
     "evalue": "'str' object does not support item assignment",
     "output_type": "error",
     "traceback": [
      "\u001b[0;31m---------------------------------------------------------------------------\u001b[0m",
      "\u001b[0;31mTypeError\u001b[0m                                 Traceback (most recent call last)",
      "Cell \u001b[0;32mIn[4], line 3\u001b[0m\n\u001b[1;32m      1\u001b[0m inputString \u001b[38;5;241m=\u001b[39m \u001b[38;5;124m'\u001b[39m\u001b[38;5;124mWelcome to tutorialspoint python\u001b[39m\u001b[38;5;124m'\u001b[39m\n\u001b[1;32m      2\u001b[0m \u001b[38;5;66;03m# changing the string character at index 1\u001b[39;00m\n\u001b[0;32m----> 3\u001b[0m \u001b[43minputString\u001b[49m\u001b[43m[\u001b[49m\u001b[38;5;241;43m1\u001b[39;49m\u001b[43m]\u001b[49m \u001b[38;5;241m=\u001b[39m \u001b[38;5;124m'\u001b[39m\u001b[38;5;124ma\u001b[39m\u001b[38;5;124m'\u001b[39m\n\u001b[1;32m      4\u001b[0m \u001b[38;5;28mprint\u001b[39m(inputString)\n",
      "\u001b[0;31mTypeError\u001b[0m: 'str' object does not support item assignment"
     ]
    }
   ],
   "source": [
    "inputString = 'Welcome to tutorialspoint python'\n",
    "# changing the string character at index 1\n",
    "inputString[1] = 'a'\n",
    "print(inputString)"
   ]
  },
  {
   "cell_type": "code",
   "execution_count": null,
   "id": "6265b2b1-f47b-4853-9427-abd071e25fec",
   "metadata": {},
   "outputs": [],
   "source": []
  }
 ],
 "metadata": {
  "kernelspec": {
   "display_name": "Python 3 (ipykernel)",
   "language": "python",
   "name": "python3"
  },
  "language_info": {
   "codemirror_mode": {
    "name": "ipython",
    "version": 3
   },
   "file_extension": ".py",
   "mimetype": "text/x-python",
   "name": "python",
   "nbconvert_exporter": "python",
   "pygments_lexer": "ipython3",
   "version": "3.10.8"
  }
 },
 "nbformat": 4,
 "nbformat_minor": 5
}
