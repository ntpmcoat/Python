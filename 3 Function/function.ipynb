{
 "cells": [
  {
   "cell_type": "code",
   "execution_count": 1,
   "id": "85437c1e",
   "metadata": {},
   "outputs": [],
   "source": [
    "## lecture 1"
   ]
  },
  {
   "cell_type": "code",
   "execution_count": 2,
   "id": "c8e547d4",
   "metadata": {},
   "outputs": [],
   "source": [
    "#syntax for only declaration \n",
    "def fname():\n",
    "    pass"
   ]
  },
  {
   "cell_type": "code",
   "execution_count": 5,
   "id": "94623d50",
   "metadata": {},
   "outputs": [],
   "source": [
    "## always returns nonetype\n",
    "## declaration and definition\n",
    "def fname1():\n",
    "    print(\"hii\")"
   ]
  },
  {
   "cell_type": "code",
   "execution_count": 6,
   "id": "ce47ca18",
   "metadata": {},
   "outputs": [
    {
     "name": "stdout",
     "output_type": "stream",
     "text": [
      "hii\n"
     ]
    }
   ],
   "source": [
    "fname1()\n"
   ]
  },
  {
   "cell_type": "code",
   "execution_count": 7,
   "id": "fcf85ced",
   "metadata": {},
   "outputs": [
    {
     "data": {
      "text/plain": [
       "'hiii'"
      ]
     },
     "execution_count": 7,
     "metadata": {},
     "output_type": "execute_result"
    }
   ],
   "source": [
    "## return \n",
    "def fname2():\n",
    "    return \"hiii\"\n",
    "\n",
    "fname2()"
   ]
  },
  {
   "cell_type": "code",
   "execution_count": 9,
   "id": "6d0d1925",
   "metadata": {},
   "outputs": [
    {
     "data": {
      "text/plain": [
       "(3, 5, 7, 'hii', 7.8)"
      ]
     },
     "execution_count": 9,
     "metadata": {},
     "output_type": "execute_result"
    }
   ],
   "source": [
    "def fname4():\n",
    "   return 3,5,7,\"hii\",7.8\n",
    "fname4()"
   ]
  },
  {
   "cell_type": "code",
   "execution_count": 13,
   "id": "37e45eba",
   "metadata": {},
   "outputs": [
    {
     "ename": "TypeError",
     "evalue": "fname5() missing 3 required positional arguments: 'a', 'b', and 'c'",
     "output_type": "error",
     "traceback": [
      "\u001b[1;31m---------------------------------------------------------------------------\u001b[0m",
      "\u001b[1;31mTypeError\u001b[0m                                 Traceback (most recent call last)",
      "Cell \u001b[1;32mIn[13], line 3\u001b[0m\n\u001b[0;32m      1\u001b[0m \u001b[38;5;28;01mdef\u001b[39;00m \u001b[38;5;21mfname5\u001b[39m(a,b,c):\n\u001b[0;32m      2\u001b[0m    \u001b[38;5;28;01mreturn\u001b[39;00m a\u001b[38;5;241m+\u001b[39mb\u001b[38;5;241m+\u001b[39mc\n\u001b[1;32m----> 3\u001b[0m \u001b[43mfname5\u001b[49m\u001b[43m(\u001b[49m\u001b[43m)\u001b[49m\n",
      "\u001b[1;31mTypeError\u001b[0m: fname5() missing 3 required positional arguments: 'a', 'b', and 'c'"
     ]
    }
   ],
   "source": [
    "def fname5(a,b,c):\n",
    "   return a+b+c\n",
    "fname5()"
   ]
  },
  {
   "cell_type": "code",
   "execution_count": 14,
   "id": "db4933e9",
   "metadata": {},
   "outputs": [
    {
     "data": {
      "text/plain": [
       "20"
      ]
     },
     "execution_count": 14,
     "metadata": {},
     "output_type": "execute_result"
    }
   ],
   "source": [
    "fname5(10,5,5)"
   ]
  },
  {
   "cell_type": "code",
   "execution_count": 15,
   "id": "1bf8448b",
   "metadata": {},
   "outputs": [
    {
     "data": {
      "text/plain": [
       "'shame'"
      ]
     },
     "execution_count": 15,
     "metadata": {},
     "output_type": "execute_result"
    }
   ],
   "source": [
    "fname5(\"s\", \"h\",\"ame\")\n"
   ]
  },
  {
   "cell_type": "code",
   "execution_count": 17,
   "id": "3826157f",
   "metadata": {},
   "outputs": [
    {
     "data": {
      "text/plain": [
       "[1, 2, 4, 'dgg', 'dd', 23.4, 4]"
      ]
     },
     "execution_count": 17,
     "metadata": {},
     "output_type": "execute_result"
    }
   ],
   "source": [
    "fname5([1,2,4], [\"dgg\",\"dd\"] ,[23.4,4] )"
   ]
  },
  {
   "cell_type": "code",
   "execution_count": 19,
   "id": "1aaba509",
   "metadata": {},
   "outputs": [],
   "source": [
    "def nik(a):\n",
    "    \"\"\"table\"\"\"  #--->doc sting like built in function is click tab on function it  will description \n",
    "    for i in range(11):\n",
    "        print(f\"{a} * {i} = {a*i}\")"
   ]
  },
  {
   "cell_type": "code",
   "execution_count": 20,
   "id": "39325300",
   "metadata": {
    "scrolled": true
   },
   "outputs": [
    {
     "name": "stdout",
     "output_type": "stream",
     "text": [
      "2 * 0 = 0\n",
      "2 * 1 = 2\n",
      "2 * 2 = 4\n",
      "2 * 3 = 6\n",
      "2 * 4 = 8\n",
      "2 * 5 = 10\n",
      "2 * 6 = 12\n",
      "2 * 7 = 14\n",
      "2 * 8 = 16\n",
      "2 * 9 = 18\n",
      "2 * 10 = 20\n"
     ]
    }
   ],
   "source": [
    "nik(2)"
   ]
  },
  {
   "cell_type": "code",
   "execution_count": 21,
   "id": "85c7a6b6",
   "metadata": {},
   "outputs": [],
   "source": [
    "#to get any no. of arguments or prameters  we use *(var_name) stores as tuple\n",
    "def f(*args):\n",
    "    return args"
   ]
  },
  {
   "cell_type": "code",
   "execution_count": 23,
   "id": "63a0e08e",
   "metadata": {},
   "outputs": [
    {
     "data": {
      "text/plain": [
       "()"
      ]
     },
     "execution_count": 23,
     "metadata": {},
     "output_type": "execute_result"
    }
   ],
   "source": [
    "f()"
   ]
  },
  {
   "cell_type": "code",
   "execution_count": 24,
   "id": "d858b6ab",
   "metadata": {},
   "outputs": [
    {
     "data": {
      "text/plain": [
       "(4444, 555, 'hj')"
      ]
     },
     "execution_count": 24,
     "metadata": {},
     "output_type": "execute_result"
    }
   ],
   "source": [
    "f(4444,555,\"hj\")"
   ]
  },
  {
   "cell_type": "code",
   "execution_count": 31,
   "id": "2d691141",
   "metadata": {},
   "outputs": [],
   "source": [
    "def f1(*args, a):\n",
    "    return args , a"
   ]
  },
  {
   "cell_type": "code",
   "execution_count": 28,
   "id": "6730c549",
   "metadata": {},
   "outputs": [
    {
     "ename": "TypeError",
     "evalue": "f1() missing 1 required keyword-only argument: 'a'",
     "output_type": "error",
     "traceback": [
      "\u001b[1;31m---------------------------------------------------------------------------\u001b[0m",
      "\u001b[1;31mTypeError\u001b[0m                                 Traceback (most recent call last)",
      "Cell \u001b[1;32mIn[28], line 1\u001b[0m\n\u001b[1;32m----> 1\u001b[0m \u001b[43mf1\u001b[49m\u001b[43m(\u001b[49m\u001b[38;5;241;43m13\u001b[39;49m\u001b[43m,\u001b[49m\u001b[38;5;241;43m6\u001b[39;49m\u001b[43m,\u001b[49m\u001b[38;5;241;43m78\u001b[39;49m\u001b[43m,\u001b[49m\u001b[38;5;241;43m0\u001b[39;49m\u001b[43m)\u001b[49m\n",
      "\u001b[1;31mTypeError\u001b[0m: f1() missing 1 required keyword-only argument: 'a'"
     ]
    }
   ],
   "source": [
    "f1(13,6,78,0)"
   ]
  },
  {
   "cell_type": "code",
   "execution_count": 32,
   "id": "ccefc652",
   "metadata": {},
   "outputs": [
    {
     "data": {
      "text/plain": [
       "((6, 8, 2, 4), 56)"
      ]
     },
     "execution_count": 32,
     "metadata": {},
     "output_type": "execute_result"
    }
   ],
   "source": [
    "f1(6,8,2,4, a=56)"
   ]
  },
  {
   "cell_type": "code",
   "execution_count": 33,
   "id": "ea140001",
   "metadata": {},
   "outputs": [],
   "source": [
    "#can some parameter from caller and some default val in def."
   ]
  },
  {
   "cell_type": "code",
   "execution_count": 34,
   "id": "971cc7e5",
   "metadata": {},
   "outputs": [],
   "source": [
    "# to get output as dict\n",
    "def t1(**a):\n",
    "    return a"
   ]
  },
  {
   "cell_type": "code",
   "execution_count": 35,
   "id": "05111972",
   "metadata": {},
   "outputs": [
    {
     "data": {
      "text/plain": [
       "{}"
      ]
     },
     "execution_count": 35,
     "metadata": {},
     "output_type": "execute_result"
    }
   ],
   "source": [
    "t1()"
   ]
  },
  {
   "cell_type": "code",
   "execution_count": 36,
   "id": "e954168e",
   "metadata": {},
   "outputs": [
    {
     "data": {
      "text/plain": [
       "{'a': 89, 'j': 'hh'}"
      ]
     },
     "execution_count": 36,
     "metadata": {},
     "output_type": "execute_result"
    }
   ],
   "source": [
    "t1(a=89,j=\"hh\")"
   ]
  },
  {
   "cell_type": "code",
   "execution_count": null,
   "id": "3d61f037",
   "metadata": {},
   "outputs": [],
   "source": [
    "\n",
    "\n",
    "\n"
   ]
  },
  {
   "cell_type": "code",
   "execution_count": null,
   "id": "130f7d31",
   "metadata": {},
   "outputs": [],
   "source": [
    "\n",
    "                                                    ## Lecture 2\n"
   ]
  },
  {
   "cell_type": "code",
   "execution_count": 37,
   "id": "26903ce4",
   "metadata": {},
   "outputs": [],
   "source": [
    "#to make str iterateable -->iter(str_name)\n",
    "# iterable---> which can be iterate\n",
    "# iterator --->on which we can use next()\n",
    "\n",
    "# when we want to give list as output then first it creates o/p and stores in list \n",
    "# due to which dat consumption is too high\n",
    "# to overcome this we use generator \n",
    "# it creates o/p and prints instead of storing any other place it retuns due tothis lots of memory can be saved"
   ]
  },
  {
   "cell_type": "code",
   "execution_count": 38,
   "id": "cf35e312",
   "metadata": {},
   "outputs": [],
   "source": [
    "def fib(n):\n",
    "    a,b=0,1\n",
    "    for i in range(n):\n",
    "        yield a\n",
    "        a,b = b, a+b"
   ]
  },
  {
   "cell_type": "code",
   "execution_count": 40,
   "id": "03265e87",
   "metadata": {},
   "outputs": [
    {
     "data": {
      "text/plain": [
       "<generator object fib at 0x000001D708493290>"
      ]
     },
     "execution_count": 40,
     "metadata": {},
     "output_type": "execute_result"
    }
   ],
   "source": [
    "fib(10)"
   ]
  },
  {
   "cell_type": "code",
   "execution_count": 41,
   "id": "83cc5023",
   "metadata": {},
   "outputs": [
    {
     "name": "stdout",
     "output_type": "stream",
     "text": [
      "0\n",
      "1\n",
      "1\n",
      "2\n",
      "3\n",
      "5\n",
      "8\n",
      "13\n",
      "21\n",
      "34\n"
     ]
    }
   ],
   "source": [
    "for i in fib(10):\n",
    "    print(i)"
   ]
  },
  {
   "cell_type": "code",
   "execution_count": 45,
   "id": "70638958",
   "metadata": {},
   "outputs": [
    {
     "data": {
      "text/plain": [
       "generator"
      ]
     },
     "execution_count": 45,
     "metadata": {},
     "output_type": "execute_result"
    }
   ],
   "source": [
    "x= fib(10)\n",
    "type(x)"
   ]
  },
  {
   "cell_type": "code",
   "execution_count": null,
   "id": "bd5014eb",
   "metadata": {},
   "outputs": [],
   "source": [
    "\n",
    "\n",
    "\n",
    "\n"
   ]
  },
  {
   "cell_type": "code",
   "execution_count": 46,
   "id": "125249c1",
   "metadata": {},
   "outputs": [],
   "source": [
    "    \n",
    "                                    # lecture 3\n",
    "        "
   ]
  },
  {
   "cell_type": "code",
   "execution_count": 47,
   "id": "c29ecf54",
   "metadata": {},
   "outputs": [
    {
     "data": {
      "text/plain": [
       "3000"
      ]
     },
     "execution_count": 47,
     "metadata": {},
     "output_type": "execute_result"
    }
   ],
   "source": [
    "# lambda function or anonymous func or online function\n",
    "# we dont give function name but we store it in var by calling that var with parameters we call fumc \n",
    "\n",
    "##----- normal func\n",
    "def t1(p,n):\n",
    "    return n*p\n",
    "\n",
    "t1(30,100)"
   ]
  },
  {
   "cell_type": "code",
   "execution_count": 48,
   "id": "0e01d04c",
   "metadata": {},
   "outputs": [
    {
     "data": {
      "text/plain": [
       "3000"
      ]
     },
     "execution_count": 48,
     "metadata": {},
     "output_type": "execute_result"
    }
   ],
   "source": [
    "a= lambda n,p : n*p\n",
    "a(30,100)"
   ]
  },
  {
   "cell_type": "code",
   "execution_count": 49,
   "id": "7363a836",
   "metadata": {},
   "outputs": [
    {
     "data": {
      "text/plain": [
       "10"
      ]
     },
     "execution_count": 49,
     "metadata": {},
     "output_type": "execute_result"
    }
   ],
   "source": [
    "find_max =lambda x,y: x if x>y else y\n",
    "find_max(10,8)"
   ]
  },
  {
   "cell_type": "code",
   "execution_count": null,
   "id": "431bdb23",
   "metadata": {},
   "outputs": [],
   "source": [
    "\n",
    "\n",
    "\n"
   ]
  },
  {
   "cell_type": "code",
   "execution_count": 50,
   "id": "82d6c69c",
   "metadata": {},
   "outputs": [],
   "source": [
    "\n",
    "                        #  l4\n",
    "    "
   ]
  },
  {
   "cell_type": "code",
   "execution_count": 51,
   "id": "bf56d2fa",
   "metadata": {},
   "outputs": [],
   "source": [
    "l=[3,5,6,8]"
   ]
  },
  {
   "cell_type": "code",
   "execution_count": 53,
   "id": "6b5ab54c",
   "metadata": {},
   "outputs": [
    {
     "data": {
      "text/plain": [
       "[9, 25, 36, 64]"
      ]
     },
     "execution_count": 53,
     "metadata": {},
     "output_type": "execute_result"
    }
   ],
   "source": [
    "# for sqr of elem normal func---> we use for loop\n",
    "#Another  there is built in function which we can use if want to apply it on all the elem --->map\n",
    "\n",
    "\n",
    "d= lambda x : x**2\n",
    "list(map(d, l))    ##map(lambda x : x**2 , l)"
   ]
  },
  {
   "cell_type": "code",
   "execution_count": 55,
   "id": "02feb1bd",
   "metadata": {},
   "outputs": [
    {
     "data": {
      "text/plain": [
       "[6, 8, 10, 12]"
      ]
     },
     "execution_count": 55,
     "metadata": {},
     "output_type": "execute_result"
    }
   ],
   "source": [
    "# to give add of elem of respective ind\n",
    "l1=[1,2,3,4]  \n",
    "l2=[5,6,7,8]\n",
    "list(map(lambda x,y : x+y, l1,l2))"
   ]
  },
  {
   "cell_type": "code",
   "execution_count": null,
   "id": "28887b0c",
   "metadata": {},
   "outputs": [],
   "source": [
    "\n",
    "\n"
   ]
  },
  {
   "cell_type": "code",
   "execution_count": 58,
   "id": "7fb3921a",
   "metadata": {},
   "outputs": [],
   "source": [
    "## reduce--> use it we need to import library\n",
    "from functools import reduce"
   ]
  },
  {
   "cell_type": "code",
   "execution_count": 59,
   "id": "b9f2ea19",
   "metadata": {},
   "outputs": [
    {
     "data": {
      "text/plain": [
       "20"
      ]
     },
     "execution_count": 59,
     "metadata": {},
     "output_type": "execute_result"
    }
   ],
   "source": [
    "# exceptional case can run it on singleton tooo\n",
    "l=[2,4,6,8]\n",
    "\"\"\"\n",
    "2+4 =6\n",
    "6 + 6=12\n",
    "12 + 8 =20\n",
    "\"\"\"\n",
    "reduce(lambda x,y : x+y, l)"
   ]
  },
  {
   "cell_type": "code",
   "execution_count": 60,
   "id": "06a480f9",
   "metadata": {},
   "outputs": [
    {
     "ename": "TypeError",
     "evalue": "<lambda>() missing 1 required positional argument: 'z'",
     "output_type": "error",
     "traceback": [
      "\u001b[1;31m---------------------------------------------------------------------------\u001b[0m",
      "\u001b[1;31mTypeError\u001b[0m                                 Traceback (most recent call last)",
      "Cell \u001b[1;32mIn[60], line 1\u001b[0m\n\u001b[1;32m----> 1\u001b[0m \u001b[43mreduce\u001b[49m\u001b[43m(\u001b[49m\u001b[38;5;28;43;01mlambda\u001b[39;49;00m\u001b[43m \u001b[49m\u001b[43mx\u001b[49m\u001b[43m,\u001b[49m\u001b[43my\u001b[49m\u001b[43m,\u001b[49m\u001b[43mz\u001b[49m\u001b[43m \u001b[49m\u001b[43m:\u001b[49m\u001b[43m \u001b[49m\u001b[43mx\u001b[49m\u001b[38;5;241;43m+\u001b[39;49m\u001b[43my\u001b[49m\u001b[38;5;241;43m+\u001b[39;49m\u001b[43mz\u001b[49m\u001b[43m,\u001b[49m\u001b[43m \u001b[49m\u001b[43ml\u001b[49m\u001b[43m)\u001b[49m\n",
      "\u001b[1;31mTypeError\u001b[0m: <lambda>() missing 1 required positional argument: 'z'"
     ]
    }
   ],
   "source": [
    "reduce(lambda x,y,z : x+y+z, l)"
   ]
  },
  {
   "cell_type": "code",
   "execution_count": 62,
   "id": "212a1dc9",
   "metadata": {},
   "outputs": [
    {
     "data": {
      "text/plain": [
       "8"
      ]
     },
     "execution_count": 62,
     "metadata": {},
     "output_type": "execute_result"
    }
   ],
   "source": [
    "\"\"\"\n",
    "2,4 --> 4\n",
    "4,4 -->4\n",
    "4,6---> 6\n",
    "6,8----> 8\n",
    "\"\"\"\n",
    "reduce(lambda x,y :  x if x>y else y , l)"
   ]
  },
  {
   "cell_type": "code",
   "execution_count": null,
   "id": "24b18495",
   "metadata": {},
   "outputs": [],
   "source": [
    "\n",
    "\n"
   ]
  },
  {
   "cell_type": "code",
   "execution_count": 66,
   "id": "00e9e934",
   "metadata": {},
   "outputs": [
    {
     "data": {
      "text/plain": [
       "[2, 4, 6, 8]"
      ]
     },
     "execution_count": 66,
     "metadata": {},
     "output_type": "execute_result"
    }
   ],
   "source": [
    "#filter\n",
    "\n",
    "l=[1,3,2,4,5,6,7,8]\n",
    "\n",
    "list(filter(lambda x : x%2==0, l))"
   ]
  },
  {
   "cell_type": "code",
   "execution_count": 68,
   "id": "498d4456",
   "metadata": {},
   "outputs": [
    {
     "data": {
      "text/plain": [
       "[-3, -6]"
      ]
     },
     "execution_count": 68,
     "metadata": {},
     "output_type": "execute_result"
    }
   ],
   "source": [
    "\n",
    "l=[1,-3,2,4,5,-6,7,8]\n",
    "\n",
    "list(filter(lambda x : x<0, l))"
   ]
  },
  {
   "cell_type": "code",
   "execution_count": 69,
   "id": "d854a582",
   "metadata": {},
   "outputs": [
    {
     "data": {
      "text/plain": [
       "['abc', 'bcd']"
      ]
     },
     "execution_count": 69,
     "metadata": {},
     "output_type": "execute_result"
    }
   ],
   "source": [
    "\n",
    "l=[\"abc\",\"bcd\",\"hhhhhhhhh\"]\n",
    "\n",
    "list(filter(lambda x : len(x)<5, l))"
   ]
  },
  {
   "cell_type": "code",
   "execution_count": null,
   "id": "5206e65e",
   "metadata": {},
   "outputs": [],
   "source": []
  }
 ],
 "metadata": {
  "kernelspec": {
   "display_name": "Python 3 (ipykernel)",
   "language": "python",
   "name": "python3"
  },
  "language_info": {
   "codemirror_mode": {
    "name": "ipython",
    "version": 3
   },
   "file_extension": ".py",
   "mimetype": "text/x-python",
   "name": "python",
   "nbconvert_exporter": "python",
   "pygments_lexer": "ipython3",
   "version": "3.10.9"
  }
 },
 "nbformat": 4,
 "nbformat_minor": 5
}
