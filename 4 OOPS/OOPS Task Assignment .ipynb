{
 "cells": [
  {
   "cell_type": "code",
   "execution_count": 5,
   "id": "c61d6e47",
   "metadata": {},
   "outputs": [
    {
     "name": "stdout",
     "output_type": "stream",
     "text": [
      "Fortuner 120 30\n"
     ]
    }
   ],
   "source": [
    "# Q1, Create a vehicle class with an init method having instance variables as name_of_vehicle, max_speed\n",
    "# and average_of_vehicle.\n",
    "\n",
    "class vehicle:\n",
    "    name_of_vehicle=\"\"\n",
    "    max_speed=0\n",
    "    average_of_vehicle=0\n",
    "    def __init__(self,name_of_vehicle,max_speed,average_of_vehicle):\n",
    "        self.name_of_vehicle=name_of_vehicle\n",
    "        self.max_speed=max_speed\n",
    "        self.average_of_vehicle=average_of_vehicle\n",
    "        print(name_of_vehicle,max_speed,average_of_vehicle)\n",
    "veh=vehicle('Fortuner',120,30)"
   ]
  },
  {
   "cell_type": "code",
   "execution_count": null,
   "id": "a598dc21",
   "metadata": {},
   "outputs": [],
   "source": [
    "\n",
    "\n"
   ]
  },
  {
   "cell_type": "code",
   "execution_count": 7,
   "id": "17bdc7cd",
   "metadata": {},
   "outputs": [
    {
     "name": "stdout",
     "output_type": "stream",
     "text": [
      "Fortuner 120 30\n",
      "Fortuner has 6 seating capacity\n"
     ]
    }
   ],
   "source": [
    "# Q2. Create a child class car from the vehicle class created in Que 1, which will inherit the vehicle class.\n",
    "# Create a method named seating_capacity which takes capacity as an argument and returns the name of\n",
    "# the vehicle and its seating capacity.\n",
    "\n",
    "class car(vehicle):\n",
    "    def seating_capacity(self,capacity):\n",
    "        self.cap=capacity\n",
    "        print(f\"{self.name_of_vehicle} has {capacity} seating capacity\")\n",
    "car=car('Fortuner',120,30)\n",
    "car.seating_capacity(6)"
   ]
  },
  {
   "cell_type": "code",
   "execution_count": null,
   "id": "49bdaddb",
   "metadata": {},
   "outputs": [],
   "source": [
    "  \n",
    "    "
   ]
  },
  {
   "cell_type": "code",
   "execution_count": 9,
   "id": "c33bb777",
   "metadata": {},
   "outputs": [
    {
     "name": "stdout",
     "output_type": "stream",
     "text": [
      "Nikhil is 19 years old\n"
     ]
    }
   ],
   "source": [
    "# Q3. What is multiple inheritance? Write a python code to demonstrate multiple inheritance.\n",
    "\n",
    "#> Multiple inheritance means inheriting from two or more parent class\n",
    "class name:\n",
    "    def __init__(self,name):\n",
    "        self.name=name\n",
    "class age:\n",
    "    def __init__(self,age):\n",
    "        self.age=age\n",
    "class output(age,name):\n",
    "    def display(self):\n",
    "        print(f'{self.name} is {self.age} years old')\n",
    "out=output(19)\n",
    "out.name='Nikhil'\n",
    "out.display()"
   ]
  },
  {
   "cell_type": "code",
   "execution_count": null,
   "id": "0661f8c0",
   "metadata": {},
   "outputs": [],
   "source": [
    "\n",
    "\n"
   ]
  },
  {
   "cell_type": "code",
   "execution_count": 10,
   "id": "b5d56f3f",
   "metadata": {},
   "outputs": [
    {
     "name": "stdout",
     "output_type": "stream",
     "text": [
      "Square has four sides\n",
      "Triangle has three sides\n"
     ]
    }
   ],
   "source": [
    "# Q5.What is method overriding in python? Write a python code to demonstrate method overriding.\n",
    "\n",
    "#>Method overriding means when a method in a parent class is inherited and changes are made to that method.\n",
    "import abc\n",
    "class shape:\n",
    "    @abc.abstractclassmethod\n",
    "    def side(self):\n",
    "        pass\n",
    "    \n",
    "class square(shape):\n",
    "    def side(self):\n",
    "        print(\"Square has four sides\")\n",
    "        \n",
    "class triangle(shape):\n",
    "    def side(self):\n",
    "        print(\"Triangle has three sides\")\n",
    "        \n",
    "def poly(lis):\n",
    "    for i in lis:\n",
    "        i.side()\n",
    "sq=square()\n",
    "tr=triangle()\n",
    "ref=[sq,tr]\n",
    "poly(ref)"
   ]
  },
  {
   "cell_type": "code",
   "execution_count": null,
   "id": "5c30036a",
   "metadata": {},
   "outputs": [],
   "source": []
  }
 ],
 "metadata": {
  "kernelspec": {
   "display_name": "Python 3 (ipykernel)",
   "language": "python",
   "name": "python3"
  },
  "language_info": {
   "codemirror_mode": {
    "name": "ipython",
    "version": 3
   },
   "file_extension": ".py",
   "mimetype": "text/x-python",
   "name": "python",
   "nbconvert_exporter": "python",
   "pygments_lexer": "ipython3",
   "version": "3.10.9"
  }
 },
 "nbformat": 4,
 "nbformat_minor": 5
}
