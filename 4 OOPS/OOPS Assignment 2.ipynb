{
 "cells": [
  {
   "cell_type": "code",
   "execution_count": null,
   "id": "308762d5",
   "metadata": {},
   "outputs": [],
   "source": [
    "\"\"\"\n",
    "Q1. WHAT IS ABSTRACTION IN OOPS? EXPLAIN WITH AN EXAMPLE.\n",
    "\n",
    "-> Abstraction is a fundamental principle that allows us to simplify complex systems by\n",
    "   focusing on the essential features and hiding unnecessary details. \n",
    "\"\"\"\n",
    "import abc\n",
    "class human:\n",
    "    @abc.abstractclassmethod\n",
    "    def gender():\n",
    "        pass\n",
    "    @abc.abstractclassmethod\n",
    "    def profession():\n",
    "        pass\n",
    "    @abc.abstractclassmethod\n",
    "    def city():\n",
    "        pass\n",
    "class teacher(human):\n",
    "    def gender(self):\n",
    "        return \"female\"\n",
    "    def profession(self):\n",
    "        return \"Teacher\"\n",
    "    def city(self):\n",
    "        return \"Mumbai\"\n",
    "h=teacher()\n",
    "print(h.city())\n",
    "print(h.gender())\n",
    "print(h.profession())"
   ]
  },
  {
   "cell_type": "code",
   "execution_count": null,
   "id": "43b1cf0e",
   "metadata": {},
   "outputs": [],
   "source": []
  },
  {
   "cell_type": "code",
   "execution_count": null,
   "id": "c4c1f308",
   "metadata": {},
   "outputs": [],
   "source": [
    "\"\"\" \n",
    "Q2. DIFFERENTIATE BETWEEN ABSTRACTION AND ENCAPSULATION. EXPLAIN WITH AN EXAMPLE.\n",
    "\n",
    "-> Abstraction is the method of hiding the unwanted information. Whereas encapsulation \n",
    "   is a method to hide the data in a single entity or unit along with a method to protect information from outside.\n",
    "   \n",
    "-> Abstraction focus is on “what” should be done whereas Encapsulation focus is on “How” it should be done.\n",
    "\"\"\"\n",
    "#Encapsulation\n",
    "class Base:\n",
    "    def __init__(self,a):\n",
    "        self.__a=a\n",
    "        print(\"The updated number is\",+a)\n",
    "obj=Base(20)\n",
    "\n",
    "#Abstraction\n",
    "import abc\n",
    "class shape:\n",
    "    @abc.abstractclassmethod\n",
    "    def sides(self):\n",
    "        pass\n",
    "class triangle(shape):\n",
    "    def sides(self):\n",
    "        return \"Triangle has 3 sides\"\n",
    "class square(shape):\n",
    "    def sides(self):\n",
    "        return \"Square has 4 sides\"\n",
    "obj=triangle()\n",
    "obj1=square()\n",
    "print(obj.sides())\n",
    "print(obj1.sides())"
   ]
  },
  {
   "cell_type": "code",
   "execution_count": null,
   "id": "34cf216a",
   "metadata": {},
   "outputs": [],
   "source": []
  },
  {
   "cell_type": "code",
   "execution_count": null,
   "id": "aeded0f0",
   "metadata": {},
   "outputs": [],
   "source": [
    "\"\"\"\n",
    "Q3. WHAT IS ABC MODULE IN PYTHON? WHY IS IT USED?\n",
    "\n",
    "In Python, the ABC module refers to the \"Abstract Base Classes\" module.\n",
    "It is a built-in module that provides infrastructure for defining abstract base classes in Python. \n",
    "Abstract base classes are classes that cannot be instantiated but serve as a blueprint for subclasses.\n",
    "The ABC module is used for creating abstract base classes and defining abstract methods. \n",
    "\"\"\""
   ]
  },
  {
   "cell_type": "code",
   "execution_count": null,
   "id": "715d0421",
   "metadata": {},
   "outputs": [],
   "source": []
  },
  {
   "cell_type": "code",
   "execution_count": 3,
   "id": "b928dd92",
   "metadata": {},
   "outputs": [
    {
     "name": "stdout",
     "output_type": "stream",
     "text": [
      "Balance: 500\n",
      "Account Number: 1000167800\n",
      "Balance: 300\n"
     ]
    }
   ],
   "source": [
    "\"\"\"\n",
    "Q4. HOW CAN WE ACHIEVE DATA ABSTRACTION?\n",
    "\n",
    "steps to achieve data abstraction:\n",
    "> Encapsulate the data within the class by using access modifiers, such as private or protected, to make \n",
    "  them inaccessible from outside the class. Private data members are only accessible within the class itself.\n",
    "> Define public methods or functions within the class that allow the outside world to interact with the object's data.\n",
    "  These methods should provide a controlled interface to access and modify the internal data. By exposing only the necessary\n",
    "  methods, you hide the internal details and keep the implementation abstracted.\n",
    "> Use accessor (getters) and mutator (setters) methods to access and modify the private data members, respectively. \n",
    "  These methods provide controlled and validated access to the data, allowing abstraction by hiding the implementation details.\n",
    "  \n",
    "\"\"\"\n",
    "class BankAccount:\n",
    "    def __init__(self, account_number):\n",
    "        self.__account_number = account_number  # Private data member\n",
    "        self.__balance = 0\n",
    "\n",
    "    def deposit(self, amount):\n",
    "        self.__balance += amount\n",
    "\n",
    "    def withdraw(self, amount):\n",
    "        if self.__balance >= amount:\n",
    "            self.__balance -= amount\n",
    "        else:\n",
    "            print(\"Insufficient funds.\")\n",
    "\n",
    "    def get_balance(self):\n",
    "        return self.__balance\n",
    "\n",
    "    def get_account_number(self):\n",
    "        return self.__account_number\n",
    "\n",
    "    # Example of a public method that utilizes private data\n",
    "    def display_account_info(self):\n",
    "        print(f\"Account Number: {self.__account_number}\")\n",
    "        print(f\"Balance: {self.__balance}\")\n",
    "\n",
    "\n",
    "# Creating an object of the BankAccount class\n",
    "account = BankAccount(\"1000167800\")\n",
    "\n",
    "# Using public methods to interact with the object's data\n",
    "\n",
    "account.deposit(500)\n",
    "balance = account.get_balance()\n",
    "print(f\"Balance: {balance}\")\n",
    "account.withdraw(200)\n",
    "account.display_account_info()\n",
    "\n"
   ]
  },
  {
   "cell_type": "code",
   "execution_count": null,
   "id": "19d834e0",
   "metadata": {},
   "outputs": [],
   "source": []
  },
  {
   "cell_type": "code",
   "execution_count": null,
   "id": "b5458566",
   "metadata": {},
   "outputs": [],
   "source": [
    "\"\"\"\n",
    "Q5. CAN WE CREATE AN INSTANCE OF AN ABSTRACT CLASS? EXPLAIN YOUR ANSWER.\n",
    "\n",
    "No, we cannot create an instance of an abstract class in most programming languages, including Python.\n",
    "Abstract classes are designed to be incomplete and serve as a blueprint for subclasses to inherit from.\n",
    "They define the structure, common interface, and possibly some default behavior for the subclasses to follow.\n",
    "\n",
    "\"\"\""
   ]
  }
 ],
 "metadata": {
  "kernelspec": {
   "display_name": "Python 3 (ipykernel)",
   "language": "python",
   "name": "python3"
  },
  "language_info": {
   "codemirror_mode": {
    "name": "ipython",
    "version": 3
   },
   "file_extension": ".py",
   "mimetype": "text/x-python",
   "name": "python",
   "nbconvert_exporter": "python",
   "pygments_lexer": "ipython3",
   "version": "3.10.9"
  }
 },
 "nbformat": 4,
 "nbformat_minor": 5
}
