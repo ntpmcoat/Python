{
 "cells": [
  {
   "cell_type": "markdown",
   "id": "41b75223",
   "metadata": {},
   "source": [
    "\n",
    "                                                OOPS\n",
    "                                                "
   ]
  },
  {
   "cell_type": "code",
   "execution_count": 1,
   "id": "5f9688de",
   "metadata": {},
   "outputs": [
    {
     "data": {
      "text/plain": [
       "__main__.x"
      ]
     },
     "execution_count": 1,
     "metadata": {},
     "output_type": "execute_result"
    }
   ],
   "source": [
    "# how to create class following example creates class if we dont write pass gives incompkete error   \n",
    "class x :\n",
    "    pass\n",
    "# way to create variable of it \n",
    "a= x()\n",
    "type(a)"
   ]
  },
  {
   "cell_type": "code",
   "execution_count": 11,
   "id": "86c5d954",
   "metadata": {},
   "outputs": [
    {
     "data": {
      "text/plain": [
       "__main__.pw"
      ]
     },
     "execution_count": 11,
     "metadata": {},
     "output_type": "execute_result"
    }
   ],
   "source": [
    "#every function inside class need to be binded with class using self\n",
    "class pw :\n",
    "    def wel_msg(self) :\n",
    "        print(\"Welcome\")\n",
    "        \n",
    "ro =pw()\n",
    "type(ro)"
   ]
  },
  {
   "cell_type": "code",
   "execution_count": 10,
   "id": "3a8820e1",
   "metadata": {},
   "outputs": [
    {
     "ename": "TypeError",
     "evalue": "pw.wel_msg() takes 0 positional arguments but 1 was given",
     "output_type": "error",
     "traceback": [
      "\u001b[1;31m---------------------------------------------------------------------------\u001b[0m",
      "\u001b[1;31mTypeError\u001b[0m                                 Traceback (most recent call last)",
      "Cell \u001b[1;32mIn[10], line 2\u001b[0m\n\u001b[0;32m      1\u001b[0m \u001b[38;5;66;03m#without self\u001b[39;00m\n\u001b[1;32m----> 2\u001b[0m \u001b[43mro\u001b[49m\u001b[38;5;241;43m.\u001b[39;49m\u001b[43mwel_msg\u001b[49m\u001b[43m(\u001b[49m\u001b[43m)\u001b[49m\n",
      "\u001b[1;31mTypeError\u001b[0m: pw.wel_msg() takes 0 positional arguments but 1 was given"
     ]
    }
   ],
   "source": [
    "#without self\n",
    "ro.wel_msg()"
   ]
  },
  {
   "cell_type": "code",
   "execution_count": 12,
   "id": "ca42f8b3",
   "metadata": {},
   "outputs": [
    {
     "name": "stdout",
     "output_type": "stream",
     "text": [
      "Welcome\n"
     ]
    }
   ],
   "source": [
    "#with self\n",
    "ro.wel_msg()"
   ]
  },
  {
   "cell_type": "code",
   "execution_count": 13,
   "id": "1dd81f3c",
   "metadata": {},
   "outputs": [],
   "source": [
    "# to pass  an input to class  for respective object then need to create constructor\n",
    "class pwskill :\n",
    "    \n",
    "    def __init__(self, ph, email):   \n",
    "        self.ph=ph         # with self(not necessary / not a keyword) it is not necessary to have same name it is just class variable\n",
    "        self.email=email\n",
    "        \n",
    "    def ret(self):\n",
    "        return self.ph,self.email"
   ]
  },
  {
   "cell_type": "code",
   "execution_count": 14,
   "id": "ae7ca50f",
   "metadata": {},
   "outputs": [
    {
     "ename": "TypeError",
     "evalue": "pwskill.__init__() missing 2 required positional arguments: 'ph' and 'email'",
     "output_type": "error",
     "traceback": [
      "\u001b[1;31m---------------------------------------------------------------------------\u001b[0m",
      "\u001b[1;31mTypeError\u001b[0m                                 Traceback (most recent call last)",
      "Cell \u001b[1;32mIn[14], line 1\u001b[0m\n\u001b[1;32m----> 1\u001b[0m ro\u001b[38;5;241m=\u001b[39m\u001b[43mpwskill\u001b[49m\u001b[43m(\u001b[49m\u001b[43m)\u001b[49m\n",
      "\u001b[1;31mTypeError\u001b[0m: pwskill.__init__() missing 2 required positional arguments: 'ph' and 'email'"
     ]
    }
   ],
   "source": [
    "ro=pwskill()"
   ]
  },
  {
   "cell_type": "code",
   "execution_count": 20,
   "id": "c981d436",
   "metadata": {},
   "outputs": [
    {
     "name": "stdout",
     "output_type": "stream",
     "text": [
      "(67890, 'p@e')\n",
      "==== 67890 p@e\n",
      "(12345, 'n@s')\n"
     ]
    }
   ],
   "source": [
    "ro=pwskill(12345, \"n@s\")\n",
    "x=pwskill(67890, \"p@e\")\n",
    "\n",
    "print(x.ret())\n",
    "print(\"====\",x.ph,x.email)\n",
    "print(ro.ret())"
   ]
  },
  {
   "cell_type": "code",
   "execution_count": null,
   "id": "ccd6df91",
   "metadata": {},
   "outputs": [],
   "source": [
    "   \n",
    "    \n",
    "    "
   ]
  },
  {
   "cell_type": "markdown",
   "id": "57b447ff",
   "metadata": {},
   "source": [
    " POLYMORPHISM\n",
    "\n",
    "=>"
   ]
  },
  {
   "cell_type": "code",
   "execution_count": 7,
   "id": "406151c5",
   "metadata": {},
   "outputs": [
    {
     "name": "stdout",
     "output_type": "stream",
     "text": [
      "hi\n",
      "hiiiiiiii\n"
     ]
    }
   ],
   "source": [
    "class x : \n",
    "    def hi(self):\n",
    "        print(\"hi\")\n",
    "        \n",
    "class y : \n",
    "    def hi(self):\n",
    "        print(\"hiiiiiiii\")\n",
    "        \n",
    "        \n",
    "def caller(ob):\n",
    "    for i in ob :\n",
    "        i.hi()\n",
    "        \n",
    "X = x()\n",
    "Y = y()\n",
    "ob=[X,Y]\n",
    "caller(ob)"
   ]
  },
  {
   "cell_type": "code",
   "execution_count": null,
   "id": "83367e30",
   "metadata": {},
   "outputs": [],
   "source": [
    "\n",
    "\n"
   ]
  },
  {
   "cell_type": "markdown",
   "id": "19c04864",
   "metadata": {},
   "source": [
    "ENCAPSULATION\n",
    "\n",
    "=>concept used so that user can't see variables in class \n",
    "=> user must be able to see only those of which it has privileges i.e public\n",
    "=>achived through double underscore"
   ]
  },
  {
   "cell_type": "code",
   "execution_count": 20,
   "id": "7017c972",
   "metadata": {},
   "outputs": [],
   "source": [
    "class car:\n",
    "    def __init__(s, y,m,sp):\n",
    "        s.y=y\n",
    "        s.__m=m\n",
    "        s.__sp=sp\n",
    "        \n",
    "    def set_sp(s,sp):\n",
    "        s.__sp= 0 if sp<0 else sp\n",
    "    def get_sp(s):\n",
    "        return s.__sp\n",
    "        \n",
    "c=car(2019,\"Toyota\", 12)"
   ]
  },
  {
   "cell_type": "code",
   "execution_count": 11,
   "id": "35247845",
   "metadata": {},
   "outputs": [
    {
     "data": {
      "text/plain": [
       "2019"
      ]
     },
     "execution_count": 11,
     "metadata": {},
     "output_type": "execute_result"
    }
   ],
   "source": [
    "c.y"
   ]
  },
  {
   "cell_type": "code",
   "execution_count": 12,
   "id": "3e13b529",
   "metadata": {},
   "outputs": [
    {
     "ename": "AttributeError",
     "evalue": "'car' object has no attribute 'm'",
     "output_type": "error",
     "traceback": [
      "\u001b[1;31m---------------------------------------------------------------------------\u001b[0m",
      "\u001b[1;31mAttributeError\u001b[0m                            Traceback (most recent call last)",
      "Cell \u001b[1;32mIn[12], line 1\u001b[0m\n\u001b[1;32m----> 1\u001b[0m \u001b[43mc\u001b[49m\u001b[38;5;241;43m.\u001b[39;49m\u001b[43mm\u001b[49m\n",
      "\u001b[1;31mAttributeError\u001b[0m: 'car' object has no attribute 'm'"
     ]
    }
   ],
   "source": [
    "c.m"
   ]
  },
  {
   "cell_type": "code",
   "execution_count": 15,
   "id": "5b705ef0",
   "metadata": {},
   "outputs": [
    {
     "data": {
      "text/plain": [
       "'Toyota'"
      ]
     },
     "execution_count": 15,
     "metadata": {},
     "output_type": "execute_result"
    }
   ],
   "source": [
    "c._car__m"
   ]
  },
  {
   "cell_type": "code",
   "execution_count": 21,
   "id": "70252c9c",
   "metadata": {},
   "outputs": [],
   "source": [
    "c.set_sp(102)"
   ]
  },
  {
   "cell_type": "code",
   "execution_count": 22,
   "id": "f95ad730",
   "metadata": {},
   "outputs": [
    {
     "ename": "AttributeError",
     "evalue": "'car' object has no attribute 'sp'",
     "output_type": "error",
     "traceback": [
      "\u001b[1;31m---------------------------------------------------------------------------\u001b[0m",
      "\u001b[1;31mAttributeError\u001b[0m                            Traceback (most recent call last)",
      "Cell \u001b[1;32mIn[22], line 1\u001b[0m\n\u001b[1;32m----> 1\u001b[0m \u001b[43mc\u001b[49m\u001b[38;5;241;43m.\u001b[39;49m\u001b[43msp\u001b[49m\n",
      "\u001b[1;31mAttributeError\u001b[0m: 'car' object has no attribute 'sp'"
     ]
    }
   ],
   "source": [
    "c.sp"
   ]
  },
  {
   "cell_type": "code",
   "execution_count": 23,
   "id": "1390278c",
   "metadata": {},
   "outputs": [
    {
     "data": {
      "text/plain": [
       "102"
      ]
     },
     "execution_count": 23,
     "metadata": {},
     "output_type": "execute_result"
    }
   ],
   "source": [
    "c.get_sp()"
   ]
  },
  {
   "cell_type": "code",
   "execution_count": 26,
   "id": "1cb0107b",
   "metadata": {},
   "outputs": [],
   "source": [
    "\n",
    "class bank_account:\n",
    "    def __init__(self, bal):\n",
    "        self.__bal=bal\n",
    "    \n",
    "    def deposit(s, amt):\n",
    "        s.__bal=s.__bal+amt\n",
    "        \n",
    "    def withdraw(s, amt):\n",
    "        if s.__bal>=amt :\n",
    "            s.__bal = s.__bal-amt\n",
    "            return True\n",
    "        else:\n",
    "            return False\n",
    "    def bal(s):\n",
    "        return s.__bal\n",
    "    \n"
   ]
  },
  {
   "cell_type": "code",
   "execution_count": 28,
   "id": "340b4377",
   "metadata": {},
   "outputs": [],
   "source": [
    "sp = bank_account(1000)\n"
   ]
  },
  {
   "cell_type": "code",
   "execution_count": 29,
   "id": "93cd993c",
   "metadata": {},
   "outputs": [
    {
     "data": {
      "text/plain": [
       "1000"
      ]
     },
     "execution_count": 29,
     "metadata": {},
     "output_type": "execute_result"
    }
   ],
   "source": [
    "sp.bal()"
   ]
  },
  {
   "cell_type": "code",
   "execution_count": 30,
   "id": "4e300081",
   "metadata": {},
   "outputs": [],
   "source": [
    "sp.deposit(100)"
   ]
  },
  {
   "cell_type": "code",
   "execution_count": 31,
   "id": "0d2b021b",
   "metadata": {},
   "outputs": [
    {
     "data": {
      "text/plain": [
       "False"
      ]
     },
     "execution_count": 31,
     "metadata": {},
     "output_type": "execute_result"
    }
   ],
   "source": [
    "sp.withdraw(10000)"
   ]
  },
  {
   "cell_type": "code",
   "execution_count": 34,
   "id": "39827f0b",
   "metadata": {},
   "outputs": [
    {
     "data": {
      "text/plain": [
       "True"
      ]
     },
     "execution_count": 34,
     "metadata": {},
     "output_type": "execute_result"
    }
   ],
   "source": [
    "sp.withdraw(1100)"
   ]
  },
  {
   "cell_type": "code",
   "execution_count": 35,
   "id": "ac88fc95",
   "metadata": {},
   "outputs": [
    {
     "data": {
      "text/plain": [
       "0"
      ]
     },
     "execution_count": 35,
     "metadata": {},
     "output_type": "execute_result"
    }
   ],
   "source": [
    "sp.bal()"
   ]
  },
  {
   "cell_type": "code",
   "execution_count": null,
   "id": "e5c6b3d0",
   "metadata": {},
   "outputs": [],
   "source": [
    "\n",
    "\n"
   ]
  },
  {
   "cell_type": "markdown",
   "id": "3593c0ce",
   "metadata": {},
   "source": [
    "INHERITANCE\n",
    "\n",
    "=>def"
   ]
  },
  {
   "cell_type": "code",
   "execution_count": 37,
   "id": "a6b32a14",
   "metadata": {},
   "outputs": [],
   "source": [
    "class t:\n",
    "    def t_math(se):\n",
    "        return \"100\"\n",
    "\n",
    "class t1(t):\n",
    "    pass\n",
    "\n",
    "t1_ob = t1()"
   ]
  },
  {
   "cell_type": "code",
   "execution_count": 41,
   "id": "9ff657f6",
   "metadata": {},
   "outputs": [
    {
     "data": {
      "text/plain": [
       "'100'"
      ]
     },
     "execution_count": 41,
     "metadata": {},
     "output_type": "execute_result"
    }
   ],
   "source": [
    "t1_ob.t_math()"
   ]
  },
  {
   "cell_type": "code",
   "execution_count": 43,
   "id": "a1a45a3f",
   "metadata": {},
   "outputs": [],
   "source": [
    "# multilevel\n",
    "\n",
    "class c1 : \n",
    "    def p1(se):\n",
    "        print(\"c1\")\n",
    "        \n",
    "class c2(c1):\n",
    "    def p2(se):\n",
    "        print(\"c2\")\n",
    "        \n",
    "class c3(c2):\n",
    "    def p3(se):\n",
    "        print(\"c3\")\n",
    "\n",
    "ob= c3()"
   ]
  },
  {
   "cell_type": "code",
   "execution_count": 45,
   "id": "5f1cddcb",
   "metadata": {},
   "outputs": [
    {
     "name": "stdout",
     "output_type": "stream",
     "text": [
      "c1\n",
      "c2\n",
      "c3\n"
     ]
    }
   ],
   "source": [
    "ob.p1()\n",
    "ob.p2()\n",
    "ob.p3()"
   ]
  },
  {
   "cell_type": "code",
   "execution_count": null,
   "id": "c5c28db2",
   "metadata": {},
   "outputs": [],
   "source": []
  },
  {
   "cell_type": "code",
   "execution_count": 48,
   "id": "c2f04a7e",
   "metadata": {},
   "outputs": [],
   "source": [
    "# Multiple\n",
    "\n",
    "class p1 : \n",
    "    def p1(se):\n",
    "        print(\"c1\")\n",
    "        \n",
    "class p2:\n",
    "    def p2(se):\n",
    "        print(\"c2\")\n",
    "        \n",
    "class c(p1,p2):\n",
    "    pass\n",
    "ob= c()"
   ]
  },
  {
   "cell_type": "code",
   "execution_count": 49,
   "id": "b32a8c2e",
   "metadata": {},
   "outputs": [
    {
     "name": "stdout",
     "output_type": "stream",
     "text": [
      "c1\n",
      "c2\n"
     ]
    }
   ],
   "source": [
    "ob.p1()\n",
    "ob.p2()"
   ]
  },
  {
   "cell_type": "code",
   "execution_count": null,
   "id": "1664090d",
   "metadata": {},
   "outputs": [],
   "source": [
    "\n",
    "\n",
    "\n"
   ]
  },
  {
   "cell_type": "markdown",
   "id": "9fed0db6",
   "metadata": {},
   "source": [
    "Abstraction\n",
    "\n",
    "=>used to create blue print \n",
    "=>just implement and define it as you want from parent class"
   ]
  },
  {
   "cell_type": "code",
   "execution_count": 50,
   "id": "185a7e41",
   "metadata": {},
   "outputs": [],
   "source": [
    "import abc\n",
    "class ccl : \n",
    "    @abc.abstractmethod\n",
    "    def p1(se):\n",
    "        pass\n",
    "    \n",
    "    @abc.abstractmethod\n",
    "    def p2(se):\n",
    "        pass\n",
    "      \n",
    "    @abc.abstractmethod   \n",
    "    def p3(se):\n",
    "        pass"
   ]
  },
  {
   "cell_type": "code",
   "execution_count": 58,
   "id": "55d52b51",
   "metadata": {},
   "outputs": [],
   "source": [
    "class std(ccl):\n",
    "    def p1(se):\n",
    "        return \"ff\"\n",
    "    \n",
    "    def p2(se):\n",
    "        return \"gg\"\n",
    "    \n",
    "class dd(ccl):\n",
    "    def p3(se):\n",
    "        return \"sccl\""
   ]
  },
  {
   "cell_type": "code",
   "execution_count": 61,
   "id": "97ffc925",
   "metadata": {},
   "outputs": [
    {
     "data": {
      "text/plain": [
       "'ff'"
      ]
     },
     "execution_count": 61,
     "metadata": {},
     "output_type": "execute_result"
    }
   ],
   "source": [
    "st=std()\n",
    "c=dd()\n",
    "\n",
    "st.p1()"
   ]
  },
  {
   "cell_type": "code",
   "execution_count": 62,
   "id": "2f1be576",
   "metadata": {},
   "outputs": [
    {
     "data": {
      "text/plain": [
       "'sccl'"
      ]
     },
     "execution_count": 62,
     "metadata": {},
     "output_type": "execute_result"
    }
   ],
   "source": [
    "c.p3()"
   ]
  },
  {
   "cell_type": "code",
   "execution_count": null,
   "id": "ed464155",
   "metadata": {},
   "outputs": [],
   "source": []
  }
 ],
 "metadata": {
  "kernelspec": {
   "display_name": "Python 3 (ipykernel)",
   "language": "python",
   "name": "python3"
  },
  "language_info": {
   "codemirror_mode": {
    "name": "ipython",
    "version": 3
   },
   "file_extension": ".py",
   "mimetype": "text/x-python",
   "name": "python",
   "nbconvert_exporter": "python",
   "pygments_lexer": "ipython3",
   "version": "3.10.9"
  }
 },
 "nbformat": 4,
 "nbformat_minor": 5
}
