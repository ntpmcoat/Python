{
 "cells": [
  {
   "cell_type": "markdown",
   "id": "41b75223",
   "metadata": {},
   "source": [
    "\n",
    "                                                OOPS\n",
    "                                                "
   ]
  },
  {
   "cell_type": "code",
   "execution_count": 1,
   "id": "5f9688de",
   "metadata": {},
   "outputs": [
    {
     "data": {
      "text/plain": [
       "__main__.x"
      ]
     },
     "execution_count": 1,
     "metadata": {},
     "output_type": "execute_result"
    }
   ],
   "source": [
    "# how to create class following example creates class if we dont write pass gives incompkete error   \n",
    "class x :\n",
    "    pass\n",
    "# way to create variable of it \n",
    "a= x()\n",
    "type(a)"
   ]
  },
  {
   "cell_type": "code",
   "execution_count": 11,
   "id": "86c5d954",
   "metadata": {},
   "outputs": [
    {
     "data": {
      "text/plain": [
       "__main__.pw"
      ]
     },
     "execution_count": 11,
     "metadata": {},
     "output_type": "execute_result"
    }
   ],
   "source": [
    "#every function inside class need to be binded with class using self\n",
    "class pw :\n",
    "    def wel_msg(self) :\n",
    "        print(\"Welcome\")\n",
    "        \n",
    "ro =pw()\n",
    "type(ro)"
   ]
  },
  {
   "cell_type": "code",
   "execution_count": 10,
   "id": "3a8820e1",
   "metadata": {},
   "outputs": [
    {
     "ename": "TypeError",
     "evalue": "pw.wel_msg() takes 0 positional arguments but 1 was given",
     "output_type": "error",
     "traceback": [
      "\u001b[1;31m---------------------------------------------------------------------------\u001b[0m",
      "\u001b[1;31mTypeError\u001b[0m                                 Traceback (most recent call last)",
      "Cell \u001b[1;32mIn[10], line 2\u001b[0m\n\u001b[0;32m      1\u001b[0m \u001b[38;5;66;03m#without self\u001b[39;00m\n\u001b[1;32m----> 2\u001b[0m \u001b[43mro\u001b[49m\u001b[38;5;241;43m.\u001b[39;49m\u001b[43mwel_msg\u001b[49m\u001b[43m(\u001b[49m\u001b[43m)\u001b[49m\n",
      "\u001b[1;31mTypeError\u001b[0m: pw.wel_msg() takes 0 positional arguments but 1 was given"
     ]
    }
   ],
   "source": [
    "#without self\n",
    "ro.wel_msg()"
   ]
  },
  {
   "cell_type": "code",
   "execution_count": 12,
   "id": "ca42f8b3",
   "metadata": {},
   "outputs": [
    {
     "name": "stdout",
     "output_type": "stream",
     "text": [
      "Welcome\n"
     ]
    }
   ],
   "source": [
    "#with self\n",
    "ro.wel_msg()"
   ]
  },
  {
   "cell_type": "code",
   "execution_count": 13,
   "id": "1dd81f3c",
   "metadata": {},
   "outputs": [],
   "source": [
    "# to pass  an input to class  for respective object then need to create constructor\n",
    "class pwskill :\n",
    "    \n",
    "    def __init__(self, ph, email):   \n",
    "        self.ph=ph         # with self(not necessary / not a keyword) it is not necessary to have same name it is just class variable\n",
    "        self.email=email\n",
    "        \n",
    "    def ret(self):\n",
    "        return self.ph,self.email"
   ]
  },
  {
   "cell_type": "code",
   "execution_count": 14,
   "id": "ae7ca50f",
   "metadata": {},
   "outputs": [
    {
     "ename": "TypeError",
     "evalue": "pwskill.__init__() missing 2 required positional arguments: 'ph' and 'email'",
     "output_type": "error",
     "traceback": [
      "\u001b[1;31m---------------------------------------------------------------------------\u001b[0m",
      "\u001b[1;31mTypeError\u001b[0m                                 Traceback (most recent call last)",
      "Cell \u001b[1;32mIn[14], line 1\u001b[0m\n\u001b[1;32m----> 1\u001b[0m ro\u001b[38;5;241m=\u001b[39m\u001b[43mpwskill\u001b[49m\u001b[43m(\u001b[49m\u001b[43m)\u001b[49m\n",
      "\u001b[1;31mTypeError\u001b[0m: pwskill.__init__() missing 2 required positional arguments: 'ph' and 'email'"
     ]
    }
   ],
   "source": [
    "ro=pwskill()"
   ]
  },
  {
   "cell_type": "code",
   "execution_count": 20,
   "id": "c981d436",
   "metadata": {},
   "outputs": [
    {
     "name": "stdout",
     "output_type": "stream",
     "text": [
      "(67890, 'p@e')\n",
      "==== 67890 p@e\n",
      "(12345, 'n@s')\n"
     ]
    }
   ],
   "source": [
    "ro=pwskill(12345, \"n@s\")\n",
    "x=pwskill(67890, \"p@e\")\n",
    "\n",
    "print(x.ret())\n",
    "print(\"====\",x.ph,x.email)\n",
    "print(ro.ret())"
   ]
  },
  {
   "cell_type": "code",
   "execution_count": null,
   "id": "ccd6df91",
   "metadata": {},
   "outputs": [],
   "source": [
    "   \n",
    "    \n",
    "    "
   ]
  },
  {
   "cell_type": "markdown",
   "id": "57b447ff",
   "metadata": {},
   "source": [
    " POLYMORPHISM\n",
    "\n",
    "=>"
   ]
  },
  {
   "cell_type": "code",
   "execution_count": 7,
   "id": "406151c5",
   "metadata": {},
   "outputs": [
    {
     "name": "stdout",
     "output_type": "stream",
     "text": [
      "hi\n",
      "hiiiiiiii\n"
     ]
    }
   ],
   "source": [
    "class x : \n",
    "    def hi(self):\n",
    "        print(\"hi\")\n",
    "        \n",
    "class y : \n",
    "    def hi(self):\n",
    "        print(\"hiiiiiiii\")\n",
    "        \n",
    "        \n",
    "def caller(ob):\n",
    "    for i in ob :\n",
    "        i.hi()\n",
    "        \n",
    "X = x()\n",
    "Y = y()\n",
    "ob=[X,Y]\n",
    "caller(ob)"
   ]
  },
  {
   "cell_type": "code",
   "execution_count": null,
   "id": "83367e30",
   "metadata": {},
   "outputs": [],
   "source": [
    "\n",
    "\n"
   ]
  },
  {
   "cell_type": "markdown",
   "id": "19c04864",
   "metadata": {},
   "source": [
    "ENCAPSULATION\n",
    "\n",
    "=>concept used so that user can't see variables in class \n",
    "=> user must be able to see only those of which it has privileges i.e public\n",
    "=>achived through double underscore"
   ]
  },
  {
   "cell_type": "code",
   "execution_count": 20,
   "id": "7017c972",
   "metadata": {},
   "outputs": [],
   "source": [
    "class car:\n",
    "    def __init__(s, y,m,sp):\n",
    "        s.y=y\n",
    "        s.__m=m\n",
    "        s.__sp=sp\n",
    "        \n",
    "    def set_sp(s,sp):\n",
    "        s.__sp= 0 if sp<0 else sp\n",
    "    def get_sp(s):\n",
    "        return s.__sp\n",
    "        \n",
    "c=car(2019,\"Toyota\", 12)"
   ]
  },
  {
   "cell_type": "code",
   "execution_count": 11,
   "id": "35247845",
   "metadata": {},
   "outputs": [
    {
     "data": {
      "text/plain": [
       "2019"
      ]
     },
     "execution_count": 11,
     "metadata": {},
     "output_type": "execute_result"
    }
   ],
   "source": [
    "c.y"
   ]
  },
  {
   "cell_type": "code",
   "execution_count": 12,
   "id": "3e13b529",
   "metadata": {},
   "outputs": [
    {
     "ename": "AttributeError",
     "evalue": "'car' object has no attribute 'm'",
     "output_type": "error",
     "traceback": [
      "\u001b[1;31m---------------------------------------------------------------------------\u001b[0m",
      "\u001b[1;31mAttributeError\u001b[0m                            Traceback (most recent call last)",
      "Cell \u001b[1;32mIn[12], line 1\u001b[0m\n\u001b[1;32m----> 1\u001b[0m \u001b[43mc\u001b[49m\u001b[38;5;241;43m.\u001b[39;49m\u001b[43mm\u001b[49m\n",
      "\u001b[1;31mAttributeError\u001b[0m: 'car' object has no attribute 'm'"
     ]
    }
   ],
   "source": [
    "c.m"
   ]
  },
  {
   "cell_type": "code",
   "execution_count": 15,
   "id": "5b705ef0",
   "metadata": {},
   "outputs": [
    {
     "data": {
      "text/plain": [
       "'Toyota'"
      ]
     },
     "execution_count": 15,
     "metadata": {},
     "output_type": "execute_result"
    }
   ],
   "source": [
    "c._car__m"
   ]
  },
  {
   "cell_type": "code",
   "execution_count": 21,
   "id": "70252c9c",
   "metadata": {},
   "outputs": [],
   "source": [
    "c.set_sp(102)"
   ]
  },
  {
   "cell_type": "code",
   "execution_count": 22,
   "id": "f95ad730",
   "metadata": {},
   "outputs": [
    {
     "ename": "AttributeError",
     "evalue": "'car' object has no attribute 'sp'",
     "output_type": "error",
     "traceback": [
      "\u001b[1;31m---------------------------------------------------------------------------\u001b[0m",
      "\u001b[1;31mAttributeError\u001b[0m                            Traceback (most recent call last)",
      "Cell \u001b[1;32mIn[22], line 1\u001b[0m\n\u001b[1;32m----> 1\u001b[0m \u001b[43mc\u001b[49m\u001b[38;5;241;43m.\u001b[39;49m\u001b[43msp\u001b[49m\n",
      "\u001b[1;31mAttributeError\u001b[0m: 'car' object has no attribute 'sp'"
     ]
    }
   ],
   "source": [
    "c.sp"
   ]
  },
  {
   "cell_type": "code",
   "execution_count": 23,
   "id": "1390278c",
   "metadata": {},
   "outputs": [
    {
     "data": {
      "text/plain": [
       "102"
      ]
     },
     "execution_count": 23,
     "metadata": {},
     "output_type": "execute_result"
    }
   ],
   "source": [
    "c.get_sp()"
   ]
  },
  {
   "cell_type": "code",
   "execution_count": 26,
   "id": "1cb0107b",
   "metadata": {},
   "outputs": [],
   "source": [
    "\n",
    "class bank_account:\n",
    "    def __init__(self, bal):\n",
    "        self.__bal=bal\n",
    "    \n",
    "    def deposit(s, amt):\n",
    "        s.__bal=s.__bal+amt\n",
    "        \n",
    "    def withdraw(s, amt):\n",
    "        if s.__bal>=amt :\n",
    "            s.__bal = s.__bal-amt\n",
    "            return True\n",
    "        else:\n",
    "            return False\n",
    "    def bal(s):\n",
    "        return s.__bal\n",
    "    \n"
   ]
  },
  {
   "cell_type": "code",
   "execution_count": 28,
   "id": "340b4377",
   "metadata": {},
   "outputs": [],
   "source": [
    "sp = bank_account(1000)\n"
   ]
  },
  {
   "cell_type": "code",
   "execution_count": 29,
   "id": "93cd993c",
   "metadata": {},
   "outputs": [
    {
     "data": {
      "text/plain": [
       "1000"
      ]
     },
     "execution_count": 29,
     "metadata": {},
     "output_type": "execute_result"
    }
   ],
   "source": [
    "sp.bal()"
   ]
  },
  {
   "cell_type": "code",
   "execution_count": 30,
   "id": "4e300081",
   "metadata": {},
   "outputs": [],
   "source": [
    "sp.deposit(100)"
   ]
  },
  {
   "cell_type": "code",
   "execution_count": 31,
   "id": "0d2b021b",
   "metadata": {},
   "outputs": [
    {
     "data": {
      "text/plain": [
       "False"
      ]
     },
     "execution_count": 31,
     "metadata": {},
     "output_type": "execute_result"
    }
   ],
   "source": [
    "sp.withdraw(10000)"
   ]
  },
  {
   "cell_type": "code",
   "execution_count": 34,
   "id": "39827f0b",
   "metadata": {},
   "outputs": [
    {
     "data": {
      "text/plain": [
       "True"
      ]
     },
     "execution_count": 34,
     "metadata": {},
     "output_type": "execute_result"
    }
   ],
   "source": [
    "sp.withdraw(1100)"
   ]
  },
  {
   "cell_type": "code",
   "execution_count": 35,
   "id": "ac88fc95",
   "metadata": {},
   "outputs": [
    {
     "data": {
      "text/plain": [
       "0"
      ]
     },
     "execution_count": 35,
     "metadata": {},
     "output_type": "execute_result"
    }
   ],
   "source": [
    "sp.bal()"
   ]
  },
  {
   "cell_type": "code",
   "execution_count": null,
   "id": "e5c6b3d0",
   "metadata": {},
   "outputs": [],
   "source": [
    "\n",
    "\n"
   ]
  },
  {
   "cell_type": "markdown",
   "id": "3593c0ce",
   "metadata": {},
   "source": [
    "INHERITANCE\n",
    "\n",
    "=>def"
   ]
  },
  {
   "cell_type": "code",
   "execution_count": 37,
   "id": "a6b32a14",
   "metadata": {},
   "outputs": [],
   "source": [
    "class t:\n",
    "    def t_math(se):\n",
    "        return \"100\"\n",
    "\n",
    "class t1(t):\n",
    "    pass\n",
    "\n",
    "t1_ob = t1()"
   ]
  },
  {
   "cell_type": "code",
   "execution_count": 41,
   "id": "9ff657f6",
   "metadata": {},
   "outputs": [
    {
     "data": {
      "text/plain": [
       "'100'"
      ]
     },
     "execution_count": 41,
     "metadata": {},
     "output_type": "execute_result"
    }
   ],
   "source": [
    "t1_ob.t_math()"
   ]
  },
  {
   "cell_type": "code",
   "execution_count": 43,
   "id": "a1a45a3f",
   "metadata": {},
   "outputs": [],
   "source": [
    "# multilevel\n",
    "\n",
    "class c1 : \n",
    "    def p1(se):\n",
    "        print(\"c1\")\n",
    "        \n",
    "class c2(c1):\n",
    "    def p2(se):\n",
    "        print(\"c2\")\n",
    "        \n",
    "class c3(c2):\n",
    "    def p3(se):\n",
    "        print(\"c3\")\n",
    "\n",
    "ob= c3()"
   ]
  },
  {
   "cell_type": "code",
   "execution_count": 45,
   "id": "5f1cddcb",
   "metadata": {},
   "outputs": [
    {
     "name": "stdout",
     "output_type": "stream",
     "text": [
      "c1\n",
      "c2\n",
      "c3\n"
     ]
    }
   ],
   "source": [
    "ob.p1()\n",
    "ob.p2()\n",
    "ob.p3()"
   ]
  },
  {
   "cell_type": "code",
   "execution_count": null,
   "id": "c5c28db2",
   "metadata": {},
   "outputs": [],
   "source": []
  },
  {
   "cell_type": "code",
   "execution_count": 48,
   "id": "c2f04a7e",
   "metadata": {},
   "outputs": [],
   "source": [
    "# Multiple\n",
    "\n",
    "class p1 : \n",
    "    def p1(se):\n",
    "        print(\"c1\")\n",
    "        \n",
    "class p2:\n",
    "    def p2(se):\n",
    "        print(\"c2\")\n",
    "        \n",
    "class c(p1,p2):\n",
    "    pass\n",
    "ob= c()"
   ]
  },
  {
   "cell_type": "code",
   "execution_count": 49,
   "id": "b32a8c2e",
   "metadata": {},
   "outputs": [
    {
     "name": "stdout",
     "output_type": "stream",
     "text": [
      "c1\n",
      "c2\n"
     ]
    }
   ],
   "source": [
    "ob.p1()\n",
    "ob.p2()"
   ]
  },
  {
   "cell_type": "code",
   "execution_count": null,
   "id": "1664090d",
   "metadata": {},
   "outputs": [],
   "source": [
    "\n",
    "\n",
    "\n"
   ]
  },
  {
   "cell_type": "markdown",
   "id": "9fed0db6",
   "metadata": {},
   "source": [
    "Abstraction\n",
    "\n",
    "=>used to create blue print \n",
    "=>just implement and define it as you want from parent class"
   ]
  },
  {
   "cell_type": "code",
   "execution_count": 50,
   "id": "185a7e41",
   "metadata": {},
   "outputs": [],
   "source": [
    "import abc\n",
    "class ccl : \n",
    "    @abc.abstractmethod\n",
    "    def p1(se):\n",
    "        pass\n",
    "    \n",
    "    @abc.abstractmethod\n",
    "    def p2(se):\n",
    "        pass\n",
    "      \n",
    "    @abc.abstractmethod   \n",
    "    def p3(se):\n",
    "        pass"
   ]
  },
  {
   "cell_type": "code",
   "execution_count": 10,
   "id": "55d52b51",
   "metadata": {},
   "outputs": [
    {
     "ename": "NameError",
     "evalue": "name 'ccl' is not defined",
     "output_type": "error",
     "traceback": [
      "\u001b[1;31m---------------------------------------------------------------------------\u001b[0m",
      "\u001b[1;31mNameError\u001b[0m                                 Traceback (most recent call last)",
      "Cell \u001b[1;32mIn[10], line 1\u001b[0m\n\u001b[1;32m----> 1\u001b[0m \u001b[38;5;28;01mclass\u001b[39;00m \u001b[38;5;21;01mstd\u001b[39;00m(\u001b[43mccl\u001b[49m):\n\u001b[0;32m      2\u001b[0m     \u001b[38;5;28;01mdef\u001b[39;00m \u001b[38;5;21mp1\u001b[39m(se):\n\u001b[0;32m      3\u001b[0m         \u001b[38;5;28;01mreturn\u001b[39;00m \u001b[38;5;124m\"\u001b[39m\u001b[38;5;124mff\u001b[39m\u001b[38;5;124m\"\u001b[39m\n",
      "\u001b[1;31mNameError\u001b[0m: name 'ccl' is not defined"
     ]
    }
   ],
   "source": [
    "class std(ccl):\n",
    "    def p1(se):\n",
    "        return \"ff\"\n",
    "    \n",
    "    def p2(se):\n",
    "        return \"gg\"\n",
    "    \n",
    "class dd(ccl):\n",
    "    def p3(se):\n",
    "        return \"sccl\""
   ]
  },
  {
   "cell_type": "code",
   "execution_count": 61,
   "id": "97ffc925",
   "metadata": {},
   "outputs": [
    {
     "data": {
      "text/plain": [
       "'ff'"
      ]
     },
     "execution_count": 61,
     "metadata": {},
     "output_type": "execute_result"
    }
   ],
   "source": [
    "st=std()\n",
    "c=dd()\n",
    "\n",
    "st.p1()"
   ]
  },
  {
   "cell_type": "code",
   "execution_count": 62,
   "id": "2f1be576",
   "metadata": {},
   "outputs": [
    {
     "data": {
      "text/plain": [
       "'sccl'"
      ]
     },
     "execution_count": 62,
     "metadata": {},
     "output_type": "execute_result"
    }
   ],
   "source": [
    "c.p3()"
   ]
  },
  {
   "cell_type": "code",
   "execution_count": null,
   "id": "ed464155",
   "metadata": {},
   "outputs": [],
   "source": [
    "\n",
    "\n",
    "\n"
   ]
  },
  {
   "cell_type": "markdown",
   "id": "90dd7512",
   "metadata": {},
   "source": [
    "DECORATORS\n",
    "\n",
    "=>"
   ]
  },
  {
   "cell_type": "code",
   "execution_count": 3,
   "id": "8e0030b2",
   "metadata": {},
   "outputs": [
    {
     "name": "stdout",
     "output_type": "stream",
     "text": [
      "start\n",
      "69\n",
      "End\n"
     ]
    }
   ],
   "source": [
    "def fun():\n",
    "        print(\"start\")\n",
    "        print(64+5)\n",
    "        print(\"End\")\n",
    "fun()"
   ]
  },
  {
   "cell_type": "code",
   "execution_count": 11,
   "id": "0c681a0d",
   "metadata": {},
   "outputs": [
    {
     "name": "stdout",
     "output_type": "stream",
     "text": [
      "start\n",
      "13\n",
      "End\n"
     ]
    }
   ],
   "source": [
    "# to avoid writing start and end multiple time we use decorator\n",
    "def deco(fu):\n",
    "    def fun():\n",
    "        print(\"start\")\n",
    "        fu()\n",
    "        print(\"End\")\n",
    "    return fun\n",
    "    \n",
    "\"\"\"\n",
    "below first it calls funcion with @ and passes function as args and runs that only \n",
    "\"\"\"          \n",
    "@deco\n",
    "def x():\n",
    "    print(6+7)\n",
    "    \n",
    "e=x()"
   ]
  },
  {
   "cell_type": "code",
   "execution_count": 1,
   "id": "023566f3",
   "metadata": {},
   "outputs": [
    {
     "name": "stdout",
     "output_type": "stream",
     "text": [
      "0\n",
      "2\n",
      "4\n",
      "6\n",
      "8\n"
     ]
    }
   ],
   "source": [
    "#time complexity\n",
    "import time\n",
    "\n",
    "def tc(fun):\n",
    "    def test():\n",
    "        start = time.time()\n",
    "        fun()\n",
    "        end= time.time()\n",
    "        print(end-start)\n",
    "    return test\n",
    "\n",
    "def odd(n):\n",
    "    for i in range(n*2):\n",
    "        if i%2==0 :\n",
    "            print(i)\n",
    "\n",
    "odd(5)"
   ]
  },
  {
   "cell_type": "code",
   "execution_count": 2,
   "id": "60dbc8bd",
   "metadata": {},
   "outputs": [
    {
     "name": "stdout",
     "output_type": "stream",
     "text": [
      "0.076995849609375\n"
     ]
    }
   ],
   "source": [
    "@tc\n",
    "def ad():\n",
    "    for i in range(1000000):\n",
    "        pass\n",
    "    \n",
    "            \n",
    "ad()"
   ]
  },
  {
   "cell_type": "code",
   "execution_count": null,
   "id": "baf7f908",
   "metadata": {},
   "outputs": [],
   "source": [
    "\n",
    "\n",
    "\n"
   ]
  },
  {
   "cell_type": "markdown",
   "id": "a56620aa",
   "metadata": {},
   "source": [
    "Class methods\n",
    "=> "
   ]
  },
  {
   "cell_type": "code",
   "execution_count": 6,
   "id": "108fa647",
   "metadata": {},
   "outputs": [
    {
     "name": "stdout",
     "output_type": "stream",
     "text": [
      " Name : NIKHIL \n",
      " Email : ntpmcoat@gmail.com\n"
     ]
    }
   ],
   "source": [
    "class pwskill :\n",
    "    \n",
    "    def __init__(self, name, email):   \n",
    "        self.name=name       \n",
    "        self.email=email\n",
    "        \n",
    "    def details(self):\n",
    "        print( f\" Name : {self.name} \\n Email : {self.email}\")\n",
    "        \n",
    "s1 = pwskill(\"NIKHIL\", \"ntpmcoat@gmail.com\")\n",
    "s1.details()"
   ]
  },
  {
   "cell_type": "code",
   "execution_count": 2,
   "id": "1391fcf2",
   "metadata": {},
   "outputs": [
    {
     "data": {
      "text/plain": [
       "'NIKHIL'"
      ]
     },
     "execution_count": 2,
     "metadata": {},
     "output_type": "execute_result"
    }
   ],
   "source": [
    "#overloading init\n",
    "class pw :\n",
    "    \n",
    "    def __init__(self, name, email):   \n",
    "        self.name=name       \n",
    "        self.email=email\n",
    "        \n",
    "    @classmethod\n",
    "    def det(self, name, email):\n",
    "        return self(name,email)\n",
    "    def details(self):\n",
    "        print( f\" Name : {self.name} \\n Email : {self.email}\")\n",
    "        \n",
    "p1= pw.det(\"NIKHIL\",\"ntpmcoat@gmail.com\")\n",
    "p1.name"
   ]
  },
  {
   "cell_type": "code",
   "execution_count": 6,
   "id": "840e8e7a",
   "metadata": {},
   "outputs": [
    {
     "name": "stdout",
     "output_type": "stream",
     "text": [
      "ex\n"
     ]
    }
   ],
   "source": [
    "# way to add external func to class\n",
    "\n",
    "# pw.ex()\n",
    "def ex(self):\n",
    "    print(\"ex\")\n",
    "    \n",
    "pw.ex =classmethod(ex)\n",
    "\n",
    "pw.ex()"
   ]
  },
  {
   "cell_type": "code",
   "execution_count": 7,
   "id": "049cba27",
   "metadata": {},
   "outputs": [],
   "source": [
    "# to delete any funtion or instance we use del\n",
    "del pw.details"
   ]
  },
  {
   "cell_type": "code",
   "execution_count": 9,
   "id": "51fc2052",
   "metadata": {},
   "outputs": [
    {
     "ename": "AttributeError",
     "evalue": "type object 'pw' has no attribute 'details'",
     "output_type": "error",
     "traceback": [
      "\u001b[1;31m---------------------------------------------------------------------------\u001b[0m",
      "\u001b[1;31mAttributeError\u001b[0m                            Traceback (most recent call last)",
      "Cell \u001b[1;32mIn[9], line 1\u001b[0m\n\u001b[1;32m----> 1\u001b[0m \u001b[43mpw\u001b[49m\u001b[38;5;241;43m.\u001b[39;49m\u001b[43mdetails\u001b[49m()\n",
      "\u001b[1;31mAttributeError\u001b[0m: type object 'pw' has no attribute 'details'"
     ]
    }
   ],
   "source": [
    "pw.details()"
   ]
  },
  {
   "cell_type": "code",
   "execution_count": 13,
   "id": "8be4dfa5",
   "metadata": {},
   "outputs": [],
   "source": [
    "# anothr way to delet \n",
    "\n",
    "delattr(pw, \"det\")\n",
    "pw."
   ]
  },
  {
   "cell_type": "code",
   "execution_count": null,
   "id": "7ef288f9",
   "metadata": {},
   "outputs": [],
   "source": [
    "\n",
    "\n"
   ]
  },
  {
   "cell_type": "markdown",
   "id": "0fb78bb3",
   "metadata": {},
   "source": [
    "Static method\n",
    "=>can call ststic in static\n",
    "=>write once use many times"
   ]
  },
  {
   "cell_type": "code",
   "execution_count": 22,
   "id": "0c46e753",
   "metadata": {},
   "outputs": [
    {
     "name": "stdout",
     "output_type": "stream",
     "text": [
      "Static1\n",
      "1\n"
     ]
    }
   ],
   "source": [
    "class pwskill1 :\n",
    "        \n",
    "    def details(self, name, email):\n",
    "        print( f\" Name : {name} \\n Email : {email}\")\n",
    "        \n",
    "    @staticmethod\n",
    "    def ment(s):\n",
    "        print(\"Static1\")\n",
    "        print(s)\n",
    "        \n",
    "    @staticmethod\n",
    "    def ment2():\n",
    "        print(\"calling static in static\")\n",
    "        pwskill1.ment(\"static 2 calling\")\n",
    "        \n",
    "    def func3(self, a,b):\n",
    "        self.ment(\"static in instance\")\n",
    "        print( f\"{a} + {b} ={a+b}\")\n",
    "        \n",
    "p= pwskill1()\n",
    "\n",
    "pwskill1.ment(\"1\")\n",
    "         "
   ]
  },
  {
   "cell_type": "code",
   "execution_count": 23,
   "id": "13548133",
   "metadata": {},
   "outputs": [
    {
     "name": "stdout",
     "output_type": "stream",
     "text": [
      "calling static in static\n",
      "Static1\n",
      "static 2 calling\n"
     ]
    }
   ],
   "source": [
    "pwskill1.ment2()"
   ]
  },
  {
   "cell_type": "code",
   "execution_count": 24,
   "id": "eeec6d34",
   "metadata": {},
   "outputs": [
    {
     "name": "stdout",
     "output_type": "stream",
     "text": [
      "Static1\n",
      "static in instance\n",
      "2 + 4 =6\n"
     ]
    }
   ],
   "source": [
    "p.func3(2,4)"
   ]
  },
  {
   "cell_type": "code",
   "execution_count": null,
   "id": "3c763c01",
   "metadata": {},
   "outputs": [],
   "source": [
    "\n",
    "\n"
   ]
  },
  {
   "cell_type": "markdown",
   "id": "9d637fd0",
   "metadata": {},
   "source": [
    "special(magic or dunder ) method\n",
    "=>function with 2 underscore infront and back of function name\n",
    "=>whenever we do any operation it internally executes through this \n",
    "=>for example a=100  a+5 .....a.__add__(5)\n",
    "=>avoid calling this functions"
   ]
  },
  {
   "cell_type": "code",
   "execution_count": 25,
   "id": "26ece3af",
   "metadata": {},
   "outputs": [
    {
     "data": {
      "text/plain": [
       "['__abs__',\n",
       " '__add__',\n",
       " '__and__',\n",
       " '__bool__',\n",
       " '__ceil__',\n",
       " '__class__',\n",
       " '__delattr__',\n",
       " '__dir__',\n",
       " '__divmod__',\n",
       " '__doc__',\n",
       " '__eq__',\n",
       " '__float__',\n",
       " '__floor__',\n",
       " '__floordiv__',\n",
       " '__format__',\n",
       " '__ge__',\n",
       " '__getattribute__',\n",
       " '__getnewargs__',\n",
       " '__gt__',\n",
       " '__hash__',\n",
       " '__index__',\n",
       " '__init__',\n",
       " '__init_subclass__',\n",
       " '__int__',\n",
       " '__invert__',\n",
       " '__le__',\n",
       " '__lshift__',\n",
       " '__lt__',\n",
       " '__mod__',\n",
       " '__mul__',\n",
       " '__ne__',\n",
       " '__neg__',\n",
       " '__new__',\n",
       " '__or__',\n",
       " '__pos__',\n",
       " '__pow__',\n",
       " '__radd__',\n",
       " '__rand__',\n",
       " '__rdivmod__',\n",
       " '__reduce__',\n",
       " '__reduce_ex__',\n",
       " '__repr__',\n",
       " '__rfloordiv__',\n",
       " '__rlshift__',\n",
       " '__rmod__',\n",
       " '__rmul__',\n",
       " '__ror__',\n",
       " '__round__',\n",
       " '__rpow__',\n",
       " '__rrshift__',\n",
       " '__rshift__',\n",
       " '__rsub__',\n",
       " '__rtruediv__',\n",
       " '__rxor__',\n",
       " '__setattr__',\n",
       " '__sizeof__',\n",
       " '__str__',\n",
       " '__sub__',\n",
       " '__subclasshook__',\n",
       " '__truediv__',\n",
       " '__trunc__',\n",
       " '__xor__',\n",
       " 'as_integer_ratio',\n",
       " 'bit_count',\n",
       " 'bit_length',\n",
       " 'conjugate',\n",
       " 'denominator',\n",
       " 'from_bytes',\n",
       " 'imag',\n",
       " 'numerator',\n",
       " 'real',\n",
       " 'to_bytes']"
      ]
     },
     "execution_count": 25,
     "metadata": {},
     "output_type": "execute_result"
    }
   ],
   "source": [
    "dir(int)"
   ]
  },
  {
   "cell_type": "code",
   "execution_count": 29,
   "id": "81515873",
   "metadata": {},
   "outputs": [],
   "source": [
    "\n",
    "class pw :\n",
    "    #internally before init --new-- function is called\n",
    "    def __init__(self):   \n",
    "        self.name=\"nik\"  "
   ]
  },
  {
   "cell_type": "code",
   "execution_count": 37,
   "id": "67be8f76",
   "metadata": {},
   "outputs": [
    {
     "name": "stdout",
     "output_type": "stream",
     "text": [
      "<__main__.pw object at 0x0000016BB6A69780>\n"
     ]
    }
   ],
   "source": [
    "p=pw()\n",
    "print(p)"
   ]
  },
  {
   "cell_type": "code",
   "execution_count": 36,
   "id": "637511d7",
   "metadata": {},
   "outputs": [
    {
     "name": "stdout",
     "output_type": "stream",
     "text": [
      "hii\n"
     ]
    }
   ],
   "source": [
    "#if we dont want this hexadecimal then\n",
    "class pw1 :\n",
    "   \n",
    "    def __init__(self):   \n",
    "        self.name=\"nik\"  \n",
    "    def __str__(se):\n",
    "        return \"hii\"\n",
    "    \n",
    "x=pw1()\n",
    "print(x)"
   ]
  },
  {
   "cell_type": "code",
   "execution_count": null,
   "id": "58597407",
   "metadata": {},
   "outputs": [],
   "source": [
    "\n",
    "\n",
    "\n"
   ]
  },
  {
   "cell_type": "markdown",
   "id": "c1c9fa8e",
   "metadata": {},
   "source": [
    "property of devorator\n",
    "\n",
    "=> sel._x  -------------->protected\n",
    "=> sel.__x  -------------->private"
   ]
  },
  {
   "cell_type": "code",
   "execution_count": 51,
   "id": "68a44ee7",
   "metadata": {},
   "outputs": [],
   "source": [
    "class pw :\n",
    "\n",
    "    def __init__(self,a,b):   \n",
    "        self.a=a\n",
    "        self.__b=b\n",
    "        self._c=8\n",
    "        \n",
    "    @property\n",
    "    def b_getter(self):\n",
    "        return self.__b\n",
    "        \n",
    "px=pw(6,8)\n"
   ]
  },
  {
   "cell_type": "code",
   "execution_count": 52,
   "id": "a2ec67f0",
   "metadata": {},
   "outputs": [
    {
     "data": {
      "text/plain": [
       "6"
      ]
     },
     "execution_count": 52,
     "metadata": {},
     "output_type": "execute_result"
    }
   ],
   "source": [
    "px.a"
   ]
  },
  {
   "cell_type": "code",
   "execution_count": 53,
   "id": "8b7a8218",
   "metadata": {},
   "outputs": [
    {
     "ename": "AttributeError",
     "evalue": "'pw' object has no attribute 'c'",
     "output_type": "error",
     "traceback": [
      "\u001b[1;31m---------------------------------------------------------------------------\u001b[0m",
      "\u001b[1;31mAttributeError\u001b[0m                            Traceback (most recent call last)",
      "Cell \u001b[1;32mIn[53], line 1\u001b[0m\n\u001b[1;32m----> 1\u001b[0m \u001b[43mpx\u001b[49m\u001b[38;5;241;43m.\u001b[39;49m\u001b[43mc\u001b[49m\n",
      "\u001b[1;31mAttributeError\u001b[0m: 'pw' object has no attribute 'c'"
     ]
    }
   ],
   "source": [
    "px.c"
   ]
  },
  {
   "cell_type": "code",
   "execution_count": 54,
   "id": "ddd3686e",
   "metadata": {},
   "outputs": [
    {
     "ename": "AttributeError",
     "evalue": "'pw' object has no attribute 'b'",
     "output_type": "error",
     "traceback": [
      "\u001b[1;31m---------------------------------------------------------------------------\u001b[0m",
      "\u001b[1;31mAttributeError\u001b[0m                            Traceback (most recent call last)",
      "Cell \u001b[1;32mIn[54], line 1\u001b[0m\n\u001b[1;32m----> 1\u001b[0m \u001b[43mpx\u001b[49m\u001b[38;5;241;43m.\u001b[39;49m\u001b[43mb\u001b[49m\n",
      "\u001b[1;31mAttributeError\u001b[0m: 'pw' object has no attribute 'b'"
     ]
    }
   ],
   "source": [
    "px.b"
   ]
  },
  {
   "cell_type": "code",
   "execution_count": 8,
   "id": "1d1c457e",
   "metadata": {},
   "outputs": [
    {
     "data": {
      "text/plain": [
       "8"
      ]
     },
     "execution_count": 8,
     "metadata": {},
     "output_type": "execute_result"
    }
   ],
   "source": [
    "class pw1 :\n",
    "\n",
    "    def __init__(self,a,b):   \n",
    "        self.a=a\n",
    "        self.__b=b\n",
    "     #getter---->access   \n",
    "    @property\n",
    "    def b_access(self):\n",
    "        return self.__b\n",
    "    \n",
    "    @b_access.setter\n",
    "    def b_set(self, x):\n",
    "        self.__b=x\n",
    "        \n",
    "    @b_access.deleter\n",
    "    def b_del(self):\n",
    "        del self.__b\n",
    "    \n",
    "        \n",
    "        \n",
    "px=pw1(6,8)\n",
    "px.b_access"
   ]
  },
  {
   "cell_type": "code",
   "execution_count": 11,
   "id": "058ae5d3",
   "metadata": {},
   "outputs": [
    {
     "ename": "AttributeError",
     "evalue": "'pw1' object has no attribute '__b'",
     "output_type": "error",
     "traceback": [
      "\u001b[1;31m---------------------------------------------------------------------------\u001b[0m",
      "\u001b[1;31mAttributeError\u001b[0m                            Traceback (most recent call last)",
      "Cell \u001b[1;32mIn[11], line 1\u001b[0m\n\u001b[1;32m----> 1\u001b[0m \u001b[43mpx\u001b[49m\u001b[38;5;241;43m.\u001b[39;49m\u001b[43m__b\u001b[49m\n",
      "\u001b[1;31mAttributeError\u001b[0m: 'pw1' object has no attribute '__b'"
     ]
    }
   ],
   "source": [
    "px.__b"
   ]
  },
  {
   "cell_type": "code",
   "execution_count": 13,
   "id": "b3afc0c2",
   "metadata": {},
   "outputs": [
    {
     "data": {
      "text/plain": [
       "23"
      ]
     },
     "execution_count": 13,
     "metadata": {},
     "output_type": "execute_result"
    }
   ],
   "source": [
    "px.b_set=23\n",
    "px.b_access"
   ]
  },
  {
   "cell_type": "code",
   "execution_count": 16,
   "id": "9df96c22",
   "metadata": {},
   "outputs": [],
   "source": [
    "del px.b_del"
   ]
  },
  {
   "cell_type": "code",
   "execution_count": 17,
   "id": "27d6095d",
   "metadata": {},
   "outputs": [
    {
     "ename": "AttributeError",
     "evalue": "'pw1' object has no attribute '_pw1__b'",
     "output_type": "error",
     "traceback": [
      "\u001b[1;31m---------------------------------------------------------------------------\u001b[0m",
      "\u001b[1;31mAttributeError\u001b[0m                            Traceback (most recent call last)",
      "Cell \u001b[1;32mIn[17], line 1\u001b[0m\n\u001b[1;32m----> 1\u001b[0m \u001b[43mpx\u001b[49m\u001b[38;5;241;43m.\u001b[39;49m\u001b[43mb_access\u001b[49m\n",
      "Cell \u001b[1;32mIn[8], line 9\u001b[0m, in \u001b[0;36mpw1.b_access\u001b[1;34m(self)\u001b[0m\n\u001b[0;32m      7\u001b[0m \u001b[38;5;129m@property\u001b[39m\n\u001b[0;32m      8\u001b[0m \u001b[38;5;28;01mdef\u001b[39;00m \u001b[38;5;21mb_access\u001b[39m(\u001b[38;5;28mself\u001b[39m):\n\u001b[1;32m----> 9\u001b[0m     \u001b[38;5;28;01mreturn\u001b[39;00m \u001b[38;5;28;43mself\u001b[39;49m\u001b[38;5;241;43m.\u001b[39;49m\u001b[43m__b\u001b[49m\n",
      "\u001b[1;31mAttributeError\u001b[0m: 'pw1' object has no attribute '_pw1__b'"
     ]
    }
   ],
   "source": [
    "px.b_access"
   ]
  },
  {
   "cell_type": "code",
   "execution_count": null,
   "id": "b2a0c5f0",
   "metadata": {},
   "outputs": [],
   "source": []
  }
 ],
 "metadata": {
  "kernelspec": {
   "display_name": "Python 3 (ipykernel)",
   "language": "python",
   "name": "python3"
  },
  "language_info": {
   "codemirror_mode": {
    "name": "ipython",
    "version": 3
   },
   "file_extension": ".py",
   "mimetype": "text/x-python",
   "name": "python",
   "nbconvert_exporter": "python",
   "pygments_lexer": "ipython3",
   "version": "3.10.9"
  }
 },
 "nbformat": 4,
 "nbformat_minor": 5
}
