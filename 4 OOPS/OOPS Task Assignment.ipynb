{
 "cells": [
  {
   "cell_type": "code",
   "execution_count": 1,
   "id": "ecf50b88",
   "metadata": {},
   "outputs": [
    {
     "data": {
      "text/plain": [
       "('silver', 100)"
      ]
     },
     "execution_count": 1,
     "metadata": {},
     "output_type": "execute_result"
    }
   ],
   "source": [
    "\"\"\"\n",
    "Q1.EXPLAIN CLASS AND OBJECT TO OBJECT ORIENTED PORGRAMMING.GIVE A SUITABLE EXAMPLE?\n",
    " \n",
    " \n",
    "=> Class is referred to as real world entity and object is instance of that class.\n",
    "\n",
    "=> Class serves as a blueprint for creating multiple instances of objects, which are \n",
    "   individual entities that represent specific things or concepts.\n",
    "   \n",
    "=> Can create multiple objects from a single class, and each object can have different \n",
    "   attribute values while still maintaining the same methods defined by the class.\n",
    "   \n",
    "=>Example:-Lets assume car is a class but every car has it own properties that become object or member of that class.\n",
    "\"\"\"\n",
    "\n",
    "class car:\n",
    "    def features(self,color,max_speed):\n",
    "        self.color= color\n",
    "        self.max_speed=max_speed\n",
    "        \n",
    "    def display(self):\n",
    "        return self.color,self.max_speed\n",
    "wagnor=car()\n",
    "wagnor.features(\"silver\",100)\n",
    "wagnor.display()"
   ]
  },
  {
   "cell_type": "code",
   "execution_count": null,
   "id": "c846f1a5",
   "metadata": {},
   "outputs": [],
   "source": []
  },
  {
   "cell_type": "markdown",
   "id": "0db62851",
   "metadata": {},
   "source": [
    "Q2.NAME THE FOUR PILLAR OF OOPS?\n",
    "\n",
    "1]Inheritance \n",
    "2]Polymorphism \n",
    "3]Encapsulation \n",
    "4]Abstraction"
   ]
  },
  {
   "cell_type": "code",
   "execution_count": 2,
   "id": "b50e6d67",
   "metadata": {},
   "outputs": [
    {
     "name": "stdout",
     "output_type": "stream",
     "text": [
      "Nick\n",
      "20\n"
     ]
    }
   ],
   "source": [
    "\"\"\"\n",
    "Q3] EXPLAIN WHY THE __INIT__() FUNCTION IS USED. GIVE A SUITABLE EXAMPLE.\n",
    "\n",
    "=> The __init__() function is a special method in Python classes that is automatically called \n",
    "   when an object is created from the class.\n",
    "=> It is known as the constructor method because it initializes the attributes of the object.\n",
    "=> The primary purpose of the __init__() function is to set the initial state of an object by\n",
    "   assigning values to its attributes.Example:-\n",
    "\"\"\"\n",
    "class Person:\n",
    "  def __init__(self, name, age):\n",
    "    self.name = name\n",
    "    self.age = age\n",
    "\n",
    "p1 = Person(\"Nick\", 20)\n",
    "\n",
    "print(p1.name)\n",
    "print(p1.age)"
   ]
  },
  {
   "cell_type": "raw",
   "id": "dbf3fa5d",
   "metadata": {},
   "source": [
    "Q4]WHY SELF IS USED IN OOPS?\n",
    "\n",
    "=> 'self' is a convention used to refer to the instance of a class within its own methods.\n",
    "=> It is a reference to the current object being manipulated or accessed. \n",
    "=> By using self, you can access the attributes and methods of the current object."
   ]
  },
  {
   "cell_type": "code",
   "execution_count": null,
   "id": "2cd01d47",
   "metadata": {},
   "outputs": [],
   "source": []
  },
  {
   "cell_type": "raw",
   "id": "c431e376",
   "metadata": {},
   "source": [
    "Q5]WHAT IS INHERITANCE GIVE EXAMPLE FOR EACH TYPE?\n",
    "\n",
    "\n",
    "=> Inheritance is a process in which child class acquires all the property of parent class.\n",
    "=> Inheritance is a fundamental concept in object-oriented programming (OOP) that allows you to create\n",
    "   a new class (called a derived or child class) from an existing class (called a base or parent class).\n",
    "=> The derived class inherits the attributes and methods of the base class, which promotes code reuse and facilitates the\n",
    "   creation of a hierarchical structure of classes.\n",
    "   \n",
    "There are five type of inheritance in python :-\n",
    "\n",
    "\n",
    "\n"
   ]
  },
  {
   "cell_type": "code",
   "execution_count": 3,
   "id": "038b81b6",
   "metadata": {},
   "outputs": [
    {
     "name": "stdout",
     "output_type": "stream",
     "text": [
      "Animal is eating.\n",
      "Dog is barking.\n"
     ]
    }
   ],
   "source": [
    "# 1]Single inheritance- Single inheritance enables a derived class to inherit properties from a single parent class.\n",
    "class Animal:\n",
    "    def eat(self):\n",
    "        print(\"Animal is eating.\")\n",
    "\n",
    "class Dog(Animal):\n",
    "    def bark(self):\n",
    "        print(\"Dog is barking.\")\n",
    "\n",
    "dog = Dog()\n",
    "dog.eat()  # Output: Animal is eating.\n",
    "dog.bark() # Output: Dog is barking.\n"
   ]
  },
  {
   "cell_type": "code",
   "execution_count": 4,
   "id": "bb557fb8",
   "metadata": {},
   "outputs": [
    {
     "name": "stdout",
     "output_type": "stream",
     "text": [
      "Flyer is flying.\n",
      "Swimmer is swimming.\n",
      "Duck is quacking.\n"
     ]
    }
   ],
   "source": [
    "# 2]Multiple inheritance-When a class can be derived from more than one base class is called multipleinheritances.\n",
    "class Flyer:\n",
    "    def fly(self):\n",
    "        print(\"Flyer is flying.\")\n",
    "\n",
    "class Swimmer:\n",
    "    def swim(self):\n",
    "        print(\"Swimmer is swimming.\")\n",
    "\n",
    "class Duck(Flyer, Swimmer):\n",
    "    def quack(self):\n",
    "        print(\"Duck is quacking.\")\n",
    "\n",
    "duck = Duck()\n",
    "duck.fly()   # Output: Flyer is flying.\n",
    "duck.swim()  # Output: Swimmer is swimming.\n",
    "duck.quack() # Output: Duck is quacking.\n"
   ]
  },
  {
   "cell_type": "code",
   "execution_count": 5,
   "id": "0777424c",
   "metadata": {},
   "outputs": [
    {
     "name": "stdout",
     "output_type": "stream",
     "text": [
      "Animal is eating.\n",
      "Dog is barking.\n",
      "Bulldog is snoring.\n"
     ]
    }
   ],
   "source": [
    "# 3]Multilevel inheritance- features of the base class and the derived class are further inherited into the new derived class.\n",
    "class Animal:\n",
    "    def eat(self):\n",
    "        print(\"Animal is eating.\")\n",
    "\n",
    "class Dog(Animal):\n",
    "    def bark(self):\n",
    "        print(\"Dog is barking.\")\n",
    "\n",
    "class Bulldog(Dog):\n",
    "    def snore(self):\n",
    "        print(\"Bulldog is snoring.\")\n",
    "\n",
    "bulldog = Bulldog()\n",
    "bulldog.eat()   # Output: Animal is eating.\n",
    "bulldog.bark()  # Output: Dog is barking.\n",
    "bulldog.snore() # Output: Bulldog is snoring.\n"
   ]
  },
  {
   "cell_type": "code",
   "execution_count": 6,
   "id": "700940ab",
   "metadata": {},
   "outputs": [
    {
     "name": "stdout",
     "output_type": "stream",
     "text": [
      "Animal is eating.\n",
      "Dog is barking.\n",
      "Animal is eating.\n",
      "Cat is meowing.\n"
     ]
    }
   ],
   "source": [
    "# 4]Hierarchical inheritance-Single parent class and multiple child class.\n",
    "class Animal:\n",
    "    def eat(self):\n",
    "        print(\"Animal is eating.\")\n",
    "\n",
    "class Dog(Animal):\n",
    "    def bark(self):\n",
    "        print(\"Dog is barking.\")\n",
    "\n",
    "class Cat(Animal):\n",
    "    def meow(self):\n",
    "        print(\"Cat is meowing.\")\n",
    "\n",
    "dog = Dog()\n",
    "dog.eat()  # Output: Animal is eating.\n",
    "dog.bark() # Output: Dog is barking.\n",
    "\n",
    "cat = Cat()\n",
    "cat.eat()  # Output: Animal is eating.\n",
    "cat.meow() # Output: Cat is meowing.\n"
   ]
  },
  {
   "cell_type": "code",
   "execution_count": 8,
   "id": "386da517",
   "metadata": {},
   "outputs": [
    {
     "name": "stdout",
     "output_type": "stream",
     "text": [
      "Animal is eating.\n",
      "Dog is barking.\n",
      "Bulldog is snoring.\n",
      "Animal is eating.\n",
      "Dog is barking.\n",
      "German Shiffert is snoring.\n"
     ]
    }
   ],
   "source": [
    "# 5]Hybrid inheritance-When two or more inheritance takes place simultaneously.\n",
    "class Animal:\n",
    "    def eat(self):\n",
    "        print(\"Animal is eating.\")\n",
    "\n",
    "class Dog(Animal):\n",
    "    def bark(self):\n",
    "        print(\"Dog is barking.\")\n",
    "\n",
    "class Bulldog(Dog):\n",
    "    def snore(self):\n",
    "        print(\"Bulldog is snoring.\")\n",
    "        \n",
    "class German_Shiffert(Dog):\n",
    "    def snore(self):\n",
    "        print(\"German Shiffert is snoring.\")\n",
    "\n",
    "\n",
    "bg = Bulldog()\n",
    "bg.eat()   \n",
    "bg.bark() \n",
    "bg.snore()\n",
    "gs = German_Shiffert()\n",
    "gs.eat()   \n",
    "gs.bark() \n",
    "gs.snore()"
   ]
  },
  {
   "cell_type": "code",
   "execution_count": null,
   "id": "c0d31661",
   "metadata": {},
   "outputs": [],
   "source": []
  }
 ],
 "metadata": {
  "kernelspec": {
   "display_name": "Python 3 (ipykernel)",
   "language": "python",
   "name": "python3"
  },
  "language_info": {
   "codemirror_mode": {
    "name": "ipython",
    "version": 3
   },
   "file_extension": ".py",
   "mimetype": "text/x-python",
   "name": "python",
   "nbconvert_exporter": "python",
   "pygments_lexer": "ipython3",
   "version": "3.10.9"
  }
 },
 "nbformat": 4,
 "nbformat_minor": 5
}
