{
 "cells": [
  {
   "cell_type": "code",
   "execution_count": null,
   "id": "9adf935b-6138-4adc-83f8-864f9bbd864a",
   "metadata": {},
   "outputs": [],
   "source": [
    "\"\"\"\n",
    "Q1. How do you comment code in Python? What are the different types of comments?\n",
    "\n",
    "#there are two types of comments in python:\n",
    "=>single-line comments\n",
    "    used to comment line\n",
    "    it is implemented by preceding ##\n",
    "    code after this kernel ignores rest code in that line   \"\"\""
   ]
  },
  {
   "cell_type": "code",
   "execution_count": 6,
   "id": "65be3084-076a-40ce-bd8e-f0bef604edc7",
   "metadata": {},
   "outputs": [],
   "source": [
    "## s=\"fwn\""
   ]
  },
  {
   "cell_type": "code",
   "execution_count": null,
   "id": "bdd71f1f-c721-4844-9d3b-5ae531492080",
   "metadata": {},
   "outputs": [],
   "source": [
    "\"\"\"\n",
    "=>Multiline comments\n",
    "    used to multiple lines\n",
    "    it is implemented using \"\"\"  \"\"\" or '''  '''\n",
    "    code within qoutes are ignored by kernel                   \"\"\""
   ]
  },
  {
   "cell_type": "code",
   "execution_count": 9,
   "id": "abe4cc34-6dd4-4272-a45f-009926e05b43",
   "metadata": {},
   "outputs": [
    {
     "ename": "NameError",
     "evalue": "name 'd' is not defined",
     "output_type": "error",
     "traceback": [
      "\u001b[0;31m---------------------------------------------------------------------------\u001b[0m",
      "\u001b[0;31mNameError\u001b[0m                                 Traceback (most recent call last)",
      "Cell \u001b[0;32mIn[9], line 7\u001b[0m\n\u001b[1;32m      1\u001b[0m \u001b[38;5;124;03m\"\"\" Myname is nikhil \u001b[39;00m\n\u001b[1;32m      2\u001b[0m \u001b[38;5;124;03m    Java \u001b[39;00m\n\u001b[1;32m      3\u001b[0m \u001b[38;5;124;03m    python\u001b[39;00m\n\u001b[1;32m      4\u001b[0m \u001b[38;5;124;03m    d=100\u001b[39;00m\n\u001b[1;32m      5\u001b[0m \u001b[38;5;124;03m    \u001b[39;00m\n\u001b[1;32m      6\u001b[0m \u001b[38;5;124;03m    \"\"\"\u001b[39;00m\n\u001b[0;32m----> 7\u001b[0m \u001b[43md\u001b[49m\n",
      "\u001b[0;31mNameError\u001b[0m: name 'd' is not defined"
     ]
    }
   ],
   "source": [
    "\"\"\" Myname is nikhil \n",
    "    Java \n",
    "    python\n",
    "    d=100\n",
    "    \n",
    "    \"\"\"\n",
    "d"
   ]
  },
  {
   "cell_type": "code",
   "execution_count": null,
   "id": "f768c08f-2c3c-4426-a0f4-9221eb8df0ca",
   "metadata": {},
   "outputs": [],
   "source": []
  },
  {
   "cell_type": "code",
   "execution_count": null,
   "id": "6159b1ea-083b-44bb-950f-ef4a78f7d604",
   "metadata": {},
   "outputs": [],
   "source": []
  },
  {
   "cell_type": "code",
   "execution_count": null,
   "id": "d442ac37-31f7-452f-8b0a-cc4a29ab2b6f",
   "metadata": {},
   "outputs": [],
   "source": [
    "\"\"\"\n",
    "2. What are variables in Python? How do you declare and assign values to variables?\n",
    "\n",
    "=>Variables are the named given to computer memory location which used to store value in the computer program. =>Variable work as Storage for values that can be manipulated in program.\n",
    "=>for example:                        \"\"\""
   ]
  },
  {
   "cell_type": "code",
   "execution_count": 10,
   "id": "dab2d8f2-9c6c-4077-a4a4-3e217e6782f1",
   "metadata": {},
   "outputs": [
    {
     "data": {
      "text/plain": [
       "'This is my first program'"
      ]
     },
     "execution_count": 10,
     "metadata": {},
     "output_type": "execute_result"
    }
   ],
   "source": [
    "a='This is my first program'\n",
    "a"
   ]
  },
  {
   "cell_type": "code",
   "execution_count": null,
   "id": "2191737e-c88a-40f5-a2b6-8cc4232779bc",
   "metadata": {},
   "outputs": [],
   "source": []
  },
  {
   "cell_type": "code",
   "execution_count": null,
   "id": "35c816be-0e9f-4eb2-9532-c12730954b99",
   "metadata": {},
   "outputs": [],
   "source": []
  },
  {
   "cell_type": "code",
   "execution_count": null,
   "id": "80504ee6-ea9d-47ca-951d-062057a5f45e",
   "metadata": {},
   "outputs": [],
   "source": [
    "\"\"\"\n",
    "Q.3 How do you convert one data type to another in Python?\n",
    "\n",
    "=>we can convert one data into another using type casting or type conversion method\n",
    "=>for example\n",
    "\"\"\""
   ]
  },
  {
   "cell_type": "code",
   "execution_count": 11,
   "id": "2b448476-cb87-4808-9872-21bdda2eda27",
   "metadata": {},
   "outputs": [
    {
     "data": {
      "text/plain": [
       "int"
      ]
     },
     "execution_count": 11,
     "metadata": {},
     "output_type": "execute_result"
    }
   ],
   "source": [
    "X = 12\n",
    "type(X)"
   ]
  },
  {
   "cell_type": "code",
   "execution_count": 13,
   "id": "4d635bda-86e0-448b-8510-8e64e1458d60",
   "metadata": {},
   "outputs": [
    {
     "data": {
      "text/plain": [
       "str"
      ]
     },
     "execution_count": 13,
     "metadata": {},
     "output_type": "execute_result"
    }
   ],
   "source": [
    "type(str(X))"
   ]
  },
  {
   "cell_type": "code",
   "execution_count": null,
   "id": "3ea1ec7f-23b5-4a9a-a77b-3373f5e8e1a8",
   "metadata": {},
   "outputs": [],
   "source": []
  },
  {
   "cell_type": "code",
   "execution_count": null,
   "id": "a3b19c0f-5ec7-4493-a279-7543f56aaedc",
   "metadata": {},
   "outputs": [],
   "source": []
  },
  {
   "cell_type": "code",
   "execution_count": null,
   "id": "ea9747fd-ed4f-4026-8e70-c0ac9379e70e",
   "metadata": {},
   "outputs": [],
   "source": [
    "\"\"\"\n",
    "Q.4  How do you write and execute a Python script from the command line?\n",
    "\n",
    "=>we writes codes in text editor and run\n",
    "=>Open a text editor and write your Python code. Save the file with a .py extension.\n",
    "=>For example, you can create a file named my_script.py and add your Python code inside\n",
    "=> after opening cmd we execute the code\n",
    "\"\"\""
   ]
  },
  {
   "cell_type": "code",
   "execution_count": null,
   "id": "b0387073-0402-4249-970e-e9b8eb5ae25d",
   "metadata": {},
   "outputs": [],
   "source": []
  },
  {
   "cell_type": "code",
   "execution_count": null,
   "id": "27a71dee-4a83-4825-82c1-aa4a2c24712a",
   "metadata": {},
   "outputs": [],
   "source": []
  },
  {
   "cell_type": "code",
   "execution_count": 14,
   "id": "afd0fd46-856d-4ef0-b3c2-be3fffeb6428",
   "metadata": {},
   "outputs": [
    {
     "data": {
      "text/plain": [
       "[2, 3]"
      ]
     },
     "execution_count": 14,
     "metadata": {},
     "output_type": "execute_result"
    }
   ],
   "source": [
    "\"\"\"\n",
    "Q.5 Given a list  my_list = [1, 2, 3, 4, 5]\n",
    "    write the code to slice the list and obtain the sub-list [2,3]   \"\"\"\n",
    "my_list = [1, 2, 3, 4, 5]\n",
    "my_list[1:3]"
   ]
  },
  {
   "cell_type": "code",
   "execution_count": null,
   "id": "d4c94213-4d31-4d30-983b-adab5f251feb",
   "metadata": {},
   "outputs": [],
   "source": []
  },
  {
   "cell_type": "code",
   "execution_count": null,
   "id": "b9bfd2ae-b156-4dd9-8b58-932230665e5a",
   "metadata": {},
   "outputs": [],
   "source": []
  },
  {
   "cell_type": "code",
   "execution_count": null,
   "id": "14909d08-e8b4-4f00-8b8f-dccbdf28bfad",
   "metadata": {},
   "outputs": [],
   "source": [
    "\"\"\"\n",
    "Q.6 What is a complex number in mathematics, and how is it represented in Python?\n",
    "\n",
    "=>Complex number is a combination of real number and imaginary number. \n",
    "=>for example:  v=5+8j\n",
    "\n",
    "-Here, 8j is the imaginary number where j is the notation which is used in python to declare the complex variable but in mathematics we use i to declare the complex variable\n",
    "\n",
    "\"\"\""
   ]
  },
  {
   "cell_type": "code",
   "execution_count": null,
   "id": "a40e4766-7c19-4a36-8a2a-35fb16677e48",
   "metadata": {},
   "outputs": [],
   "source": []
  },
  {
   "cell_type": "code",
   "execution_count": null,
   "id": "a0b62704-441b-4e30-8759-2f0390099b20",
   "metadata": {},
   "outputs": [],
   "source": []
  },
  {
   "cell_type": "code",
   "execution_count": 15,
   "id": "eed256fc-1597-4883-adee-3048b527adf8",
   "metadata": {},
   "outputs": [
    {
     "data": {
      "text/plain": [
       "25"
      ]
     },
     "execution_count": 15,
     "metadata": {},
     "output_type": "execute_result"
    }
   ],
   "source": [
    "#Q.7  What is the correct way to declare a variable named age and assign the value 25 to it?\n",
    "age=25\n",
    "age"
   ]
  },
  {
   "cell_type": "code",
   "execution_count": null,
   "id": "83a0003a-5e18-444e-baee-e481dcefeb53",
   "metadata": {},
   "outputs": [],
   "source": []
  },
  {
   "cell_type": "code",
   "execution_count": null,
   "id": "25c37705-4f24-4539-a085-f8db70d09eb2",
   "metadata": {},
   "outputs": [],
   "source": []
  },
  {
   "cell_type": "code",
   "execution_count": 16,
   "id": "c73d9efd-8681-44b7-961f-75ad5d609d93",
   "metadata": {},
   "outputs": [
    {
     "data": {
      "text/plain": [
       "float"
      ]
     },
     "execution_count": 16,
     "metadata": {},
     "output_type": "execute_result"
    }
   ],
   "source": [
    "#Q.8 Declare a variable named price and assign the value 9.99 to it. What data type does this variable belong to?\n",
    "price=9.99\n",
    "type(price)"
   ]
  },
  {
   "cell_type": "code",
   "execution_count": null,
   "id": "6de52a02-b089-40bd-930a-98ff7823653b",
   "metadata": {},
   "outputs": [],
   "source": []
  },
  {
   "cell_type": "code",
   "execution_count": null,
   "id": "31845e3e-ed8c-42f6-9102-91b8cf06b8c8",
   "metadata": {},
   "outputs": [],
   "source": []
  },
  {
   "cell_type": "code",
   "execution_count": 17,
   "id": "75500516-bf31-4365-98bc-3c68b15a4f93",
   "metadata": {},
   "outputs": [
    {
     "name": "stdout",
     "output_type": "stream",
     "text": [
      "Nikhil Mishra\n"
     ]
    }
   ],
   "source": [
    "#Q.9  Create a variable named name and assign your full name to it as a string. How would you print the value of this variable? \n",
    "name=\"Nikhil Mishra\"\n",
    "print(name)"
   ]
  },
  {
   "cell_type": "code",
   "execution_count": null,
   "id": "19e53d96-9f9e-4b97-930d-a00469930ede",
   "metadata": {},
   "outputs": [],
   "source": []
  },
  {
   "cell_type": "code",
   "execution_count": null,
   "id": "9a5a8205-80b8-4ea3-b0da-862e1c2800d3",
   "metadata": {},
   "outputs": [],
   "source": []
  },
  {
   "cell_type": "code",
   "execution_count": 21,
   "id": "b3dd6288-c65a-4a80-afc0-6dc228c365a6",
   "metadata": {},
   "outputs": [
    {
     "name": "stdout",
     "output_type": "stream",
     "text": [
      "World\n"
     ]
    }
   ],
   "source": [
    "\"\"\"\n",
    "Q.10  Given the string \"Hello, World!\", extract the substring \"World\".\n",
    "\n",
    "=>there are two ways\n",
    "=>one to count index no. manually of 'W' and 'd'\n",
    "  suppose 'W' and 'd' have index x and y then to extract world we will call st.index[x: y+1]   \"\"\"\n",
    "\n",
    "St=\"Hello, World!\" \n",
    "Subst=St[7:12]\n",
    "print(Subst)"
   ]
  },
  {
   "cell_type": "code",
   "execution_count": 23,
   "id": "2ed2cf1b-f7bb-4118-8547-585cbce839e5",
   "metadata": {},
   "outputs": [
    {
     "name": "stdout",
     "output_type": "stream",
     "text": [
      "World\n"
     ]
    }
   ],
   "source": [
    "\"\"\"\n",
    "=> another way is we use index function to get indexes of w and d and we call it according to it\n",
    "\"\"\"\n",
    "frm = St.index(\"W\")\n",
    "to = St.index(\"d\") + 1\n",
    "Subst=St[frm :to]\n",
    "print(Subst)"
   ]
  },
  {
   "cell_type": "code",
   "execution_count": null,
   "id": "50879ef0-949b-46b2-94a0-2bc291ab4c7e",
   "metadata": {},
   "outputs": [],
   "source": []
  },
  {
   "cell_type": "code",
   "execution_count": null,
   "id": "9ed6e614-d6e8-49e3-abb1-8140644770ce",
   "metadata": {},
   "outputs": [],
   "source": []
  },
  {
   "cell_type": "code",
   "execution_count": 24,
   "id": "894b7297-0ab8-4aee-a394-aa8bc3a016e7",
   "metadata": {},
   "outputs": [
    {
     "name": "stdout",
     "output_type": "stream",
     "text": [
      "You are currently a student\n"
     ]
    }
   ],
   "source": [
    "#Q.11 Create a variable named \"is_student\" and assign it a boolean value indicating whether you are currently a student or not\n",
    "\n",
    "is_student=True\n",
    "if is_student:\n",
    "    print(\"You are currently a student\")\n",
    "else:\n",
    "    print(\"You are currently not a student\")"
   ]
  },
  {
   "cell_type": "code",
   "execution_count": null,
   "id": "fb961f80-4833-4b9f-b0b8-62454d728ee1",
   "metadata": {},
   "outputs": [],
   "source": []
  }
 ],
 "metadata": {
  "kernelspec": {
   "display_name": "Python 3 (ipykernel)",
   "language": "python",
   "name": "python3"
  },
  "language_info": {
   "codemirror_mode": {
    "name": "ipython",
    "version": 3
   },
   "file_extension": ".py",
   "mimetype": "text/x-python",
   "name": "python",
   "nbconvert_exporter": "python",
   "pygments_lexer": "ipython3",
   "version": "3.10.8"
  }
 },
 "nbformat": 4,
 "nbformat_minor": 5
}
