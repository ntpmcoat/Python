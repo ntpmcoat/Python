{
 "cells": [
  {
   "cell_type": "code",
   "execution_count": 4,
   "id": "ce70b1d1-eda8-4d18-ae90-af5b731256b9",
   "metadata": {},
   "outputs": [
    {
     "name": "stdin",
     "output_type": "stream",
     "text": [
      "Enter marks : 98\n"
     ]
    },
    {
     "name": "stdout",
     "output_type": "stream",
     "text": [
      "A+ and scholarship\n"
     ]
    }
   ],
   "source": [
    "m=int(input(\"Enter marks :\"))\n",
    "if m>=90 :\n",
    "    if m>=98 :\n",
    "        print(\"A+ and scholarship\")\n",
    "    else :\n",
    "        print(\"A+\")\n",
    "elif m<90 and m>=75 :\n",
    "    print(\"A\")\n",
    "elif m<75 and m>=60 :\n",
    "    print(\"B\")  \n",
    "elif m<60 and m>=40 :\n",
    "    print(\"c\")\n",
    "else :\n",
    "    print(\"Fail\")"
   ]
  },
  {
   "cell_type": "code",
   "execution_count": 5,
   "id": "18c8c3a7-a298-425e-af20-8a98766b84d5",
   "metadata": {},
   "outputs": [
    {
     "data": {
      "text/plain": [
       "[2, 3, 4, 6, 9, 10, 5, 8]"
      ]
     },
     "execution_count": 5,
     "metadata": {},
     "output_type": "execute_result"
    }
   ],
   "source": [
    "l=[1,2,3,5,8,9,4,7]\n",
    "l1=[]\n",
    "for x in l : \n",
    "    l1.append(x+1)\n",
    "    \n",
    "l1"
   ]
  },
  {
   "cell_type": "code",
   "execution_count": 6,
   "id": "ff0c7922-f543-4fea-9503-1ef51896aa8c",
   "metadata": {},
   "outputs": [
    {
     "data": {
      "text/plain": [
       "['NM', 'COAT', 'GOAT']"
      ]
     },
     "execution_count": 6,
     "metadata": {},
     "output_type": "execute_result"
    }
   ],
   "source": [
    "# to convert to uppercase\n",
    "l=[\"nm\",\"coat\",\"goat\"]\n",
    "l1=[]\n",
    "for i in l:\n",
    "    l1.append(i.upper())\n",
    "l1"
   ]
  },
  {
   "cell_type": "code",
   "execution_count": 7,
   "id": "efa5fc18-ee92-4abd-8533-2242d2d13eef",
   "metadata": {},
   "outputs": [
    {
     "name": "stdout",
     "output_type": "stream",
     "text": [
      "[1, 5, 9, 2, 5, 45.65] ['nm', 'mn']\n"
     ]
    }
   ],
   "source": [
    "# make two separate list numeric and str\n",
    "l=[1,5,9,2,5,\"nm\", \"mn\", 45.65]\n",
    "ln=[]\n",
    "ls=[]\n",
    "for i in l :\n",
    "    if type(i)== str :\n",
    "        ls.append(i)\n",
    "    else : \n",
    "        ln.append(i)\n",
    "print(ln,ls)"
   ]
  },
  {
   "cell_type": "code",
   "execution_count": null,
   "id": "ebc701f3-1292-4c4b-b481-aff745a22278",
   "metadata": {},
   "outputs": [],
   "source": []
  }
 ],
 "metadata": {
  "kernelspec": {
   "display_name": "Python 3 (ipykernel)",
   "language": "python",
   "name": "python3"
  },
  "language_info": {
   "codemirror_mode": {
    "name": "ipython",
    "version": 3
   },
   "file_extension": ".py",
   "mimetype": "text/x-python",
   "name": "python",
   "nbconvert_exporter": "python",
   "pygments_lexer": "ipython3",
   "version": "3.10.8"
  }
 },
 "nbformat": 4,
 "nbformat_minor": 5
}
