{
 "cells": [
  {
   "cell_type": "code",
   "execution_count": 2,
   "id": "9849737d-12a3-4282-9859-4e5bcc25d17e",
   "metadata": {},
   "outputs": [
    {
     "data": {
      "text/plain": [
       "dict"
      ]
     },
     "execution_count": 2,
     "metadata": {},
     "output_type": "execute_result"
    }
   ],
   "source": [
    "d={}\n",
    "type(d)"
   ]
  },
  {
   "cell_type": "code",
   "execution_count": 5,
   "id": "2c291a3d-7488-46fd-8a59-26384b01904e",
   "metadata": {},
   "outputs": [
    {
     "data": {
      "text/plain": [
       "dict"
      ]
     },
     "execution_count": 5,
     "metadata": {},
     "output_type": "execute_result"
    }
   ],
   "source": [
    "#key always be uniqe \n",
    "d1={\"key\": \"NM\"}\n",
    "type(d1)"
   ]
  },
  {
   "cell_type": "code",
   "execution_count": 9,
   "id": "31cc1725-536f-48e3-aa0b-e74fa7c3f89b",
   "metadata": {},
   "outputs": [
    {
     "data": {
      "text/plain": [
       "{2345: 'fhfuf', '_h': 38, True: 70474}"
      ]
     },
     "execution_count": 9,
     "metadata": {},
     "output_type": "execute_result"
    }
   ],
   "source": [
    "#using special char as key without qoute-->error\n",
    "d2={2345 : \"fhfuf\", \"_h\" : 38, True:70474}\n",
    "d2"
   ]
  },
  {
   "cell_type": "code",
   "execution_count": 10,
   "id": "1987734e-1c39-4f5f-a3e0-d5744f980e17",
   "metadata": {},
   "outputs": [
    {
     "data": {
      "text/plain": [
       "70474"
      ]
     },
     "execution_count": 10,
     "metadata": {},
     "output_type": "execute_result"
    }
   ],
   "source": [
    "d2[1]"
   ]
  },
  {
   "cell_type": "code",
   "execution_count": 13,
   "id": "6452c8e8-bf43-4c59-9e30-2fcd47e9dce0",
   "metadata": {},
   "outputs": [
    {
     "data": {
      "text/plain": [
       "38"
      ]
     },
     "execution_count": 13,
     "metadata": {},
     "output_type": "execute_result"
    }
   ],
   "source": [
    "d2[\"_h\"]"
   ]
  },
  {
   "cell_type": "code",
   "execution_count": 16,
   "id": "6b6aa7db-8d29-44f5-adda-a760ef168bb1",
   "metadata": {},
   "outputs": [
    {
     "data": {
      "text/plain": [
       "'ys'"
      ]
     },
     "execution_count": 16,
     "metadata": {},
     "output_type": "execute_result"
    }
   ],
   "source": [
    "# key should be unique if it is same it will overwrite-->causes data loss\n",
    "d3={\"name\": \"nm\", \"name\":\"ys\"}\n",
    "d3['name']"
   ]
  },
  {
   "cell_type": "code",
   "execution_count": 20,
   "id": "5fd8d1fa-a77f-4670-953c-9c17cd95bc2a",
   "metadata": {},
   "outputs": [
    {
     "data": {
      "text/plain": [
       "'ds'"
      ]
     },
     "execution_count": 20,
     "metadata": {},
     "output_type": "execute_result"
    }
   ],
   "source": [
    "# it can have list , tuple, set, dict as value\n",
    "\n",
    "d4={\"co\":\"pwskill\", \"course\": [\"web\", \"java\", \"ds\"]}\n",
    "d4['course'][2]"
   ]
  },
  {
   "cell_type": "code",
   "execution_count": 23,
   "id": "10e3679f-9280-4286-ba4c-13bbc3aea7e2",
   "metadata": {},
   "outputs": [
    {
     "data": {
      "text/plain": [
       "{'co': 'pwskill',\n",
       " 'course': ['web', 'java', 'ds'],\n",
       " 'mentor': ['sudha', 'hayder', 'krish']}"
      ]
     },
     "execution_count": 23,
     "metadata": {},
     "output_type": "execute_result"
    }
   ],
   "source": [
    "# to add new key-value pair\n",
    "d4[\"mentor\"]=[\"sudha\",\"hayder\", \"krish\"]\n",
    "d4"
   ]
  },
  {
   "cell_type": "code",
   "execution_count": 30,
   "id": "7e46d02a-9f88-4a02-aa4b-1fa4c8ad2482",
   "metadata": {},
   "outputs": [
    {
     "ename": "KeyError",
     "evalue": "'mentor'",
     "output_type": "error",
     "traceback": [
      "\u001b[0;31m---------------------------------------------------------------------------\u001b[0m",
      "\u001b[0;31mKeyError\u001b[0m                                  Traceback (most recent call last)",
      "Cell \u001b[0;32mIn[30], line 2\u001b[0m\n\u001b[1;32m      1\u001b[0m \u001b[38;5;66;03m# to delete\u001b[39;00m\n\u001b[0;32m----> 2\u001b[0m \u001b[38;5;28;01mdel\u001b[39;00m d4[\u001b[38;5;124m\"\u001b[39m\u001b[38;5;124mmentor\u001b[39m\u001b[38;5;124m\"\u001b[39m]\n",
      "\u001b[0;31mKeyError\u001b[0m: 'mentor'"
     ]
    }
   ],
   "source": [
    "# to delete\n",
    "del d4[\"mentor\"]\n"
   ]
  },
  {
   "cell_type": "code",
   "execution_count": 31,
   "id": "8c4c0f8f-834d-4526-ab8f-263f6b8e5cb6",
   "metadata": {},
   "outputs": [
    {
     "data": {
      "text/plain": [
       "{'course': ['web', 'java', 'ds']}"
      ]
     },
     "execution_count": 31,
     "metadata": {},
     "output_type": "execute_result"
    }
   ],
   "source": [
    "d4"
   ]
  },
  {
   "cell_type": "code",
   "execution_count": 32,
   "id": "6b187f03-5570-40e0-bbce-ac42bcc018d9",
   "metadata": {},
   "outputs": [],
   "source": [
    "d4[\"mentor\"]=[\"x\",\"y\",'z']"
   ]
  },
  {
   "cell_type": "code",
   "execution_count": 33,
   "id": "576cb6b3-3a25-4b82-81b2-12b93e41c366",
   "metadata": {},
   "outputs": [
    {
     "data": {
      "text/plain": [
       "{'course': ['web', 'java', 'ds'], 'mentor': ['x', 'y', 'z']}"
      ]
     },
     "execution_count": 33,
     "metadata": {},
     "output_type": "execute_result"
    }
   ],
   "source": [
    "d4"
   ]
  },
  {
   "cell_type": "code",
   "execution_count": 35,
   "id": "a27b253f-4688-482d-9222-12dc9084ecd4",
   "metadata": {},
   "outputs": [
    {
     "data": {
      "text/plain": [
       "dict_keys(['course', 'mentor'])"
      ]
     },
     "execution_count": 35,
     "metadata": {},
     "output_type": "execute_result"
    }
   ],
   "source": [
    "# list of keys\n",
    "d4.keys()"
   ]
  },
  {
   "cell_type": "code",
   "execution_count": 38,
   "id": "100f2604-d492-46e3-a6bd-ff502d7cdfd0",
   "metadata": {},
   "outputs": [
    {
     "data": {
      "text/plain": [
       "[['web', 'java', 'ds'], ['x', 'y', 'z']]"
      ]
     },
     "execution_count": 38,
     "metadata": {},
     "output_type": "execute_result"
    }
   ],
   "source": [
    "# set of val\n",
    "#d4.values()\n",
    "list(d4.values())"
   ]
  },
  {
   "cell_type": "code",
   "execution_count": 39,
   "id": "25221d58-f891-41f9-a3a5-b4ef57821e04",
   "metadata": {},
   "outputs": [
    {
     "data": {
      "text/plain": [
       "[('course', ['web', 'java', 'ds']), ('mentor', ['x', 'y', 'z'])]"
      ]
     },
     "execution_count": 39,
     "metadata": {},
     "output_type": "execute_result"
    }
   ],
   "source": [
    "list(d4.items())"
   ]
  },
  {
   "cell_type": "raw",
   "id": "7e0d83e5-4756-4fce-b6d7-09ccc8b6f35b",
   "metadata": {},
   "source": [
    "\n"
   ]
  }
 ],
 "metadata": {
  "kernelspec": {
   "display_name": "Python 3 (ipykernel)",
   "language": "python",
   "name": "python3"
  },
  "language_info": {
   "codemirror_mode": {
    "name": "ipython",
    "version": 3
   },
   "file_extension": ".py",
   "mimetype": "text/x-python",
   "name": "python",
   "nbconvert_exporter": "python",
   "pygments_lexer": "ipython3",
   "version": "3.10.8"
  }
 },
 "nbformat": 4,
 "nbformat_minor": 5
}
