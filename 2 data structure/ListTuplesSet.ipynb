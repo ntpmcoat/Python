{
 "cells": [
  {
   "cell_type": "code",
   "execution_count": 2,
   "id": "be9fd920-724c-46c9-b7fe-cfd9ebb82eb2",
   "metadata": {},
   "outputs": [
    {
     "data": {
      "text/plain": [
       "list"
      ]
     },
     "execution_count": 2,
     "metadata": {},
     "output_type": "execute_result"
    }
   ],
   "source": [
    "'''\n",
    "[]----> list \n",
    "\n",
    "'''\n",
    "l=[1, 4, 9 , \"hii\" ,True, 5+7j]\n",
    "type(l)"
   ]
  },
  {
   "cell_type": "code",
   "execution_count": 3,
   "id": "b25a39ed-56d0-411e-b14d-56e6b9e3c471",
   "metadata": {},
   "outputs": [
    {
     "data": {
      "text/plain": [
       "1"
      ]
     },
     "execution_count": 3,
     "metadata": {},
     "output_type": "execute_result"
    }
   ],
   "source": [
    "# can retrive based on index  0, 1 ....  or   ...-2, -1\n",
    "l[0]"
   ]
  },
  {
   "cell_type": "code",
   "execution_count": 4,
   "id": "c303e160-16c1-4bed-943e-0b2c69f347d8",
   "metadata": {},
   "outputs": [
    {
     "ename": "IndexError",
     "evalue": "list index out of range",
     "output_type": "error",
     "traceback": [
      "\u001b[0;31m---------------------------------------------------------------------------\u001b[0m",
      "\u001b[0;31mIndexError\u001b[0m                                Traceback (most recent call last)",
      "Cell \u001b[0;32mIn[4], line 1\u001b[0m\n\u001b[0;32m----> 1\u001b[0m \u001b[43ml\u001b[49m\u001b[43m[\u001b[49m\u001b[38;5;241;43m90\u001b[39;49m\u001b[43m]\u001b[49m\n",
      "\u001b[0;31mIndexError\u001b[0m: list index out of range"
     ]
    }
   ],
   "source": [
    "l[90]"
   ]
  },
  {
   "cell_type": "code",
   "execution_count": 5,
   "id": "b254f985-da84-42c3-bc32-7ba1dbb313e2",
   "metadata": {},
   "outputs": [
    {
     "data": {
      "text/plain": [
       "9"
      ]
     },
     "execution_count": 5,
     "metadata": {},
     "output_type": "execute_result"
    }
   ],
   "source": [
    "#slicing [ from : to +1 : jump ] same as str\n",
    "l[-4]\n"
   ]
  },
  {
   "cell_type": "code",
   "execution_count": 6,
   "id": "406fee50-9c3b-4f2c-b143-5933b860f597",
   "metadata": {},
   "outputs": [
    {
     "data": {
      "text/plain": [
       "[9, True]"
      ]
     },
     "execution_count": 6,
     "metadata": {},
     "output_type": "execute_result"
    }
   ],
   "source": [
    "l[2:8:2]"
   ]
  },
  {
   "cell_type": "code",
   "execution_count": 7,
   "id": "640baf5d-55e4-4964-b4df-555f0d4de601",
   "metadata": {},
   "outputs": [
    {
     "ename": "TypeError",
     "evalue": "can only concatenate list (not \"str\") to list",
     "output_type": "error",
     "traceback": [
      "\u001b[0;31m---------------------------------------------------------------------------\u001b[0m",
      "\u001b[0;31mTypeError\u001b[0m                                 Traceback (most recent call last)",
      "Cell \u001b[0;32mIn[7], line 2\u001b[0m\n\u001b[1;32m      1\u001b[0m s\u001b[38;5;241m=\u001b[39m \u001b[38;5;124m\"\u001b[39m\u001b[38;5;124mstr\u001b[39m\u001b[38;5;124m\"\u001b[39m\n\u001b[0;32m----> 2\u001b[0m \u001b[43ml\u001b[49m\u001b[38;5;241;43m+\u001b[39;49m\u001b[43ms\u001b[49m\n",
      "\u001b[0;31mTypeError\u001b[0m: can only concatenate list (not \"str\") to list"
     ]
    }
   ],
   "source": [
    "s= \"str\"\n",
    "l+s\n",
    "## not works because cant concatenate str with list"
   ]
  },
  {
   "cell_type": "code",
   "execution_count": 8,
   "id": "9a6d8483-b112-4bae-9732-713ce7df9777",
   "metadata": {},
   "outputs": [
    {
     "data": {
      "text/plain": [
       "['s', 't', 'r']"
      ]
     },
     "execution_count": 8,
     "metadata": {},
     "output_type": "execute_result"
    }
   ],
   "source": [
    "list(s) \n",
    "# adds all char in list"
   ]
  },
  {
   "cell_type": "code",
   "execution_count": 9,
   "id": "58b5c78b-9e11-45a0-bb84-894ed9e00297",
   "metadata": {},
   "outputs": [
    {
     "data": {
      "text/plain": [
       "'hii'"
      ]
     },
     "execution_count": 9,
     "metadata": {},
     "output_type": "execute_result"
    }
   ],
   "source": [
    "l[3]"
   ]
  },
  {
   "cell_type": "code",
   "execution_count": 10,
   "id": "c95b45fc-a717-4459-b508-61aa594b2ba4",
   "metadata": {},
   "outputs": [
    {
     "data": {
      "text/plain": [
       "'hi'"
      ]
     },
     "execution_count": 10,
     "metadata": {},
     "output_type": "execute_result"
    }
   ],
   "source": [
    "l[3][0:2]"
   ]
  },
  {
   "cell_type": "code",
   "execution_count": 13,
   "id": "3a055cc0-3447-4615-a5a7-c969b30ed40d",
   "metadata": {},
   "outputs": [
    {
     "data": {
      "text/plain": [
       "[1, 4, 9, 'hii', True, (5+7j), 2, 4, 5]"
      ]
     },
     "execution_count": 13,
     "metadata": {},
     "output_type": "execute_result"
    }
   ],
   "source": [
    "l1=[2, 4, 5]\n",
    "l+l1\n",
    "#can cotenate list with list"
   ]
  },
  {
   "cell_type": "code",
   "execution_count": 14,
   "id": "03c2b8f4-9252-4c44-a9e1-b8c766484b71",
   "metadata": {},
   "outputs": [
    {
     "data": {
      "text/plain": [
       "6"
      ]
     },
     "execution_count": 14,
     "metadata": {},
     "output_type": "execute_result"
    }
   ],
   "source": [
    "len(l)"
   ]
  },
  {
   "cell_type": "code",
   "execution_count": 17,
   "id": "b593f82b-0246-4cfd-b762-a616fd50e2a7",
   "metadata": {},
   "outputs": [
    {
     "data": {
      "text/plain": [
       "[1, 4, 9, 'hii', True, (5+7j), 'str', 'str']"
      ]
     },
     "execution_count": 17,
     "metadata": {},
     "output_type": "execute_result"
    }
   ],
   "source": [
    "l.append(s)\n",
    "l"
   ]
  },
  {
   "cell_type": "code",
   "execution_count": 18,
   "id": "d3164bcb-4114-4bd6-8180-e5af5a0bde39",
   "metadata": {},
   "outputs": [
    {
     "data": {
      "text/plain": [
       "[1, 4, 9, 'hii', True, (5+7j), 'str', 'str', [2, 4, 5]]"
      ]
     },
     "execution_count": 18,
     "metadata": {},
     "output_type": "execute_result"
    }
   ],
   "source": [
    "l.append(l1)\n",
    "l"
   ]
  },
  {
   "cell_type": "code",
   "execution_count": 19,
   "id": "80582288-aef1-402e-97ec-424462df0dc3",
   "metadata": {},
   "outputs": [
    {
     "data": {
      "text/plain": [
       "[2, 4, 5]"
      ]
     },
     "execution_count": 19,
     "metadata": {},
     "output_type": "execute_result"
    }
   ],
   "source": [
    "l[-1]"
   ]
  },
  {
   "cell_type": "code",
   "execution_count": 20,
   "id": "4435852a-e267-472d-a41a-258223509894",
   "metadata": {},
   "outputs": [
    {
     "data": {
      "text/plain": [
       "5"
      ]
     },
     "execution_count": 20,
     "metadata": {},
     "output_type": "execute_result"
    }
   ],
   "source": [
    "l[-1][2]"
   ]
  },
  {
   "cell_type": "code",
   "execution_count": 23,
   "id": "d81a9b77-506a-47d3-a11c-b33292be9a7a",
   "metadata": {},
   "outputs": [
    {
     "data": {
      "text/plain": [
       "[1,\n",
       " 4,\n",
       " 9,\n",
       " 'hii',\n",
       " True,\n",
       " (5+7j),\n",
       " 'str',\n",
       " 'str',\n",
       " [2, 4, 5],\n",
       " 'a',\n",
       " 'b',\n",
       " 'c',\n",
       " 'a',\n",
       " 'b',\n",
       " 'c']"
      ]
     },
     "execution_count": 23,
     "metadata": {},
     "output_type": "execute_result"
    }
   ],
   "source": [
    "# if we want to add data which are iteratabe ho\n",
    "l.extend(\"abc\")\n",
    "l"
   ]
  },
  {
   "cell_type": "code",
   "execution_count": 24,
   "id": "6061dc2a-2365-43e5-a8e1-ac6fa079bab2",
   "metadata": {},
   "outputs": [
    {
     "data": {
      "text/plain": [
       "[1,\n",
       " 4,\n",
       " 9,\n",
       " 'hii',\n",
       " True,\n",
       " (5+7j),\n",
       " 'str',\n",
       " 'str',\n",
       " [2, 4, 5],\n",
       " 'a',\n",
       " 'b',\n",
       " 'c',\n",
       " 'a',\n",
       " 'b',\n",
       " 'c']"
      ]
     },
     "execution_count": 24,
     "metadata": {},
     "output_type": "execute_result"
    }
   ],
   "source": [
    "l"
   ]
  },
  {
   "cell_type": "code",
   "execution_count": 26,
   "id": "28f6e3e4-e928-4390-8f82-538601d33392",
   "metadata": {},
   "outputs": [
    {
     "data": {
      "text/plain": [
       "[2, 'nik', 4, 5]"
      ]
     },
     "execution_count": 26,
     "metadata": {},
     "output_type": "execute_result"
    }
   ],
   "source": [
    "# to insert on random space \n",
    "# inernally shifts all the elem on index and after it will shift \n",
    "\n",
    "l1.insert(1,\"nik\")\n",
    "l1"
   ]
  },
  {
   "cell_type": "code",
   "execution_count": 28,
   "id": "8289dcab-74c0-43b4-86a9-4c1f7e690a39",
   "metadata": {},
   "outputs": [
    {
     "data": {
      "text/plain": [
       "[2, 'nik', 4, 'mish', 'mish', 5]"
      ]
     },
     "execution_count": 28,
     "metadata": {},
     "output_type": "execute_result"
    }
   ],
   "source": [
    "l1.insert(-1,\"mish\")\n",
    "l1"
   ]
  },
  {
   "cell_type": "code",
   "execution_count": 36,
   "id": "53648c72-d457-4c14-a539-b2e0cb821d46",
   "metadata": {},
   "outputs": [
    {
     "data": {
      "text/plain": [
       "'mish'"
      ]
     },
     "execution_count": 36,
     "metadata": {},
     "output_type": "execute_result"
    }
   ],
   "source": [
    "l1.pop() # default -1......based on index"
   ]
  },
  {
   "cell_type": "code",
   "execution_count": 30,
   "id": "00f367b9-1d31-4f34-a04b-4f3a5ab2d97f",
   "metadata": {},
   "outputs": [
    {
     "data": {
      "text/plain": [
       "[2, 'nik', 4, 'mish', 'mish']"
      ]
     },
     "execution_count": 30,
     "metadata": {},
     "output_type": "execute_result"
    }
   ],
   "source": [
    "l1"
   ]
  },
  {
   "cell_type": "code",
   "execution_count": 31,
   "id": "c0a7930d-b540-48f9-829d-3bca84726d46",
   "metadata": {},
   "outputs": [
    {
     "data": {
      "text/plain": [
       "'mish'"
      ]
     },
     "execution_count": 31,
     "metadata": {},
     "output_type": "execute_result"
    }
   ],
   "source": [
    "l1.pop(-1)"
   ]
  },
  {
   "cell_type": "code",
   "execution_count": 32,
   "id": "641eb4fd-b2c8-4b8c-895e-c24ce791e75d",
   "metadata": {},
   "outputs": [
    {
     "data": {
      "text/plain": [
       "[2, 'nik', 4, 'mish']"
      ]
     },
     "execution_count": 32,
     "metadata": {},
     "output_type": "execute_result"
    }
   ],
   "source": [
    "l1"
   ]
  },
  {
   "cell_type": "code",
   "execution_count": 38,
   "id": "26274509-9ddc-42c3-90a9-a82bc5aecc7b",
   "metadata": {},
   "outputs": [],
   "source": [
    "l1.remove(4) # .....delets datai.e\n",
    "# if a = l1[0] and want to remove 2 from list\n",
    "# then remove( 2) ....based on data\n",
    "# if duplicate available removes fir occr"
   ]
  },
  {
   "cell_type": "code",
   "execution_count": 39,
   "id": "6d4a39b3-e4b5-402a-9a18-d4324379da14",
   "metadata": {},
   "outputs": [
    {
     "data": {
      "text/plain": [
       "['nik']"
      ]
     },
     "execution_count": 39,
     "metadata": {},
     "output_type": "execute_result"
    }
   ],
   "source": [
    "l1"
   ]
  },
  {
   "cell_type": "code",
   "execution_count": 47,
   "id": "01787867-bd30-42b5-b321-85538bb6c135",
   "metadata": {},
   "outputs": [
    {
     "data": {
      "text/plain": [
       "[1, 'nik', 4, 9, 'hii', True, (5+7j), 'str', 'str', ['nik']]"
      ]
     },
     "execution_count": 47,
     "metadata": {},
     "output_type": "execute_result"
    }
   ],
   "source": [
    "l.remove('b')\n",
    "l"
   ]
  },
  {
   "cell_type": "code",
   "execution_count": 48,
   "id": "f3285be2-6e6e-441f-889a-38b0ef339451",
   "metadata": {},
   "outputs": [
    {
     "data": {
      "text/plain": [
       "[['nik'], 'str', 'str', (5+7j), True, 'hii', 9, 4, 'nik', 1]"
      ]
     },
     "execution_count": 48,
     "metadata": {},
     "output_type": "execute_result"
    }
   ],
   "source": [
    "# reverse \n",
    "# temprary if want to make permanent then resassign\n",
    "#l=l[::-1]\n",
    "l[::-1]"
   ]
  },
  {
   "cell_type": "code",
   "execution_count": 51,
   "id": "e2d5f576-e8f4-4f7a-8334-1f8e30b04af3",
   "metadata": {},
   "outputs": [
    {
     "data": {
      "text/plain": [
       "[['nik'], 'str', 'str', (5+7j), True, 'hii', 9, 4, 'nik', 1]"
      ]
     },
     "execution_count": 51,
     "metadata": {},
     "output_type": "execute_result"
    }
   ],
   "source": [
    "#permanant\n",
    "l.reverse()\n",
    "l"
   ]
  },
  {
   "cell_type": "code",
   "execution_count": 54,
   "id": "bf474a66-a2d9-40c6-9b85-d0d717e19e02",
   "metadata": {},
   "outputs": [
    {
     "ename": "TypeError",
     "evalue": "'<' not supported between instances of 'str' and 'list'",
     "output_type": "error",
     "traceback": [
      "\u001b[0;31m---------------------------------------------------------------------------\u001b[0m",
      "\u001b[0;31mTypeError\u001b[0m                                 Traceback (most recent call last)",
      "Cell \u001b[0;32mIn[54], line 1\u001b[0m\n\u001b[0;32m----> 1\u001b[0m \u001b[43ml\u001b[49m\u001b[38;5;241;43m.\u001b[39;49m\u001b[43msort\u001b[49m\u001b[43m(\u001b[49m\u001b[43m)\u001b[49m\n\u001b[1;32m      2\u001b[0m l\n",
      "\u001b[0;31mTypeError\u001b[0m: '<' not supported between instances of 'str' and 'list'"
     ]
    }
   ],
   "source": [
    "\n",
    "l.sort()\n",
    "l"
   ]
  },
  {
   "cell_type": "code",
   "execution_count": 56,
   "id": "08320785-6984-4f57-9b98-aceee240f909",
   "metadata": {},
   "outputs": [
    {
     "data": {
      "text/plain": [
       "[12, 98, 567.44, 3591]"
      ]
     },
     "execution_count": 56,
     "metadata": {},
     "output_type": "execute_result"
    }
   ],
   "source": [
    "l2=[3591,567.44,12,98]\n",
    "l2.sort()\n",
    "l2"
   ]
  },
  {
   "cell_type": "code",
   "execution_count": 9,
   "id": "88515645-5d2a-4979-834d-867c56c494cf",
   "metadata": {},
   "outputs": [
    {
     "data": {
      "text/plain": [
       "['uv', 'gama', 'beta', 'beta', 'alpha']"
      ]
     },
     "execution_count": 9,
     "metadata": {},
     "output_type": "execute_result"
    }
   ],
   "source": [
    "l3=[\"beta\",\"gama\",\"beta\",\"uv\",\"alpha\"]\n",
    "l3.sort(reverse=True)\n",
    "l3"
   ]
  },
  {
   "cell_type": "code",
   "execution_count": 10,
   "id": "e47c16f4-c5ee-44d2-8200-ed580803f510",
   "metadata": {},
   "outputs": [
    {
     "data": {
      "text/plain": [
       "2"
      ]
     },
     "execution_count": 10,
     "metadata": {},
     "output_type": "execute_result"
    }
   ],
   "source": [
    "l3.index('beta')"
   ]
  },
  {
   "cell_type": "code",
   "execution_count": 11,
   "id": "b19d0803-5573-49c7-820c-a4833452fb61",
   "metadata": {},
   "outputs": [
    {
     "data": {
      "text/plain": [
       "2"
      ]
     },
     "execution_count": 11,
     "metadata": {},
     "output_type": "execute_result"
    }
   ],
   "source": [
    "l3.count(\"beta\")"
   ]
  },
  {
   "cell_type": "code",
   "execution_count": 14,
   "id": "cea1b78d-78e5-4b7a-ace3-711147f75b94",
   "metadata": {},
   "outputs": [],
   "source": [
    "#mutable\n",
    "l3[2]=\"EM waves\""
   ]
  },
  {
   "cell_type": "code",
   "execution_count": 15,
   "id": "80c030c3-0752-4e3e-81cb-669a15d9f7b4",
   "metadata": {},
   "outputs": [
    {
     "data": {
      "text/plain": [
       "['uv', 'gama', 'EM waves', 'beta', 'alpha']"
      ]
     },
     "execution_count": 15,
     "metadata": {},
     "output_type": "execute_result"
    }
   ],
   "source": [
    "l3"
   ]
  },
  {
   "cell_type": "code",
   "execution_count": 17,
   "id": "9550c0c1-4d1c-46fa-9877-0ea1777a8860",
   "metadata": {},
   "outputs": [
    {
     "ename": "NameError",
     "evalue": "name 'n' is not defined",
     "output_type": "error",
     "traceback": [
      "\u001b[0;31m---------------------------------------------------------------------------\u001b[0m",
      "\u001b[0;31mNameError\u001b[0m                                 Traceback (most recent call last)",
      "Cell \u001b[0;32mIn[17], line 3\u001b[0m\n\u001b[1;32m      1\u001b[0m \u001b[38;5;66;03m#immutable\u001b[39;00m\n\u001b[1;32m      2\u001b[0m s\u001b[38;5;241m=\u001b[39m\u001b[38;5;124m\"\u001b[39m\u001b[38;5;124mNIKHIL\u001b[39m\u001b[38;5;124m\"\u001b[39m\n\u001b[0;32m----> 3\u001b[0m s[\u001b[38;5;241m0\u001b[39m]\u001b[38;5;241m=\u001b[39m\u001b[43mn\u001b[49m\n",
      "\u001b[0;31mNameError\u001b[0m: name 'n' is not defined"
     ]
    }
   ],
   "source": [
    "#immutable\n",
    "s=\"NIKHIL\"\n",
    "s[0]=n"
   ]
  },
  {
   "cell_type": "code",
   "execution_count": 18,
   "id": "5536d2fc-d7df-4b22-9585-e2230f1ad6b8",
   "metadata": {},
   "outputs": [
    {
     "data": {
      "text/plain": [
       "'Nikhil'"
      ]
     },
     "execution_count": 18,
     "metadata": {},
     "output_type": "execute_result"
    }
   ],
   "source": [
    "#internally re assigns\n",
    "s.replace(\"IKHIL\", \"ikhil\")"
   ]
  },
  {
   "cell_type": "raw",
   "id": "5412cb64-1436-4825-9349-8624dbbcf0c1",
   "metadata": {},
   "source": []
  },
  {
   "cell_type": "markdown",
   "id": "c5db250a-90b2-4379-a4fe-59e006b31443",
   "metadata": {},
   "source": [
    "TUPELS"
   ]
  },
  {
   "cell_type": "raw",
   "id": "d5ef26c3-c21c-4863-98c7-6716b33bc14c",
   "metadata": {},
   "source": [
    "=>collection like list\n",
    "=>t=(2,3,4,5,\"hii\", True)\n",
    "=>Immutable"
   ]
  },
  {
   "cell_type": "code",
   "execution_count": 23,
   "id": "423cb0b6-29d6-47a0-9eb9-b7c1facb58e5",
   "metadata": {},
   "outputs": [],
   "source": [
    "t=(2,3,4,5,\"hii\", True)"
   ]
  },
  {
   "cell_type": "code",
   "execution_count": 21,
   "id": "d1ebdc15-719c-4eb1-80f5-471bad239d14",
   "metadata": {},
   "outputs": [
    {
     "data": {
      "text/plain": [
       "tuple"
      ]
     },
     "execution_count": 21,
     "metadata": {},
     "output_type": "execute_result"
    }
   ],
   "source": [
    "type(t)"
   ]
  },
  {
   "cell_type": "code",
   "execution_count": 24,
   "id": "5e86d8f0-c8ed-47ee-991e-6cc3b7030e0f",
   "metadata": {},
   "outputs": [
    {
     "data": {
      "text/plain": [
       "6"
      ]
     },
     "execution_count": 24,
     "metadata": {},
     "output_type": "execute_result"
    }
   ],
   "source": [
    "len(t)"
   ]
  },
  {
   "cell_type": "code",
   "execution_count": 25,
   "id": "93f6fb79-3063-4dc7-92d0-101032044e25",
   "metadata": {},
   "outputs": [
    {
     "data": {
      "text/plain": [
       "2"
      ]
     },
     "execution_count": 25,
     "metadata": {},
     "output_type": "execute_result"
    }
   ],
   "source": [
    "t[0]"
   ]
  },
  {
   "cell_type": "code",
   "execution_count": 26,
   "id": "693a7fdd-9609-4ed6-abab-3f9a86025122",
   "metadata": {},
   "outputs": [
    {
     "data": {
      "text/plain": [
       "4"
      ]
     },
     "execution_count": 26,
     "metadata": {},
     "output_type": "execute_result"
    }
   ],
   "source": [
    "t[-4]"
   ]
  },
  {
   "cell_type": "code",
   "execution_count": 27,
   "id": "4cc0b87f-db47-4635-8008-f32c80e68f68",
   "metadata": {},
   "outputs": [
    {
     "ename": "TypeError",
     "evalue": "'tuple' object does not support item assignment",
     "output_type": "error",
     "traceback": [
      "\u001b[0;31m---------------------------------------------------------------------------\u001b[0m",
      "\u001b[0;31mTypeError\u001b[0m                                 Traceback (most recent call last)",
      "Cell \u001b[0;32mIn[27], line 1\u001b[0m\n\u001b[0;32m----> 1\u001b[0m \u001b[43mt\u001b[49m\u001b[43m[\u001b[49m\u001b[38;5;241;43m0\u001b[39;49m\u001b[43m]\u001b[49m \u001b[38;5;241m=\u001b[39m\u001b[38;5;241m8\u001b[39m\n",
      "\u001b[0;31mTypeError\u001b[0m: 'tuple' object does not support item assignment"
     ]
    }
   ],
   "source": [
    "#immutable\n",
    "t[0] =8"
   ]
  },
  {
   "cell_type": "code",
   "execution_count": 33,
   "id": "aaeba9ad-a5b9-4b5d-b0f0-c4d2befc9fa2",
   "metadata": {},
   "outputs": [
    {
     "data": {
      "text/plain": [
       "(True, 'hii', 5, 4, 3, 2)"
      ]
     },
     "execution_count": 33,
     "metadata": {},
     "output_type": "execute_result"
    }
   ],
   "source": [
    "#reverse  doesn't modify orginal only creates tempo\n",
    "t[::-1]"
   ]
  },
  {
   "cell_type": "code",
   "execution_count": 32,
   "id": "c08d4614-c011-4aa0-8090-7b33887f80a3",
   "metadata": {},
   "outputs": [
    {
     "data": {
      "text/plain": [
       "(2, 3, 4, 5, 'hii', True)"
      ]
     },
     "execution_count": 32,
     "metadata": {},
     "output_type": "execute_result"
    }
   ],
   "source": [
    "t"
   ]
  },
  {
   "cell_type": "code",
   "execution_count": 30,
   "id": "2b64781e-bf35-4c53-9ba9-29466c24f465",
   "metadata": {},
   "outputs": [
    {
     "data": {
      "text/plain": [
       "1"
      ]
     },
     "execution_count": 30,
     "metadata": {},
     "output_type": "execute_result"
    }
   ],
   "source": [
    "#only two function\n",
    "t.count(4)"
   ]
  },
  {
   "cell_type": "code",
   "execution_count": 31,
   "id": "626bddb8-0dee-4dbc-8d8e-f1ea573c4874",
   "metadata": {},
   "outputs": [
    {
     "data": {
      "text/plain": [
       "3"
      ]
     },
     "execution_count": 31,
     "metadata": {},
     "output_type": "execute_result"
    }
   ],
   "source": [
    "t.index(5)"
   ]
  },
  {
   "cell_type": "markdown",
   "id": "99407f8d-aa7f-4326-bd2f-cf3021c881a3",
   "metadata": {},
   "source": []
  },
  {
   "cell_type": "raw",
   "id": "1f9d9517-c596-4a2c-b6a1-ae73238438db",
   "metadata": {},
   "source": [
    "Dictionary\n",
    "set\n",
    "=>empty set is considered as  dictionary\n",
    "=>not acceptable only accepts immutable since list is mutable it will not accept\n",
    "=>accepts tuples since it is immutable\n",
    "=>removes repetative element \n",
    "=>lists list method creates another collection of any other type into list\n",
    "=>indexing and slice is not applicable\n",
    "=>random storing so can't be added on any specific postion"
   ]
  },
  {
   "cell_type": "code",
   "execution_count": 34,
   "id": "274e6df4-6855-446b-a7e9-cc2c4765bc9c",
   "metadata": {},
   "outputs": [],
   "source": [
    "s1={}"
   ]
  },
  {
   "cell_type": "code",
   "execution_count": 35,
   "id": "9baa7723-cae2-4145-ac99-6d53ef2d0b81",
   "metadata": {},
   "outputs": [
    {
     "data": {
      "text/plain": [
       "dict"
      ]
     },
     "execution_count": 35,
     "metadata": {},
     "output_type": "execute_result"
    }
   ],
   "source": [
    "type(s1)"
   ]
  },
  {
   "cell_type": "code",
   "execution_count": 38,
   "id": "66b41444-6206-4106-ab21-9708a81261cb",
   "metadata": {},
   "outputs": [
    {
     "data": {
      "text/plain": [
       "set"
      ]
     },
     "execution_count": 38,
     "metadata": {},
     "output_type": "execute_result"
    }
   ],
   "source": [
    "s2={3,5,78, \"hii\" ,6}\n",
    "type(s2)"
   ]
  },
  {
   "cell_type": "code",
   "execution_count": 40,
   "id": "42960077-660e-41c7-a351-a179cf36e635",
   "metadata": {},
   "outputs": [
    {
     "ename": "TypeError",
     "evalue": "unhashable type: 'list'",
     "output_type": "error",
     "traceback": [
      "\u001b[0;31m---------------------------------------------------------------------------\u001b[0m",
      "\u001b[0;31mTypeError\u001b[0m                                 Traceback (most recent call last)",
      "Cell \u001b[0;32mIn[40], line 2\u001b[0m\n\u001b[1;32m      1\u001b[0m \u001b[38;5;66;03m#not acceptable only accepts immutable since list is mutable it will not accept\u001b[39;00m\n\u001b[0;32m----> 2\u001b[0m s3\u001b[38;5;241m=\u001b[39m{\u001b[38;5;241m64\u001b[39m,\u001b[38;5;241m89\u001b[39m,\u001b[38;5;124m\"\u001b[39m\u001b[38;5;124mkk\u001b[39m\u001b[38;5;124m\"\u001b[39m,[\u001b[38;5;241m4\u001b[39m,\u001b[38;5;241m6\u001b[39m,\u001b[38;5;241m8\u001b[39m,\u001b[38;5;241m9\u001b[39m]}\n",
      "\u001b[0;31mTypeError\u001b[0m: unhashable type: 'list'"
     ]
    }
   ],
   "source": [
    "#not acceptable only accepts immutable since list is mutable it will not accept\n",
    "s3={64,89,\"kk\",[4,6,8,9]}"
   ]
  },
  {
   "cell_type": "code",
   "execution_count": 42,
   "id": "f6198017-95c8-4afa-a936-9eb7f96791a3",
   "metadata": {},
   "outputs": [],
   "source": [
    "#accepts tuples since it is immutable\n",
    "s3={64,89,\"kk\",(4,6,8,9)}"
   ]
  },
  {
   "cell_type": "code",
   "execution_count": 46,
   "id": "87fd1145-e844-4c3b-a43f-10c82fa21a0d",
   "metadata": {},
   "outputs": [
    {
     "data": {
      "text/plain": [
       "{1, 2, 3, 4, 5, 7, 9, 'NM', 'nm'}"
      ]
     },
     "execution_count": 46,
     "metadata": {},
     "output_type": "execute_result"
    }
   ],
   "source": [
    "#removes repetative element \n",
    "# since case sensitive it will treat nm NM two different things\n",
    "# doest sorts in order just looking like\n",
    "s4={1,5,2,9,1,5,2,3,5,7,9,2,4,9,2,\"NM\", \"nm\"}\n",
    "s4"
   ]
  },
  {
   "cell_type": "code",
   "execution_count": 48,
   "id": "9d4e56c8-1c99-46f5-a717-0c017674721d",
   "metadata": {},
   "outputs": [
    {
     "data": {
      "text/plain": [
       "[1, 2, 3, 4, 5, 'NM', 7, 9, 'nm']"
      ]
     },
     "execution_count": 48,
     "metadata": {},
     "output_type": "execute_result"
    }
   ],
   "source": [
    "#lists list method creates another collection of any other type into list\n",
    "l= list(s4)\n",
    "l"
   ]
  },
  {
   "cell_type": "code",
   "execution_count": 50,
   "id": "c6c38609-b0f0-4dae-bc06-4e2f72038782",
   "metadata": {},
   "outputs": [
    {
     "data": {
      "text/plain": [
       "{222, 256, 33, 59, 9999, 'cbd', 'hjh'}"
      ]
     },
     "execution_count": 50,
     "metadata": {},
     "output_type": "execute_result"
    }
   ],
   "source": [
    "s={256,222,33,59,9999,\"cbd\",\"hjh\"}\n",
    "s"
   ]
  },
  {
   "cell_type": "code",
   "execution_count": 52,
   "id": "72b45544-1e75-479a-9231-8ce1437acada",
   "metadata": {},
   "outputs": [
    {
     "ename": "TypeError",
     "evalue": "'set' object is not subscriptable",
     "output_type": "error",
     "traceback": [
      "\u001b[0;31m---------------------------------------------------------------------------\u001b[0m",
      "\u001b[0;31mTypeError\u001b[0m                                 Traceback (most recent call last)",
      "Cell \u001b[0;32mIn[52], line 2\u001b[0m\n\u001b[1;32m      1\u001b[0m \u001b[38;5;66;03m# indexing and slice is not applicable\u001b[39;00m\n\u001b[0;32m----> 2\u001b[0m \u001b[43ms\u001b[49m\u001b[43m[\u001b[49m\u001b[38;5;241;43m0\u001b[39;49m\u001b[43m]\u001b[49m\n",
      "\u001b[0;31mTypeError\u001b[0m: 'set' object is not subscriptable"
     ]
    }
   ],
   "source": [
    "# indexing and slice is not applicable\n",
    "s[0]"
   ]
  },
  {
   "cell_type": "code",
   "execution_count": 55,
   "id": "b3543e74-97ff-499a-83bb-e1a28f9d828b",
   "metadata": {},
   "outputs": [
    {
     "data": {
      "text/plain": [
       "{1, 222, 256, 33, 59, 9999, 'cbd', 'hjh'}"
      ]
     },
     "execution_count": 55,
     "metadata": {},
     "output_type": "execute_result"
    }
   ],
   "source": [
    "#random storing so can't be added on any specific postion\n",
    "s.add(1)\n",
    "s"
   ]
  },
  {
   "cell_type": "code",
   "execution_count": 56,
   "id": "de7d7fd9-606e-4422-bf34-ea478472d44c",
   "metadata": {},
   "outputs": [
    {
     "data": {
      "text/plain": [
       "{1, 222, 256, 33, 59, 'cbd', 'hjh'}"
      ]
     },
     "execution_count": 56,
     "metadata": {},
     "output_type": "execute_result"
    }
   ],
   "source": [
    "s.remove(9999)\n",
    "s"
   ]
  }
 ],
 "metadata": {
  "kernelspec": {
   "display_name": "Python 3 (ipykernel)",
   "language": "python",
   "name": "python3"
  },
  "language_info": {
   "codemirror_mode": {
    "name": "ipython",
    "version": 3
   },
   "file_extension": ".py",
   "mimetype": "text/x-python",
   "name": "python",
   "nbconvert_exporter": "python",
   "pygments_lexer": "ipython3",
   "version": "3.10.8"
  }
 },
 "nbformat": 4,
 "nbformat_minor": 5
}
