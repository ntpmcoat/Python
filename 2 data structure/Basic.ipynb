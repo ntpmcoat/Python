{
 "cells": [
  {
   "cell_type": "code",
   "execution_count": 1,
   "id": "52f7f85b-4ea8-4a03-96af-7e46f0527b9b",
   "metadata": {},
   "outputs": [
    {
     "data": {
      "text/plain": [
       "complex"
      ]
     },
     "execution_count": 1,
     "metadata": {},
     "output_type": "execute_result"
    }
   ],
   "source": [
    "a=8+8j\n",
    "type(a)   #Shift+tab ---> description of function"
   ]
  },
  {
   "cell_type": "code",
   "execution_count": 2,
   "id": "8834145c-3ddc-4089-9ab8-ddb95795696c",
   "metadata": {},
   "outputs": [
    {
     "data": {
      "text/plain": [
       "8.0"
      ]
     },
     "execution_count": 2,
     "metadata": {},
     "output_type": "execute_result"
    }
   ],
   "source": [
    "a.real\n"
   ]
  },
  {
   "cell_type": "code",
   "execution_count": 3,
   "id": "fe1c62a5-c5c2-408e-b3f5-6df119111109",
   "metadata": {},
   "outputs": [
    {
     "data": {
      "text/plain": [
       "8.0"
      ]
     },
     "execution_count": 3,
     "metadata": {},
     "output_type": "execute_result"
    }
   ],
   "source": [
    "a.imag"
   ]
  },
  {
   "cell_type": "raw",
   "id": "d347e563-7c0b-492d-98a2-c5d351c86aa9",
   "metadata": {},
   "source": [
    "string\n",
    "  0  1  2  3  4  5 --->forward direction\n",
    " -6 -5 -4 -3 -2 -1  <----- backward indexing"
   ]
  },
  {
   "cell_type": "code",
   "execution_count": 4,
   "id": "5ff49c5b-177c-48db-9118-e347d7b34e31",
   "metadata": {},
   "outputs": [
    {
     "data": {
      "text/plain": [
       "'nikh'"
      ]
     },
     "execution_count": 4,
     "metadata": {},
     "output_type": "execute_result"
    }
   ],
   "source": [
    "#slice  s[0:3]----> 0 1 2 (3 exclusive)\n",
    "s=\"nikhil\"\n",
    "s[0:4]  # n i k h"
   ]
  },
  {
   "cell_type": "code",
   "execution_count": 7,
   "id": "c778e847-89bb-4f7a-8dd1-833b44c18a9d",
   "metadata": {},
   "outputs": [
    {
     "data": {
      "text/plain": [
       "'nki'"
      ]
     },
     "execution_count": 7,
     "metadata": {},
     "output_type": "execute_result"
    }
   ],
   "source": [
    "#if we want to get alternate indexed char then\n",
    "# s[from : to+1: no.of jumps]   default jump=1\n",
    "s[0:5:2] \n",
    "# 0->n jump by 2 \n",
    "#2-> k jump by 2\n",
    "#4->i\n"
   ]
  },
  {
   "cell_type": "code",
   "execution_count": 8,
   "id": "867ae986-90f1-4c2c-9842-1b99b3e2efd0",
   "metadata": {},
   "outputs": [
    {
     "data": {
      "text/plain": [
       "''"
      ]
     },
     "execution_count": 8,
     "metadata": {},
     "output_type": "execute_result"
    }
   ],
   "source": [
    "s[2 : 6: -1]"
   ]
  },
  {
   "cell_type": "code",
   "execution_count": 9,
   "id": "371adc29-6863-47da-a63e-950630241942",
   "metadata": {},
   "outputs": [
    {
     "data": {
      "text/plain": [
       "'lih'"
      ]
     },
     "execution_count": 9,
     "metadata": {},
     "output_type": "execute_result"
    }
   ],
   "source": [
    "s[6 : 2: -1]\n"
   ]
  },
  {
   "cell_type": "code",
   "execution_count": 10,
   "id": "1087344e-1e8f-47a5-9e8b-e2288a4220db",
   "metadata": {},
   "outputs": [
    {
     "data": {
      "text/plain": [
       "''"
      ]
     },
     "execution_count": 10,
     "metadata": {},
     "output_type": "execute_result"
    }
   ],
   "source": [
    "s[6:2]  # as by defaut jump =1 so after 6 it will seaech for 7 which is not found"
   ]
  },
  {
   "cell_type": "code",
   "execution_count": 11,
   "id": "3ac6b621-01bc-4b79-adeb-a000497f0080",
   "metadata": {},
   "outputs": [
    {
     "data": {
      "text/plain": [
       "''"
      ]
     },
     "execution_count": 11,
     "metadata": {},
     "output_type": "execute_result"
    }
   ],
   "source": [
    "s[3:2]\n"
   ]
  },
  {
   "cell_type": "code",
   "execution_count": 12,
   "id": "35047574-603b-4fc4-92a5-a735cc496d46",
   "metadata": {},
   "outputs": [
    {
     "data": {
      "text/plain": [
       "'ikhil'"
      ]
     },
     "execution_count": 12,
     "metadata": {},
     "output_type": "execute_result"
    }
   ],
   "source": [
    "# while s[90] ---> give error index out of bound\n",
    "# but in\n",
    "s[1:900:1]# ---> not"
   ]
  },
  {
   "cell_type": "code",
   "execution_count": 13,
   "id": "a4c5acfa-1c14-4323-abd0-3f88d979f779",
   "metadata": {},
   "outputs": [
    {
     "data": {
      "text/plain": [
       "6"
      ]
     },
     "execution_count": 13,
     "metadata": {},
     "output_type": "execute_result"
    }
   ],
   "source": [
    "len(s)\n"
   ]
  },
  {
   "cell_type": "code",
   "execution_count": 16,
   "id": "b5736835-72a1-4acc-9844-71823fabe845",
   "metadata": {},
   "outputs": [
    {
     "data": {
      "text/plain": [
       "1"
      ]
     },
     "execution_count": 16,
     "metadata": {},
     "output_type": "execute_result"
    }
   ],
   "source": [
    "s.find('i') \n",
    "#---->first occ and give in qoutes\n",
    "#-1--> X"
   ]
  },
  {
   "cell_type": "code",
   "execution_count": 17,
   "id": "b745a732-5888-4f91-86e9-d170d219d033",
   "metadata": {},
   "outputs": [
    {
     "data": {
      "text/plain": [
       "2"
      ]
     },
     "execution_count": 17,
     "metadata": {},
     "output_type": "execute_result"
    }
   ],
   "source": [
    "s.count(\"i\")"
   ]
  },
  {
   "cell_type": "code",
   "execution_count": 23,
   "id": "6cc884a9-2dbe-4a14-9e78-5f4574250b0f",
   "metadata": {},
   "outputs": [
    {
     "data": {
      "text/plain": [
       "'My name is nikhil'"
      ]
     },
     "execution_count": 23,
     "metadata": {},
     "output_type": "execute_result"
    }
   ],
   "source": [
    "s= \"My name is nikhil\"\n",
    "s\n"
   ]
  },
  {
   "cell_type": "code",
   "execution_count": 24,
   "id": "c61c4e64-b559-433e-8b1f-204e255f7d62",
   "metadata": {},
   "outputs": [
    {
     "data": {
      "text/plain": [
       "'MY NAME IS NIKHIL'"
      ]
     },
     "execution_count": 24,
     "metadata": {},
     "output_type": "execute_result"
    }
   ],
   "source": [
    "s.upper()"
   ]
  },
  {
   "cell_type": "code",
   "execution_count": 25,
   "id": "05a9a46c-feb6-4f4a-9cf0-cf0291672b2c",
   "metadata": {},
   "outputs": [
    {
     "data": {
      "text/plain": [
       "'my name is nikhil'"
      ]
     },
     "execution_count": 25,
     "metadata": {},
     "output_type": "execute_result"
    }
   ],
   "source": [
    "\n",
    "s.lower()"
   ]
  },
  {
   "cell_type": "code",
   "execution_count": 26,
   "id": "e48fade9-d785-4520-9899-a065a37d5a83",
   "metadata": {},
   "outputs": [
    {
     "data": {
      "text/plain": [
       "'My name is nikhil'"
      ]
     },
     "execution_count": 26,
     "metadata": {},
     "output_type": "execute_result"
    }
   ],
   "source": [
    "s.capitalize()"
   ]
  },
  {
   "cell_type": "code",
   "execution_count": 27,
   "id": "05208e6e-d36f-4c66-bfd1-33bbb54ea29f",
   "metadata": {},
   "outputs": [
    {
     "data": {
      "text/plain": [
       "'My Name Is Nikhil'"
      ]
     },
     "execution_count": 27,
     "metadata": {},
     "output_type": "execute_result"
    }
   ],
   "source": [
    "s.title()"
   ]
  },
  {
   "cell_type": "code",
   "execution_count": 28,
   "id": "899fb917-85b0-4f0f-b71e-77254caace81",
   "metadata": {},
   "outputs": [
    {
     "data": {
      "text/plain": [
       "'My name is nikhil Mishra'"
      ]
     },
     "execution_count": 28,
     "metadata": {},
     "output_type": "execute_result"
    }
   ],
   "source": [
    "s+\" Mishra\"\n",
    "# cant concatenate with other datatype( + 1)"
   ]
  },
  {
   "cell_type": "code",
   "execution_count": 29,
   "id": "3da93eae-d016-4321-a299-2959c6648362",
   "metadata": {},
   "outputs": [
    {
     "data": {
      "text/plain": [
       "'My name is nikhilMy name is nikhil'"
      ]
     },
     "execution_count": 29,
     "metadata": {},
     "output_type": "execute_result"
    }
   ],
   "source": [
    "s*2"
   ]
  },
  {
   "cell_type": "code",
   "execution_count": 30,
   "id": "7057dda8-643f-4488-b0bc-ccdc635e0e76",
   "metadata": {},
   "outputs": [
    {
     "ename": "TypeError",
     "evalue": "unsupported operand type(s) for /: 'str' and 'int'",
     "output_type": "error",
     "traceback": [
      "\u001b[0;31m---------------------------------------------------------------------------\u001b[0m",
      "\u001b[0;31mTypeError\u001b[0m                                 Traceback (most recent call last)",
      "Cell \u001b[0;32mIn[30], line 1\u001b[0m\n\u001b[0;32m----> 1\u001b[0m \u001b[43ms\u001b[49m\u001b[38;5;241;43m/\u001b[39;49m\u001b[38;5;241;43m2\u001b[39;49m\n",
      "\u001b[0;31mTypeError\u001b[0m: unsupported operand type(s) for /: 'str' and 'int'"
     ]
    }
   ],
   "source": [
    "s/2"
   ]
  },
  {
   "cell_type": "code",
   "execution_count": 31,
   "id": "3be85421-dc76-4ba5-9053-5c153677a457",
   "metadata": {},
   "outputs": [
    {
     "ename": "SyntaxError",
     "evalue": "unterminated string literal (detected at line 1) (340814034.py, line 1)",
     "output_type": "error",
     "traceback": [
      "\u001b[0;36m  Cell \u001b[0;32mIn[31], line 1\u001b[0;36m\u001b[0m\n\u001b[0;31m    'don't we use need to get different types of qoute'\u001b[0m\n\u001b[0m                                                      ^\u001b[0m\n\u001b[0;31mSyntaxError\u001b[0m\u001b[0;31m:\u001b[0m unterminated string literal (detected at line 1)\n"
     ]
    }
   ],
   "source": [
    "'don't we use need to get different types of qoute'"
   ]
  },
  {
   "cell_type": "code",
   "execution_count": 32,
   "id": "f2393ad1-e5c5-41f3-a970-82d1ad16c576",
   "metadata": {},
   "outputs": [
    {
     "data": {
      "text/plain": [
       "\"don't we use need to get different types of qoute\""
      ]
     },
     "execution_count": 32,
     "metadata": {},
     "output_type": "execute_result"
    }
   ],
   "source": [
    "\"don't we use need to get different types of qoute\""
   ]
  },
  {
   "cell_type": "code",
   "execution_count": null,
   "id": "d33f52f1-bbfd-4aa4-9848-dad0994cdad7",
   "metadata": {},
   "outputs": [],
   "source": [
    "# multiline ->  '''   '''  or \"\"\"    \"\"\"\n",
    "# and can use as string"
   ]
  }
 ],
 "metadata": {
  "kernelspec": {
   "display_name": "Python 3 (ipykernel)",
   "language": "python",
   "name": "python3"
  },
  "language_info": {
   "codemirror_mode": {
    "name": "ipython",
    "version": 3
   },
   "file_extension": ".py",
   "mimetype": "text/x-python",
   "name": "python",
   "nbconvert_exporter": "python",
   "pygments_lexer": "ipython3",
   "version": "3.10.8"
  }
 },
 "nbformat": 4,
 "nbformat_minor": 5
}
