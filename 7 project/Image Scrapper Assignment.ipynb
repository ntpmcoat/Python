{
 "cells": [
  {
   "cell_type": "markdown",
   "id": "03aca149",
   "metadata": {},
   "source": [
    "# Q1. Write a python program to extract the video URL of the first five videos."
   ]
  },
  {
   "cell_type": "code",
   "execution_count": 1,
   "id": "9df01e7a",
   "metadata": {},
   "outputs": [],
   "source": [
    "from selenium import webdriver\n",
    "from selenium.webdriver.common.by import By"
   ]
  },
  {
   "cell_type": "code",
   "execution_count": 2,
   "id": "712ebf9b",
   "metadata": {},
   "outputs": [],
   "source": [
    "url=\"https://www.youtube.com/@PW-Foundation/videos\"\n",
    "headers = {\"User-Agent\": \"Mozilla/5.0 (Windows NT 10.0; Win64; x64) AppleWebKit/537.36 (KHTML, like Gecko) Chrome/58.0.3029.110 Safari/537.36\"}\n",
    "driver=webdriver.Chrome()\n",
    "driver.get(url)"
   ]
  },
  {
   "cell_type": "code",
   "execution_count": 3,
   "id": "221b8405",
   "metadata": {},
   "outputs": [
    {
     "name": "stdout",
     "output_type": "stream",
     "text": [
      "https://www.youtube.com/watch?v=YiBqvPi8Q1I\n",
      "https://www.youtube.com/watch?v=mw9mLdN6ssA\n",
      "https://www.youtube.com/watch?v=LuTONVLzESM\n",
      "https://www.youtube.com/watch?v=KWXKegvNa-I\n",
      "https://www.youtube.com/watch?v=dArUpCasmnE\n"
     ]
    }
   ],
   "source": [
    "videos=driver.find_elements(By.CLASS_NAME,'style-scope ytd-rich-grid-media')\n",
    "for i in videos[:5]:\n",
    "    vid_link=i.find_element(By.XPATH,'.//*[@id=\"video-title-link\"]').get_attribute(\"href\")\n",
    "    print(vid_link)"
   ]
  },
  {
   "cell_type": "code",
   "execution_count": null,
   "id": "6e81755e",
   "metadata": {},
   "outputs": [],
   "source": [
    "\n",
    "\n",
    "\n",
    "\n"
   ]
  },
  {
   "cell_type": "markdown",
   "id": "e6d29080",
   "metadata": {},
   "source": [
    "# Q2. Write a python program to extract the URL of the video thumbnails of the first five videos."
   ]
  },
  {
   "cell_type": "code",
   "execution_count": 4,
   "id": "ca7b9040",
   "metadata": {},
   "outputs": [
    {
     "name": "stdout",
     "output_type": "stream",
     "text": [
      "None\n",
      "None\n",
      "None\n",
      "None\n",
      "None\n"
     ]
    }
   ],
   "source": [
    "for i in videos[:5]:\n",
    "    vid_thumbnail=i.find_element(By.XPATH,'.//*[@id=\"thumbnail\"]').get_attribute(\"href\")\n",
    "    print(vid_thumbnail)"
   ]
  },
  {
   "cell_type": "code",
   "execution_count": null,
   "id": "58bf758d",
   "metadata": {},
   "outputs": [],
   "source": [
    "\n",
    "\n",
    "\n"
   ]
  },
  {
   "cell_type": "markdown",
   "id": "a8e0df48",
   "metadata": {},
   "source": [
    "# Q3. Write a python program to extract the title of the first five videos."
   ]
  },
  {
   "cell_type": "code",
   "execution_count": 6,
   "id": "f40d2a8e",
   "metadata": {},
   "outputs": [
    {
     "name": "stdout",
     "output_type": "stream",
     "text": [
      "Upto 35% Off On All PW Batches 🔥 | Only 1 Day Left 🤯 #SapneDekhneKiAzaadi\n",
      "Happy 77th Independence Day 🇮🇳 | Check the Offers Now 🔥 #SapneDekhneKiAzaadi\n",
      "ARTS की दुनिया की PAHAL 🔥 || Launching Class 11th ARTS BATCH\n",
      "Something Big Coming Soon For Class - 9th & 10th Students 🔥 || Stay Tuned For More Updates 🖋️\n",
      "Launching PAHAL Batch 🔥 For Class 11th Arts Students 💪\n"
     ]
    }
   ],
   "source": [
    "\n",
    "for i in videos[:5]:\n",
    "    vid_title=i.find_element(By.XPATH,'.//*[@id=\"video-title\"]').text\n",
    "    print(vid_title)"
   ]
  },
  {
   "cell_type": "code",
   "execution_count": null,
   "id": "69c23eed",
   "metadata": {},
   "outputs": [],
   "source": [
    "\n",
    "\n",
    "\n",
    "\n"
   ]
  },
  {
   "cell_type": "markdown",
   "id": "7cf0ca19",
   "metadata": {},
   "source": [
    "# Q4. Write a python program to extract the number of views of the first five videos."
   ]
  },
  {
   "cell_type": "code",
   "execution_count": 7,
   "id": "b9eca232",
   "metadata": {},
   "outputs": [
    {
     "name": "stdout",
     "output_type": "stream",
     "text": [
      "6.9K views\n",
      "34K views\n",
      "21K views\n",
      "43K views\n",
      "36K views\n"
     ]
    }
   ],
   "source": [
    "for i in videos[:5]:\n",
    "    vid_views=i.find_element(By.XPATH,'.//*[@id=\"metadata-line\"]/span[1]').text\n",
    "    print(vid_views)"
   ]
  },
  {
   "cell_type": "code",
   "execution_count": null,
   "id": "ee3a781c",
   "metadata": {},
   "outputs": [],
   "source": [
    "\n",
    "\n",
    "\n",
    "\n",
    "\n"
   ]
  },
  {
   "cell_type": "markdown",
   "id": "70d1537d",
   "metadata": {},
   "source": [
    "# Q5. Write a python program to extract the time of posting of video for the first five videos."
   ]
  },
  {
   "cell_type": "code",
   "execution_count": 8,
   "id": "03629fab",
   "metadata": {},
   "outputs": [
    {
     "name": "stdout",
     "output_type": "stream",
     "text": [
      "11 hours ago\n",
      "4 days ago\n",
      "3 weeks ago\n",
      "1 month ago\n",
      "1 month ago\n"
     ]
    }
   ],
   "source": [
    "for i in videos[:5]:\n",
    "    vid_time=i.find_element(By.XPATH,'.//*[@id=\"metadata-line\"]/span[2]').text\n",
    "    print(vid_time)"
   ]
  },
  {
   "cell_type": "code",
   "execution_count": null,
   "id": "f0d1de9d",
   "metadata": {},
   "outputs": [],
   "source": []
  }
 ],
 "metadata": {
  "kernelspec": {
   "display_name": "Python 3 (ipykernel)",
   "language": "python",
   "name": "python3"
  },
  "language_info": {
   "codemirror_mode": {
    "name": "ipython",
    "version": 3
   },
   "file_extension": ".py",
   "mimetype": "text/x-python",
   "name": "python",
   "nbconvert_exporter": "python",
   "pygments_lexer": "ipython3",
   "version": "3.10.9"
  }
 },
 "nbformat": 4,
 "nbformat_minor": 5
}
