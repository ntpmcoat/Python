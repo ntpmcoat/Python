{
 "cells": [
  {
   "cell_type": "markdown",
   "id": "a363f9a9",
   "metadata": {},
   "source": [
    "Q1.What is multithreading in python? why is it used? Name the module used to handle threads in python?\n",
    "\n",
    "=>Multithreading in Python allows a program to perform multiple tasks concurrently within a single process.\n",
    "=>Threads are separate units of execution that share the same resources like memory space, file handles, etc.\n",
    "=>The threading module in Python provides tools to work with threads.\n",
    "=>It allows you to create and manage threads in Python programs easily.\n",
    "=>By using threads, you can achieve concurrent execution of tasks, which can improve the overall performance of a program, especially for I/O-bound operations."
   ]
  },
  {
   "cell_type": "code",
   "execution_count": null,
   "id": "11e4e0f0",
   "metadata": {},
   "outputs": [],
   "source": [
    "\n",
    "\n",
    "\n",
    "\n"
   ]
  },
  {
   "cell_type": "markdown",
   "id": "a1d3dcea",
   "metadata": {},
   "source": [
    "Q2.Why threading module used?Write the use of the following functions\n",
    "\n",
    "Following are the reasons why we use threading module\n",
    "\n",
    "=>threading module enables concurrent execution of tasks within a single process.\n",
    "=>Particularly useful for I/O-bound tasks that spend time waiting for input/output operations.\n",
    "=>Improves program responsiveness and efficiency by running tasks simultaneously.\n",
    "=>Allows achieving some level of parallelism on multi-core CPUs for specific tasks.\n",
    "=>Threads share the same memory space and resources of the process.\n",
    "=>Lightweight compared to processes, making thread creation and management faster.\n",
    "=>Provides synchronization primitives for safe coordination between threads.\n",
    "=>Task parallelism can be achieved by breaking a large task into smaller sub-tasks assigned to separate threads.\n",
    "\n",
    "\n",
    "\n",
    "=>activeCount():   ***depreciated new name is \"active_count()\"\n",
    ">activeCount is an attribute of the threading module that returns the number of currently active Thread objects in the program.\n",
    ">It provides a count of threads that are still running and have not yet completed their execution or terminated.\n",
    ">this attribute is useful to monitor the number of active threads in the application.\n",
    "\n",
    "=>currentThread(): ***depreciated new name is \"current_thread\"\n",
    ">currentThread is a function of the threading module that returns the Thread object representing the current thread of execution.\n",
    ">It allows you to obtain information about the currently running thread, such as its name, ID, and other attributes.\n",
    ">You can use this function to perform thread-specific actions or to identify the thread in a multithreaded program.\n",
    "\n",
    "=>enumerate():  \n",
    ">enumerate is a function of the threading module that returns a list of all currently active Thread objects.\n",
    ">It provides a convenient way to obtain a list of all threads currently running in the program.\n",
    ">The enumerate function is useful for debugging or monitoring purposes when you need to inspect the state of all active threads."
   ]
  },
  {
   "cell_type": "code",
   "execution_count": 19,
   "id": "8422813f",
   "metadata": {},
   "outputs": [
    {
     "name": "stdout",
     "output_type": "stream",
     "text": [
      "Thread started: Thread-- 0\n",
      "Thread started: Thread-- 1\n",
      "Thread started: Thread-- 2\n",
      "Thread started: Thread-- 3\n",
      "Thread started: Thread-- 4\n",
      "Active threads: 6\n",
      "Current thread: MainThread\n",
      "All threads:\n",
      "MainThread\n",
      "IOPub\n",
      "Heartbeat\n",
      "Control\n",
      "IPythonHistorySavingThread\n",
      "Thread-4\n"
     ]
    }
   ],
   "source": [
    "import threading\n",
    "\n",
    "def func():\n",
    "    print(\"Thread started:\", threading.current_thread().name)\n",
    "\n",
    "# Create multiple threads\n",
    "threads = []\n",
    "for i in range(5):\n",
    "    t = threading.Thread(target=func, name=\"Thread-- \" + str(i))\n",
    "    threads.append(t)\n",
    "    t.start()\n",
    "\n",
    "# Wait for all threads to complete\n",
    "for t in threads:\n",
    "    t.join()\n",
    "\n",
    "# Retrieve the number of active threads\n",
    "active_count = threading.active_count()\n",
    "print(\"Active threads:\", active_count)\n",
    "\n",
    "# Retrieve the current thread\n",
    "current_thread = threading.current_thread()\n",
    "print(\"Current thread:\", current_thread.name)\n",
    "\n",
    "# Enumerate all threads\n",
    "all_threads = threading.enumerate()\n",
    "print(\"All threads:\")\n",
    "for thread in all_threads:\n",
    "    print(thread.name)\n"
   ]
  },
  {
   "cell_type": "markdown",
   "id": "88b5c211",
   "metadata": {},
   "source": [
    "\n",
    "\n",
    "\n",
    "\n",
    "\n"
   ]
  },
  {
   "cell_type": "markdown",
   "id": "5f94bc89",
   "metadata": {},
   "source": [
    "Q3. Explain the following functions?\n",
    "\n",
    "run(): The run() function is the entry point for the thread's activity.\n",
    "start(): The start() function is used to start the execution of a thread.\n",
    "join(): The join() function is used to wait for a thread to complete its execution. \n",
    "isAlive(): The isAlive() function is used to check whether a thread is still alive or has completed its execution. "
   ]
  },
  {
   "cell_type": "code",
   "execution_count": 20,
   "id": "4dbaf904",
   "metadata": {},
   "outputs": [
    {
     "name": "stdout",
     "output_type": "stream",
     "text": [
      "Thread started:Is thread alive? True\n",
      " Thread-56 (worker)\n",
      "Thread finished: Thread-56 (worker)\n",
      "Is thread alive? False\n"
     ]
    }
   ],
   "source": [
    "\n",
    "import threading\n",
    "import time\n",
    "\n",
    "def worker():\n",
    "    print(\"Thread started:\", threading.current_thread().name)\n",
    "    time.sleep(2)\n",
    "    print(\"Thread finished:\", threading.current_thread().name)\n",
    "\n",
    "t = threading.Thread(target=worker)\n",
    "\n",
    "# Start the thread\n",
    "t.start()\n",
    "\n",
    "# Check if the thread is alive\n",
    "print(\"Is thread alive?\", t.is_alive())\n",
    "\n",
    "# Wait for the thread to finish\n",
    "t.join()\n",
    "\n",
    "# Check if the thread is alive after join\n",
    "print(\"Is thread alive?\", t.is_alive())"
   ]
  },
  {
   "cell_type": "code",
   "execution_count": null,
   "id": "8d046b4b",
   "metadata": {},
   "outputs": [],
   "source": []
  },
  {
   "cell_type": "code",
   "execution_count": 23,
   "id": "69ed8999",
   "metadata": {},
   "outputs": [
    {
     "name": "stdout",
     "output_type": "stream",
     "text": [
      "Square --{1: 1, 2: 4, 3: 9, 4: 16, 5: 25}\n",
      "Cube ----{1: 1, 2: 8, 3: 27, 4: 64, 5: 125}\n",
      "Threads execution completed.\n"
     ]
    }
   ],
   "source": [
    "#4.Write a python program to create two threads. \n",
    "#  Thread one must print the list of squares and thread two must print the list of cubes\n",
    "\n",
    "import threading\n",
    "\n",
    "def print_squares():\n",
    "    sq={}\n",
    "    for i in range(1, 6):\n",
    "        sq[i]=i**2\n",
    "    print(f\"Square --{sq}\")\n",
    "\n",
    "def print_cubes():\n",
    "    cube={}\n",
    "    for i in range(1, 6):\n",
    "        cube[i]=i**3\n",
    "    print(f\"Cube ----{cube}\")\n",
    "\n",
    "# Create the first thread for printing squares\n",
    "thread1 = threading.Thread(target=print_squares)\n",
    "\n",
    "# Create the second thread for printing cubes\n",
    "thread2 = threading.Thread(target=print_cubes)\n",
    "\n",
    "# Start both threads\n",
    "thread1.start()\n",
    "thread2.start()\n",
    "\n",
    "# Wait for both threads to finish\n",
    "thread1.join()\n",
    "thread2.join()\n",
    "\n",
    "print(\"Threads execution completed.\")"
   ]
  },
  {
   "cell_type": "markdown",
   "id": "eed66e48",
   "metadata": {},
   "source": [
    "\n",
    "\n",
    "\n"
   ]
  },
  {
   "cell_type": "markdown",
   "id": "2f3946a5",
   "metadata": {},
   "source": [
    "Q5. State advantages and disadvantages of multithreading\n",
    "\n",
    "\n",
    "***Advantages of Multithreading:\n",
    "\n",
    "=>Concurrent Execution: Multithreading allows multiple tasks to be executed concurrently within a single process. \n",
    "=>Responsiveness: Multithreading can enhance the responsiveness of an application by keeping the user interface (UI) thread separate from time-consuming tasks.\n",
    "=>Resource Sharing: Threads within a process can share memory and resources, which facilitates efficient communication and data sharing between different parts of a program. \n",
    "\n",
    "***Disadvantages of Multithreading:\n",
    "\n",
    "=>Complexity: Multithreaded programming introduces complexity due to issues like thread synchronization, resource sharing, and thread safety.\n",
    "=>Debugging and Testing: Identifying and debugging issues in multithreaded programs can be more challenging compared to singl"
   ]
  },
  {
   "cell_type": "markdown",
   "id": "78bceb5a",
   "metadata": {},
   "source": [
    "\n",
    "\n",
    "\n",
    "\n",
    "\n"
   ]
  },
  {
   "cell_type": "markdown",
   "id": "8434b031",
   "metadata": {},
   "source": [
    "Q6. Explain deadlocks and race conditions\n",
    "\n",
    "Deadlocks:\n",
    "\n",
    "=>Deadlocks occur in concurrent computing when two or more threads are stuck waiting for each other to release resources they need to continue.\n",
    "=>It's like a \"standstill\" situation where none of the threads can proceed, leading to application freezes or crashes.\n",
    "=>Deadlocks often happen due to circular dependencies between resources or improper resource management.\n",
    "=>Detecting and resolving deadlocks can be challenging.\n",
    "\n",
    "\n",
    "Race Conditions:\n",
    "\n",
    "=>Race conditions arise when the behavior of a program depends on the timing of events, such as the order of execution of multiple threads.\n",
    "=>They occur when multiple threads access shared resources or variables simultaneously.\n",
    "=>Race conditions can lead to unpredictable or incorrect results, data corruption, or inconsistency.\n",
    "=>To avoid race conditions, proper synchronization mechanisms like locks or semaphores should be used to ensure that critical sections of code are executed atomically"
   ]
  }
 ],
 "metadata": {
  "kernelspec": {
   "display_name": "Python 3 (ipykernel)",
   "language": "python",
   "name": "python3"
  },
  "language_info": {
   "codemirror_mode": {
    "name": "ipython",
    "version": 3
   },
   "file_extension": ".py",
   "mimetype": "text/x-python",
   "name": "python",
   "nbconvert_exporter": "python",
   "pygments_lexer": "ipython3",
   "version": "3.10.9"
  }
 },
 "nbformat": 4,
 "nbformat_minor": 5
}
