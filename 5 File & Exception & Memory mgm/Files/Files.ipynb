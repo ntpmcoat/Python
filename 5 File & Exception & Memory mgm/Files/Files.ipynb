{
 "cells": [
  {
   "cell_type": "markdown",
   "id": "7b5c284c",
   "metadata": {},
   "source": [
    "\n",
    "                                        Working with files\n",
    "                                        "
   ]
  },
  {
   "cell_type": "code",
   "execution_count": 1,
   "id": "4870140f",
   "metadata": {},
   "outputs": [],
   "source": [
    "f = open(\"text.txt\", 'w')"
   ]
  },
  {
   "cell_type": "code",
   "execution_count": null,
   "id": "1d47ddce",
   "metadata": {},
   "outputs": [],
   "source": [
    "pwd"
   ]
  },
  {
   "cell_type": "code",
   "execution_count": 3,
   "id": "0eb1381f",
   "metadata": {},
   "outputs": [
    {
     "name": "stdout",
     "output_type": "stream",
     "text": [
      " Volume in drive C is Windows\n",
      " Volume Serial Number is 3EA8-448E\n",
      "\n",
      " Directory of C:\\Users\\asus\\Untitled Folder\n",
      "\n",
      "18-07-2023  19:10    <DIR>          .\n",
      "18-07-2023  19:10    <DIR>          ..\n",
      "18-07-2023  18:41    <DIR>          .ipynb_checkpoints\n",
      "18-07-2023  17:54               337 buff1.txt\n",
      "18-07-2023  11:43               316 Copy.txt\n",
      "18-07-2023  12:23                 6 data.bin\n",
      "18-07-2023  12:16                66 data.csv\n",
      "18-07-2023  12:01               112 data.json\n",
      "18-07-2023  19:10            88,879 Files.ipynb\n",
      "18-07-2023  19:01               837 LOG.log\n",
      "18-07-2023  19:07               957 LOG1.log\n",
      "18-07-2023  18:45                 0 Log9.log\n",
      "18-07-2023  18:57             5,715 logging.ipynb\n",
      "18-07-2023  19:11                 0 Text.txt\n",
      "              11 File(s)         97,225 bytes\n",
      "               3 Dir(s)  181,628,952,576 bytes free\n"
     ]
    }
   ],
   "source": [
    "ls"
   ]
  },
  {
   "cell_type": "code",
   "execution_count": 4,
   "id": "29772839",
   "metadata": {},
   "outputs": [
    {
     "name": "stdout",
     "output_type": "stream",
     "text": [
      "[WinError 2] The system cannot find the file specified: 'untitled'\n",
      "C:\\Users\\asus\\Untitled Folder\n"
     ]
    }
   ],
   "source": [
    "cd untitled"
   ]
  },
  {
   "cell_type": "code",
   "execution_count": 5,
   "id": "ecc27449",
   "metadata": {},
   "outputs": [
    {
     "data": {
      "text/plain": [
       "6"
      ]
     },
     "execution_count": 5,
     "metadata": {},
     "output_type": "execute_result"
    }
   ],
   "source": [
    "f.write(\"Sample\")"
   ]
  },
  {
   "cell_type": "code",
   "execution_count": 6,
   "id": "af9e4020",
   "metadata": {},
   "outputs": [],
   "source": [
    "# to see any changes need to be closed \n",
    "f.close()"
   ]
  },
  {
   "cell_type": "code",
   "execution_count": 7,
   "id": "d7633ec1",
   "metadata": {},
   "outputs": [],
   "source": [
    "# w---> overwrites in file i.e truncates first then writes\n",
    "f = open(\"text.txt\", 'w')"
   ]
  },
  {
   "cell_type": "code",
   "execution_count": 8,
   "id": "087182f4",
   "metadata": {},
   "outputs": [
    {
     "data": {
      "text/plain": [
       "1"
      ]
     },
     "execution_count": 8,
     "metadata": {},
     "output_type": "execute_result"
    }
   ],
   "source": [
    "f.write(\"s\")"
   ]
  },
  {
   "cell_type": "code",
   "execution_count": 9,
   "id": "65caa7bc",
   "metadata": {},
   "outputs": [],
   "source": [
    "f.close()"
   ]
  },
  {
   "cell_type": "code",
   "execution_count": 10,
   "id": "446a4203",
   "metadata": {},
   "outputs": [],
   "source": [
    "# a---->to append data in file\n",
    "f = open(\"text.txt\", 'a')"
   ]
  },
  {
   "cell_type": "code",
   "execution_count": 11,
   "id": "295fdefc",
   "metadata": {},
   "outputs": [
    {
     "data": {
      "text/plain": [
       "316"
      ]
     },
     "execution_count": 11,
     "metadata": {},
     "output_type": "execute_result"
    }
   ],
   "source": [
    "f.write(\"No, we cannot create an instance of an abstract class in most programming languages, including Python. Abstract classes are designed to be incomplete and serve as a blueprint for subclasses to inherit from. They define the structure, common interface, and possibly some default behavior for the subclasses to follow.\")"
   ]
  },
  {
   "cell_type": "code",
   "execution_count": 12,
   "id": "7d784bcb",
   "metadata": {},
   "outputs": [],
   "source": [
    "f.close()"
   ]
  },
  {
   "cell_type": "code",
   "execution_count": 13,
   "id": "3bfd0e8a",
   "metadata": {},
   "outputs": [],
   "source": [
    "f= open(\"text.txt\", 'r')"
   ]
  },
  {
   "cell_type": "code",
   "execution_count": 14,
   "id": "0fdc625d",
   "metadata": {},
   "outputs": [
    {
     "data": {
      "text/plain": [
       "'sNo, we cannot create an instance of an abstract class in most programming languages, including Python. Abstract classes are designed to be incomplete and serve as a blueprint for subclasses to inherit from. They define the structure, common interface, and possibly some default behavior for the subclasses to follow.'"
      ]
     },
     "execution_count": 14,
     "metadata": {},
     "output_type": "execute_result"
    }
   ],
   "source": [
    "f.read()"
   ]
  },
  {
   "cell_type": "code",
   "execution_count": 15,
   "id": "1d46265d",
   "metadata": {},
   "outputs": [
    {
     "data": {
      "text/plain": [
       "''"
      ]
     },
     "execution_count": 15,
     "metadata": {},
     "output_type": "execute_result"
    }
   ],
   "source": [
    "# to read line by line we use\n",
    "f.readline()\n",
    "# it gives data but now our pointer is at end after performing read operation and after that there is no data so it printing \"\""
   ]
  },
  {
   "cell_type": "code",
   "execution_count": 16,
   "id": "15e772f3",
   "metadata": {},
   "outputs": [
    {
     "data": {
      "text/plain": [
       "0"
      ]
     },
     "execution_count": 16,
     "metadata": {},
     "output_type": "execute_result"
    }
   ],
   "source": [
    "# to get pointer return back to random  position we use (0-->intial)\n",
    "f.seek(0)"
   ]
  },
  {
   "cell_type": "code",
   "execution_count": 17,
   "id": "ec1a4468",
   "metadata": {},
   "outputs": [
    {
     "data": {
      "text/plain": [
       "'sNo, we cannot create an instance of an abstract class in most programming languages, including Python. Abstract classes are designed to be incomplete and serve as a blueprint for subclasses to inherit from. They define the structure, common interface, and possibly some default behavior for the subclasses to follow.'"
      ]
     },
     "execution_count": 17,
     "metadata": {},
     "output_type": "execute_result"
    }
   ],
   "source": [
    "f.readline()"
   ]
  },
  {
   "cell_type": "code",
   "execution_count": 18,
   "id": "03b1bc41",
   "metadata": {},
   "outputs": [
    {
     "data": {
      "text/plain": [
       "''"
      ]
     },
     "execution_count": 18,
     "metadata": {},
     "output_type": "execute_result"
    }
   ],
   "source": [
    "f.readline()"
   ]
  },
  {
   "cell_type": "code",
   "execution_count": 19,
   "id": "1502f216",
   "metadata": {},
   "outputs": [],
   "source": [
    "da =open(\"text.txt\", 'r')"
   ]
  },
  {
   "cell_type": "code",
   "execution_count": 20,
   "id": "48070189",
   "metadata": {},
   "outputs": [
    {
     "name": "stdout",
     "output_type": "stream",
     "text": [
      "sNo, we cannot create an instance of an abstract class in most programming languages, including Python. Abstract classes are designed to be incomplete and serve as a blueprint for subclasses to inherit from. They define the structure, common interface, and possibly some default behavior for the subclasses to follow.\n"
     ]
    }
   ],
   "source": [
    "for i in  da:\n",
    "    print(i)"
   ]
  },
  {
   "cell_type": "code",
   "execution_count": 21,
   "id": "6a34fe81",
   "metadata": {},
   "outputs": [],
   "source": [
    "\n",
    "# to get size of file in byte\n"
   ]
  },
  {
   "cell_type": "code",
   "execution_count": 22,
   "id": "47c557c2",
   "metadata": {},
   "outputs": [
    {
     "data": {
      "text/plain": [
       "317"
      ]
     },
     "execution_count": 22,
     "metadata": {},
     "output_type": "execute_result"
    }
   ],
   "source": [
    "import os\n",
    "\n",
    "os.path.getsize(\"text.txt\")"
   ]
  },
  {
   "cell_type": "code",
   "execution_count": 23,
   "id": "80590443",
   "metadata": {},
   "outputs": [
    {
     "ename": "PermissionError",
     "evalue": "[WinError 32] The process cannot access the file because it is being used by another process: 'text.txt'",
     "output_type": "error",
     "traceback": [
      "\u001b[1;31m---------------------------------------------------------------------------\u001b[0m",
      "\u001b[1;31mPermissionError\u001b[0m                           Traceback (most recent call last)",
      "Cell \u001b[1;32mIn[23], line 2\u001b[0m\n\u001b[0;32m      1\u001b[0m \u001b[38;5;66;03m# to remove file we use\u001b[39;00m\n\u001b[1;32m----> 2\u001b[0m \u001b[43mos\u001b[49m\u001b[38;5;241;43m.\u001b[39;49m\u001b[43mremove\u001b[49m\u001b[43m(\u001b[49m\u001b[38;5;124;43m\"\u001b[39;49m\u001b[38;5;124;43mtext.txt\u001b[39;49m\u001b[38;5;124;43m\"\u001b[39;49m\u001b[43m)\u001b[49m\n",
      "\u001b[1;31mPermissionError\u001b[0m: [WinError 32] The process cannot access the file because it is being used by another process: 'text.txt'"
     ]
    }
   ],
   "source": [
    "# to remove file we use\n",
    "os.remove(\"text.txt\")"
   ]
  },
  {
   "cell_type": "code",
   "execution_count": null,
   "id": "74cfa374",
   "metadata": {},
   "outputs": [],
   "source": [
    "f=open(\"text.txt\", 'w')\n",
    "f.write(\" we cannot create an instance of an abstract class in most programming languages, including Python.\")\n",
    "f.write(\"\\nAbstract classes are designed to be incomplete and serve as a blueprint for subclasses to inherit from. \")\n",
    "f.write(\"\\nThey define the structure, common interface, and possibly some default behavior for the subclasses to follow.\")\n",
    "f.close()    "
   ]
  },
  {
   "cell_type": "code",
   "execution_count": null,
   "id": "55ca35ed",
   "metadata": {},
   "outputs": [],
   "source": [
    "f=open(\"text.txt\", 'r')\n",
    "f.readlines()"
   ]
  },
  {
   "cell_type": "code",
   "execution_count": null,
   "id": "227e2030",
   "metadata": {},
   "outputs": [],
   "source": [
    "# to rename (old, new)\n",
    "import os\n",
    "os.rename(\"text.txt\",\"Text.txt\")"
   ]
  },
  {
   "cell_type": "code",
   "execution_count": null,
   "id": "5d43cde6",
   "metadata": {},
   "outputs": [],
   "source": [
    "# to create new copy of file we can use copy function of shutil module (file name , name of copy)\n",
    "import shutil\n",
    "shutil.copy(\"Text.txt\", \"Copy.txt\")"
   ]
  },
  {
   "cell_type": "code",
   "execution_count": null,
   "id": "ed6d8cef",
   "metadata": {},
   "outputs": [],
   "source": [
    "# another way to open file is...............as f---> alias\n",
    "with open(\"Text.txt\", 'r') as f :\n",
    "     print(f.read())\n",
    "f.close()"
   ]
  },
  {
   "cell_type": "markdown",
   "id": "3df1846a",
   "metadata": {},
   "source": [
    "\n",
    "\n"
   ]
  },
  {
   "cell_type": "markdown",
   "id": "78846502",
   "metadata": {},
   "source": [
    "\n",
    "                                    Reading and Writing with files\n",
    "                                    "
   ]
  },
  {
   "cell_type": "markdown",
   "id": "ba887fa5",
   "metadata": {},
   "source": [
    "+++++++++++++++++++++++ Key-value format data +++++++++++++++++"
   ]
  },
  {
   "cell_type": "code",
   "execution_count": null,
   "id": "4621f1b8",
   "metadata": {},
   "outputs": [],
   "source": [
    "data ={\n",
    "    \"name\" : \"Nikhil\",\n",
    "    \"Age\":19,\n",
    "    \"YOB\" : 2004,\n",
    "    \"mob\": 9769436384,\n",
    "    \"skill\" : [\"java\", \"python\",\" js\",\"html\", \"css\"]\n",
    "}"
   ]
  },
  {
   "cell_type": "code",
   "execution_count": null,
   "id": "62a75f65",
   "metadata": {},
   "outputs": [],
   "source": [
    "# json --> java script object notion \n",
    "# here data is available in key value format"
   ]
  },
  {
   "cell_type": "code",
   "execution_count": null,
   "id": "4348cfe5",
   "metadata": {},
   "outputs": [],
   "source": [
    "# json module has capability to read/write above format data\n",
    "import json"
   ]
  },
  {
   "cell_type": "code",
   "execution_count": null,
   "id": "92822230",
   "metadata": {},
   "outputs": [],
   "source": [
    "with open(\"data.json\", 'w') as f :\n",
    "    json.dump(data, f) #----> used to write data "
   ]
  },
  {
   "cell_type": "code",
   "execution_count": null,
   "id": "7d493ef3",
   "metadata": {},
   "outputs": [],
   "source": [
    "with open(\"data.json\", 'r') as f :\n",
    "    d= json.load(f)\n",
    "    \n",
    "d"
   ]
  },
  {
   "cell_type": "markdown",
   "id": "3df379f4",
   "metadata": {},
   "source": [
    "++++++++++++++++ comma separated data +++++++++++"
   ]
  },
  {
   "cell_type": "code",
   "execution_count": null,
   "id": "37b02dd2",
   "metadata": {},
   "outputs": [],
   "source": [
    "# csv --> comma separated values \n",
    "# here data is available in comma seprated  format\n",
    "# data that we stored in csv is structured data (tabular)\n",
    "\n",
    "import csv"
   ]
  },
  {
   "cell_type": "code",
   "execution_count": null,
   "id": "2533fdf5",
   "metadata": {},
   "outputs": [],
   "source": [
    "data=[\n",
    "    [\"name\",\"mob\",\"add\"],  \n",
    "    [\"Jai\",\"7483728840\",\"kurla\"],\n",
    "    [\"roshan\",\"8493393834\",\"Bhandup\"]\n",
    "]"
   ]
  },
  {
   "cell_type": "code",
   "execution_count": null,
   "id": "e092ece4",
   "metadata": {},
   "outputs": [],
   "source": [
    "with open(\"data.csv\", 'w') as f :\n",
    "    writer =csv.writer(f)\n",
    "    for i in data:\n",
    "        writer.writerow(i)"
   ]
  },
  {
   "cell_type": "code",
   "execution_count": null,
   "id": "9ab0c5e0",
   "metadata": {},
   "outputs": [],
   "source": [
    "with open(\"data.csv\", 'r') as f :\n",
    "    read=csv.reader(f)\n",
    "    \n",
    "    for i in read :\n",
    "        print(i)"
   ]
  },
  {
   "cell_type": "markdown",
   "id": "10def81b",
   "metadata": {},
   "source": [
    "++++++++++++++++ binary data +++++++++++"
   ]
  },
  {
   "cell_type": "code",
   "execution_count": null,
   "id": "77008a02",
   "metadata": {},
   "outputs": [],
   "source": [
    "with open(\"data.bin\", 'wb') as f :\n",
    "    f.write(b\"\\x0657hhn\")"
   ]
  },
  {
   "cell_type": "code",
   "execution_count": null,
   "id": "5e493abf",
   "metadata": {},
   "outputs": [],
   "source": [
    "with open(\"data.bin\", 'rb') as f :\n",
    "    print(f.read())"
   ]
  },
  {
   "cell_type": "markdown",
   "id": "d7960be1",
   "metadata": {},
   "source": [
    "\n",
    "\n"
   ]
  },
  {
   "cell_type": "markdown",
   "id": "1d15047f",
   "metadata": {},
   "source": [
    "                                           Buffered read and write \n",
    "\n",
    "=> used to write big files within a sec."
   ]
  },
  {
   "cell_type": "code",
   "execution_count": null,
   "id": "3b03b1be",
   "metadata": {},
   "outputs": [],
   "source": [
    "import io"
   ]
  },
  {
   "cell_type": "code",
   "execution_count": null,
   "id": "32dc9d75",
   "metadata": {},
   "outputs": [],
   "source": [
    "with open(\"buff1.txt\", 'wb') as f :\n",
    "    f1 = io.BufferedWriter(f)\n",
    "    f1.write(b\"first line \\n\")\n",
    "    f1.write(b\"second line \\n\")\n",
    "    f1.write(b\"we cannot create an instance of an abstract class in most programming languages, including Python. Abstract classes are designed to be incomplete and serve as a blueprint for subclasses to inherit from. They define the structure, common interface, and possibly some default behavior for the subclasses to follow.\")\n",
    "    f1.flush()"
   ]
  },
  {
   "cell_type": "code",
   "execution_count": null,
   "id": "9a7be177",
   "metadata": {},
   "outputs": [],
   "source": [
    "with open(\"buff1.txt\", 'rb') as f :\n",
    "    f1 = io.BufferedReader(f)\n",
    "    print(f1.read())#-----------> can define no. of bytes f1.read(10)"
   ]
  },
  {
   "cell_type": "markdown",
   "id": "5a890e42",
   "metadata": {},
   "source": [
    "\n"
   ]
  },
  {
   "cell_type": "markdown",
   "id": "4bb8b896",
   "metadata": {},
   "source": [
    "                                Logging and debugging python\n",
    "                            \n",
    "=> when ever  we print it prints in console i.e bin memory it is not stored \n",
    "=>to store something for future investigation \n",
    "=> it permanant sol is \"LOGGING\"\n",
    "\n",
    "=># there are basically six levels\n",
    "1. NOTSET\n",
    "2. DEBUG\n",
    "3. INFO\n",
    "4. WARNING\n",
    "5. ERROR\n",
    "6. CRITICAL\n",
    "=> after setting level we can access mentioned level or below levels \n",
    "    for ex\n",
    "    level = info ------------i.e 3\n",
    "    can access 3 4 5 6"
   ]
  },
  {
   "cell_type": "code",
   "execution_count": null,
   "id": "3d6259ef",
   "metadata": {},
   "outputs": [],
   "source": [
    "import logging"
   ]
  },
  {
   "cell_type": "code",
   "execution_count": null,
   "id": "74cda641",
   "metadata": {},
   "outputs": [],
   "source": [
    "\n",
    "logging.basicConfig(filename = \"LOG.log\", level = logging.INFO)"
   ]
  },
  {
   "cell_type": "code",
   "execution_count": null,
   "id": "5301e13b",
   "metadata": {},
   "outputs": [],
   "source": [
    "logging.info(\"hi checking\")"
   ]
  },
  {
   "cell_type": "code",
   "execution_count": null,
   "id": "5d45247b",
   "metadata": {},
   "outputs": [],
   "source": [
    "logging.info(\"Logging and debugging python\")"
   ]
  },
  {
   "cell_type": "code",
   "execution_count": null,
   "id": "52db8594",
   "metadata": {},
   "outputs": [],
   "source": [
    "logging.debug(\"hi checkin \")"
   ]
  },
  {
   "cell_type": "code",
   "execution_count": null,
   "id": "6e333c13",
   "metadata": {},
   "outputs": [],
   "source": [
    "logging.error(\"hi checkin \")\n"
   ]
  },
  {
   "cell_type": "code",
   "execution_count": null,
   "id": "76972c70",
   "metadata": {},
   "outputs": [],
   "source": [
    "logging.shutdown()"
   ]
  },
  {
   "cell_type": "code",
   "execution_count": null,
   "id": "b9848b7c",
   "metadata": {},
   "outputs": [],
   "source": [
    "import logging\n",
    "\n",
    "logging.basicConfig(filename = \"Log2.log\", level = logging.DEBUG, format =\"%(asctime)s %s(message)s\")"
   ]
  },
  {
   "cell_type": "code",
   "execution_count": null,
   "id": "56e965da",
   "metadata": {},
   "outputs": [],
   "source": [
    "logging.info(\"hiii\")\n",
    "logging.error(\"checking\")\n",
    "\n",
    "logging.critical(\"hi it is checking\")"
   ]
  },
  {
   "cell_type": "code",
   "execution_count": null,
   "id": "f813b5dd",
   "metadata": {},
   "outputs": [],
   "source": [
    "logging.shutdown()"
   ]
  },
  {
   "cell_type": "code",
   "execution_count": null,
   "id": "ec4e2af1",
   "metadata": {},
   "outputs": [],
   "source": []
  },
  {
   "cell_type": "code",
   "execution_count": null,
   "id": "ff4bfad6",
   "metadata": {},
   "outputs": [],
   "source": [
    "import logging\n",
    "logging.basicConfig(filename = \"Log2.log\", level = logging.INFO,  format =\"%(asctime)s %(name)s %(levelname)s %s(message)s\")"
   ]
  },
  {
   "cell_type": "code",
   "execution_count": null,
   "id": "60f44b91",
   "metadata": {},
   "outputs": [],
   "source": [
    "logging.info(\"hii\")"
   ]
  },
  {
   "cell_type": "code",
   "execution_count": null,
   "id": "496c753a",
   "metadata": {},
   "outputs": [],
   "source": [
    "logging.ipynb"
   ]
  },
  {
   "cell_type": "code",
   "execution_count": null,
   "id": "81cb83c0",
   "metadata": {},
   "outputs": [],
   "source": [
    "logging.s   hutdown()"
   ]
  },
  {
   "cell_type": "code",
   "execution_count": null,
   "id": "602c01a9",
   "metadata": {},
   "outputs": [],
   "source": [
    "import logging\n",
    "logging.basicConfig(filename = \"l.log\", level = logging.DEBUG, format ='%(asctime)s %(message)s')\n",
    "l=[1,2,3,4,5,6,7,[11,33],'nm', 'jhj']\n",
    "lint=[]\n",
    "lstr=[]\n",
    "\n",
    "for i in l:\n",
    "    logging.info(\"we are iterating our list , local var --> i\"+ str(l))\n",
    "    if type(i) == list :\n",
    "        logging.info(\"in if, to check list type {}\".format(i))\n",
    "        for j in i :\n",
    "            logging.info(\"in another for loop, to check list inside list element{}\".format(i))\n",
    "            if type(j) == int :\n",
    "                logging.info(\"in if\")\n",
    "                lint.append(j)\n",
    "    elif type(i) == int :\n",
    "        lint.append(i)\n",
    "    else :\n",
    "        lstr.append(i)\n",
    "                \n",
    "logging.info(\"Int -->{b} \\n Str -->{a}\".format(b=lint, a=lstr))\n",
    "                           "
   ]
  },
  {
   "cell_type": "code",
   "execution_count": null,
   "id": "77d17b03",
   "metadata": {},
   "outputs": [],
   "source": [
    "lint"
   ]
  },
  {
   "cell_type": "code",
   "execution_count": null,
   "id": "00d421cb",
   "metadata": {},
   "outputs": [],
   "source": [
    "lstr"
   ]
  },
  {
   "cell_type": "code",
   "execution_count": 1,
   "id": "b6c7d999",
   "metadata": {},
   "outputs": [
    {
     "ename": "FileNotFoundError",
     "evalue": "[Errno 2] No such file or directory: 'bn.txt'",
     "output_type": "error",
     "traceback": [
      "\u001b[1;31m---------------------------------------------------------------------------\u001b[0m",
      "\u001b[1;31mFileNotFoundError\u001b[0m                         Traceback (most recent call last)",
      "Cell \u001b[1;32mIn[1], line 1\u001b[0m\n\u001b[1;32m----> 1\u001b[0m f \u001b[38;5;241m=\u001b[39m \u001b[38;5;28;43mopen\u001b[39;49m\u001b[43m(\u001b[49m\u001b[38;5;124;43m\"\u001b[39;49m\u001b[38;5;124;43mbn.txt\u001b[39;49m\u001b[38;5;124;43m\"\u001b[39;49m\u001b[43m,\u001b[49m\u001b[43m \u001b[49m\u001b[38;5;124;43m'\u001b[39;49m\u001b[38;5;124;43mr\u001b[39;49m\u001b[38;5;124;43m'\u001b[39;49m\u001b[43m)\u001b[49m\n",
      "File \u001b[1;32m~\\anaconda3\\lib\\site-packages\\IPython\\core\\interactiveshell.py:282\u001b[0m, in \u001b[0;36m_modified_open\u001b[1;34m(file, *args, **kwargs)\u001b[0m\n\u001b[0;32m    275\u001b[0m \u001b[38;5;28;01mif\u001b[39;00m file \u001b[38;5;129;01min\u001b[39;00m {\u001b[38;5;241m0\u001b[39m, \u001b[38;5;241m1\u001b[39m, \u001b[38;5;241m2\u001b[39m}:\n\u001b[0;32m    276\u001b[0m     \u001b[38;5;28;01mraise\u001b[39;00m \u001b[38;5;167;01mValueError\u001b[39;00m(\n\u001b[0;32m    277\u001b[0m         \u001b[38;5;124mf\u001b[39m\u001b[38;5;124m\"\u001b[39m\u001b[38;5;124mIPython won\u001b[39m\u001b[38;5;124m'\u001b[39m\u001b[38;5;124mt let you open fd=\u001b[39m\u001b[38;5;132;01m{\u001b[39;00mfile\u001b[38;5;132;01m}\u001b[39;00m\u001b[38;5;124m by default \u001b[39m\u001b[38;5;124m\"\u001b[39m\n\u001b[0;32m    278\u001b[0m         \u001b[38;5;124m\"\u001b[39m\u001b[38;5;124mas it is likely to crash IPython. If you know what you are doing, \u001b[39m\u001b[38;5;124m\"\u001b[39m\n\u001b[0;32m    279\u001b[0m         \u001b[38;5;124m\"\u001b[39m\u001b[38;5;124myou can use builtins\u001b[39m\u001b[38;5;124m'\u001b[39m\u001b[38;5;124m open.\u001b[39m\u001b[38;5;124m\"\u001b[39m\n\u001b[0;32m    280\u001b[0m     )\n\u001b[1;32m--> 282\u001b[0m \u001b[38;5;28;01mreturn\u001b[39;00m io_open(file, \u001b[38;5;241m*\u001b[39margs, \u001b[38;5;241m*\u001b[39m\u001b[38;5;241m*\u001b[39mkwargs)\n",
      "\u001b[1;31mFileNotFoundError\u001b[0m: [Errno 2] No such file or directory: 'bn.txt'"
     ]
    }
   ],
   "source": [
    "f = open(\"bn.txt\", 'r')"
   ]
  },
  {
   "cell_type": "code",
   "execution_count": null,
   "id": "d142c5ee",
   "metadata": {},
   "outputs": [],
   "source": []
  }
 ],
 "metadata": {
  "kernelspec": {
   "display_name": "Python 3 (ipykernel)",
   "language": "python",
   "name": "python3"
  },
  "language_info": {
   "codemirror_mode": {
    "name": "ipython",
    "version": 3
   },
   "file_extension": ".py",
   "mimetype": "text/x-python",
   "name": "python",
   "nbconvert_exporter": "python",
   "pygments_lexer": "ipython3",
   "version": "3.10.9"
  }
 },
 "nbformat": 4,
 "nbformat_minor": 5
}
