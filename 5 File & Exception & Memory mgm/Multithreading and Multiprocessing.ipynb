{
 "cells": [
  {
   "cell_type": "code",
   "execution_count": null,
   "id": "946ccb16",
   "metadata": {},
   "outputs": [],
   "source": [
    "import threading "
   ]
  },
  {
   "cell_type": "code",
   "execution_count": null,
   "id": "c4837a32",
   "metadata": {},
   "outputs": [],
   "source": [
    "def test(id):\n",
    "    print(\"p stART %d\"% id)"
   ]
  },
  {
   "cell_type": "code",
   "execution_count": null,
   "id": "2a1832bd",
   "metadata": {},
   "outputs": [],
   "source": [
    "test(34)"
   ]
  },
  {
   "cell_type": "code",
   "execution_count": null,
   "id": "48eba52c",
   "metadata": {},
   "outputs": [],
   "source": [
    "a1= [threading.Thread(target=test, args=(i,)) for i in range(10)]"
   ]
  },
  {
   "cell_type": "code",
   "execution_count": null,
   "id": "40a6c4ce",
   "metadata": {},
   "outputs": [],
   "source": [
    "a1"
   ]
  },
  {
   "cell_type": "code",
   "execution_count": null,
   "id": "281d49e2",
   "metadata": {},
   "outputs": [],
   "source": [
    "for t in a1 :\n",
    "    t.start()"
   ]
  },
  {
   "cell_type": "markdown",
   "id": "c01eef33",
   "metadata": {},
   "source": [
    "\n",
    "\n"
   ]
  },
  {
   "cell_type": "code",
   "execution_count": null,
   "id": "f6a9e58c",
   "metadata": {},
   "outputs": [],
   "source": [
    "# to download multiple file \n",
    "import threading\n",
    "import urllib.request\n",
    "\n",
    "def download(url, fname):\n",
    "    urllib.request.urlretrieve(url,fname)\n",
    "    \n",
    "# download(\"http://localhost:8889/edit/Files/Text.txt\", \"t1.txt\")"
   ]
  },
  {
   "cell_type": "code",
   "execution_count": null,
   "id": "e6b23e28",
   "metadata": {},
   "outputs": [],
   "source": [
    "urlList=[\"cc\",\"d\", \"kjk\"]\n",
    "fnameList=[\"t1.txt\",\"t2.txt\",\"t3.txt\"]\n",
    "a1= [threading.Thread(target=download, args=(urlList[i],fnameList[i])) for i in range(len(urlList))]\n",
    "\n",
    "for t in a1 :\n",
    "    t.start()"
   ]
  },
  {
   "cell_type": "markdown",
   "id": "7e749569",
   "metadata": {},
   "source": [
    "\n"
   ]
  },
  {
   "cell_type": "code",
   "execution_count": 2,
   "id": "b322667b",
   "metadata": {},
   "outputs": [],
   "source": [
    "import threading\n",
    "import time\n",
    "\n",
    "def t1(id):\n",
    "    for i in range(3):\n",
    "        print(f\"test-->{id}---------->{i}........{time.ctime()}\")\n",
    "        time.sleep(1)"
   ]
  },
  {
   "cell_type": "code",
   "execution_count": 3,
   "id": "a782bd65",
   "metadata": {},
   "outputs": [],
   "source": [
    "a1= [threading.Thread(target=t1, args=(i,)) for i in range(3)]"
   ]
  },
  {
   "cell_type": "code",
   "execution_count": 4,
   "id": "29c1cb91",
   "metadata": {},
   "outputs": [
    {
     "name": "stdout",
     "output_type": "stream",
     "text": [
      "test-->0---------->0........Sun Jul 23 18:58:52 2023\n",
      "test-->1---------->0........Sun Jul 23 18:58:52 2023\n",
      "test-->2---------->0........Sun Jul 23 18:58:52 2023\n",
      "test-->2---------->1........Sun Jul 23 18:58:53 2023test-->0---------->1........Sun Jul 23 18:58:53 2023\n",
      "test-->1---------->1........Sun Jul 23 18:58:53 2023\n",
      "\n",
      "test-->2---------->2........Sun Jul 23 18:58:54 2023test-->1---------->2........Sun Jul 23 18:58:54 2023\n",
      "test-->0---------->2........Sun Jul 23 18:58:54 2023\n",
      "\n"
     ]
    }
   ],
   "source": [
    "for t in a1 :\n",
    "    t.start()"
   ]
  },
  {
   "cell_type": "markdown",
   "id": "3ebd8eb9",
   "metadata": {},
   "source": [
    "\n"
   ]
  },
  {
   "cell_type": "code",
   "execution_count": 5,
   "id": "7c6b3fd4",
   "metadata": {},
   "outputs": [],
   "source": [
    "shar=0\n",
    "lock=threading.Lock()\n",
    "\n",
    "def t2(id):\n",
    "    global shar              # each and every thread can access or use it ---> global\n",
    "    with lock:\n",
    "        shar+=1\n",
    "        time.sleep(0.5)\n",
    "        print(f\"test-->{id}.........{shar}\")"
   ]
  },
  {
   "cell_type": "code",
   "execution_count": 6,
   "id": "ab180188",
   "metadata": {},
   "outputs": [],
   "source": [
    "a2= [threading.Thread(target=t2, args=(i,)) for i in range(3)]"
   ]
  },
  {
   "cell_type": "code",
   "execution_count": 7,
   "id": "72257809",
   "metadata": {},
   "outputs": [
    {
     "name": "stdout",
     "output_type": "stream",
     "text": [
      "test-->0.........1\n",
      "test-->1.........2\n",
      "test-->2.........3\n"
     ]
    }
   ],
   "source": [
    "for t in a2 :\n",
    "    t.start()"
   ]
  },
  {
   "cell_type": "markdown",
   "id": "0327d820",
   "metadata": {},
   "source": [
    "\n",
    "\n",
    "\n",
    "\n",
    "\n"
   ]
  },
  {
   "cell_type": "markdown",
   "id": "1b4c5509",
   "metadata": {},
   "source": [
    "**************************      Multiprocessing         *******************\n",
    "\n",
    "=> "
   ]
  },
  {
   "cell_type": "code",
   "execution_count": 1,
   "id": "f2005de7",
   "metadata": {},
   "outputs": [
    {
     "name": "stdout",
     "output_type": "stream",
     "text": [
      "main\n"
     ]
    }
   ],
   "source": [
    "import multiprocessing\n",
    "\n",
    "def test1():\n",
    "    print(\"test\")\n",
    "        \n",
    "if __name__ ==\"__main__\":\n",
    "    mj = multiprocessing.Process(target=test1)\n",
    "    print(\"main\")\n",
    "    mj.start()\n",
    "    mj.join()\n",
    "    "
   ]
  },
  {
   "cell_type": "code",
   "execution_count": null,
   "id": "2c4ed729",
   "metadata": {},
   "outputs": [],
   "source": [
    "# def sq(n):\n",
    "#     return n**2\n",
    "\n",
    "# if __name__ ==\"__main__\":\n",
    "#     with multiprocessing.Pool(processes=3) as pool:\n",
    "#         op = pool.map(sq, [1,2,3,4,5,6])\n",
    "#         print(op)\n",
    "   \n",
    "import multiprocessing\n",
    "\n",
    "def sq(n):\n",
    "    return n**2\n",
    "\n",
    "if __name__ ==\"__main__\":\n",
    "    with multiprocessing.Pool(processes=3) as pool:\n",
    "        op = pool.map(sq, [1,2,3,4,5,6])\n",
    "    print(op)\n",
    "\n",
    "\n",
    "# [1,4,9,16,25,36]"
   ]
  },
  {
   "cell_type": "code",
   "execution_count": null,
   "id": "37a68a90",
   "metadata": {},
   "outputs": [],
   "source": [
    "def producer(q):\n",
    "    for i in range(10):\n",
    "        q.put(i)\n",
    "    q.put(None)\n",
    "def consumer(q):\n",
    "    while True: \n",
    "        item =q.get()\n",
    "        if item is None :\n",
    "            break\n",
    "        print(item)\n",
    "        \n",
    "if __name__ ==\"__main__\":\n",
    "    queue = multiprocessing.Queue()\n",
    "#     print(queue)\n",
    "    m1 = multiprocessing.Process(target=producer, args=(queue,))\n",
    "    m2 = multiprocessing.Process(target=consumer, args=(queue,))\n",
    "    m1.start()\n",
    "    m2.start()\n",
    "    queue.put(\"nik\")\n",
    "    m1.join()\n",
    "    m2.join()"
   ]
  },
  {
   "cell_type": "code",
   "execution_count": null,
   "id": "898a2fa4",
   "metadata": {},
   "outputs": [],
   "source": [
    "\n",
    "import multiprocessing\n",
    "\n",
    "def sq(n):\n",
    "    return n**2\n",
    "\n",
    "if __name__ ==\"__main__\":\n",
    "    with multiprocessing.Pool(processes=3) as pool:\n",
    "        op = pool.map(sq, [1,2,3,4,5,6])\n",
    "    print(op)\n"
   ]
  },
  {
   "cell_type": "code",
   "execution_count": null,
   "id": "aa2fc24c",
   "metadata": {},
   "outputs": [],
   "source": []
  },
  {
   "cell_type": "code",
   "execution_count": null,
   "id": "3ac48863",
   "metadata": {},
   "outputs": [],
   "source": []
  }
 ],
 "metadata": {
  "kernelspec": {
   "display_name": "Python 3 (ipykernel)",
   "language": "python",
   "name": "python3"
  },
  "language_info": {
   "codemirror_mode": {
    "name": "ipython",
    "version": 3
   },
   "file_extension": ".py",
   "mimetype": "text/x-python",
   "name": "python",
   "nbconvert_exporter": "python",
   "pygments_lexer": "ipython3",
   "version": "3.10.9"
  }
 },
 "nbformat": 4,
 "nbformat_minor": 5
}
