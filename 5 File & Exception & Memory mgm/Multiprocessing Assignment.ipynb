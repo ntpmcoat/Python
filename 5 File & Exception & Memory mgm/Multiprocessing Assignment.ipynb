{
 "cells": [
  {
   "cell_type": "markdown",
   "id": "dcf3d516",
   "metadata": {},
   "source": [
    "** IN MY JUPITER NOTEBOOK IT IS NOT RUNNING BUT THE CODE IS CORRECT**\n",
    "I HAVE DONE THIS IN \"COLAB\"\n",
    "LINK :https://colab.research.google.com/drive/1_6LP96-YDkjlaTGneZNsiR9tuP5myciR?usp=sharing\n",
    "\n",
    "\n",
    "\n",
    "\n"
   ]
  },
  {
   "cell_type": "markdown",
   "id": "f5e64202",
   "metadata": {},
   "source": [
    "Q1. What is multiprocessing in python? Why is it useful?\n",
    "\n",
    "=>Multiprocessing in Python refers to the capability of a program to utilize multiple processes to perform tasks concurrently.\n",
    "=>It allows you to create and manage multiple processes, each running independently and executing its own task.\n",
    "=>The multiprocessing module in Python provides tools for working with multiple processes.\n",
    "\n",
    "\n",
    "Usefulness of Multiprocessing:\n",
    "\n",
    "=>Improved Performance: Multiprocessing can significantly speed up CPU-bound tasks by leveraging multiple CPU cores to perform computations simultaneously.\n",
    "=>True Parallelism: Unlike multithreading, multiprocessing allows for true parallelism in Python, as each process has its own Global Interpreter Lock (GIL) and runs in separate memory spaces.\n",
    "=>Better Resource Utilization: By distributing tasks across multiple processes, multiprocessing makes efficient use of available system resources.\n",
    "=>Allows Task Distribution: It enables dividing large tasks into smaller sub-tasks and processing them concurrently, achieving task parallelism."
   ]
  },
  {
   "cell_type": "code",
   "execution_count": null,
   "id": "9863fc5e",
   "metadata": {},
   "outputs": [],
   "source": [
    "\n",
    "\n",
    "\n",
    "\n"
   ]
  },
  {
   "cell_type": "markdown",
   "id": "64aede8a",
   "metadata": {},
   "source": [
    "\n",
    "\n",
    "\n"
   ]
  },
  {
   "cell_type": "markdown",
   "id": "41f15a58",
   "metadata": {},
   "source": [
    "Q2. What are the differences between multiprocessing and multithreading?\n",
    "\n",
    "\n",
    "********* Nature of Execution: ********\n",
    "Multiprocessing runs multiple processes simultaneously, each with its own memory space and GIL whereas Multithreading runs multiple threads within a single process, sharing the same memory space and GIL.\n",
    "\n",
    "\n",
    "*******Communication and Isolation:*****\n",
    "Multiprocessing requires explicit communication mechanisms like pipes or queues, and processes are isolated from each other whereas In Multithreading Threads can easily communicate through shared variables, but proper synchronization is necessary to avoid race conditions.\n",
    "\n",
    "\n",
    "********* Memory Overhead ***************\n",
    "In Multiprocessing, higher memory overhead as each process has its own memory space whereas in Multithreading, lower memory overhead as threads share the same memory space.\n",
    "\n",
    "\n",
    "*********Parallelism: ********\n",
    "Multiprocessing: Achieves true parallelism since each process can run independently on separate CPU cores.\n",
    "Multithreading: Limited parallelism due to the GIL, which allows only one thread to execute Python bytecode at a time."
   ]
  },
  {
   "cell_type": "code",
   "execution_count": null,
   "id": "f3761044",
   "metadata": {},
   "outputs": [],
   "source": [
    "\n",
    "\n"
   ]
  },
  {
   "cell_type": "markdown",
   "id": "b8eb45a5",
   "metadata": {},
   "source": [
    "\n",
    "\n",
    "\n"
   ]
  },
  {
   "cell_type": "code",
   "execution_count": null,
   "id": "20bf6ca1",
   "metadata": {},
   "outputs": [],
   "source": [
    "# Q3. Write a python code to create a process using the multiprocessing module.\n",
    "  \n",
    "import multiprocessing\n",
    "\n",
    "def sq(n):\n",
    "    return n**2\n",
    "\n",
    "if __name__ ==\"__main__\":\n",
    "    with multiprocessing.Pool(processes=3) as pool:\n",
    "        op = pool.map(sq, [1,2,3,4,5,6])\n",
    "    print(op)\n"
   ]
  },
  {
   "cell_type": "code",
   "execution_count": null,
   "id": "9d4d0a77",
   "metadata": {},
   "outputs": [],
   "source": [
    "\n",
    "\n",
    "\n"
   ]
  },
  {
   "cell_type": "markdown",
   "id": "436cc7ff",
   "metadata": {},
   "source": [
    "Q4. What is a multiprocessing pool in python? Why is it used?\n",
    "\n",
    "=>A multiprocessing pool in Python is provided by the multiprocessing module.\n",
    "=>It enables parallel processing of tasks by creating a pool of worker processes.\n",
    "=>Tasks are automatically distributed among the worker processes, allowing concurrent execution.\n",
    "=>The pool manages the creation and termination of worker processes, reducing the overhead of process management.\n",
    "\n",
    "\n",
    "\n",
    "\n",
    "The multiprocessing pool is used for several reasons:\n",
    "\n",
    "=>Parallel Processing: It enables parallel processing of tasks, where multiple tasks can be executed simultaneously, taking advantage of multiple CPU cores and speeding up the overall computation.\n",
    "\n",
    "=>Load Balancing: The pool automatically balances the workload among worker processes, ensuring efficient utilization of available resources.\n",
    "\n",
    "=>Reduced Overhead: Creating and managing processes can have some overhead. The pool reuses existing processes, reducing the overhead of creating new processes for each task."
   ]
  },
  {
   "cell_type": "code",
   "execution_count": null,
   "id": "c326b6d5",
   "metadata": {},
   "outputs": [],
   "source": [
    "\n",
    "\n"
   ]
  },
  {
   "cell_type": "markdown",
   "id": "ac8f494f",
   "metadata": {},
   "source": [
    "Q5. How can we create a pool of worker processes in python using the multiprocessing module?\n",
    "\n",
    "To create a pool of worker processes the multiprocessing module, we can use the \"multiprocessing.pool\" class. The Pool class provides a simple and convenient way to manage a group of worker processes and distribute tasks among them for parallel processing.\n",
    "\n"
   ]
  },
  {
   "cell_type": "code",
   "execution_count": null,
   "id": "bf198994",
   "metadata": {},
   "outputs": [],
   "source": [
    "import multiprocessing\n",
    "from IPython import display\n",
    "def task(t):\n",
    "    result = t * 2\n",
    "    return result\n",
    "\n",
    "if __name__ == \"__main__\":\n",
    "    # Create a multiprocessing pool with the desired number of processes (e.g., 4).\n",
    "    pool = multiprocessing.Pool(processes=4)\n",
    "\n",
    "    # List of tasks to be processed in parallel.\n",
    "    tasks = [1, 2, 3, 4, 5, 6, 7, 8, 9, 10]\n",
    "\n",
    "    # Distribute tasks among worker processes and collect the results.\n",
    "    results = pool.map(task, tasks)\n",
    "\n",
    "    # Close the pool to prevent any more tasks from being submitted.\n",
    "    pool.close()\n",
    "\n",
    "    # Wait for all worker processes to complete their tasks.\n",
    "    pool.join()\n",
    "    display(result)\n",
    "    # The results list now contains the processed results of each task.\n",
    "    print(results)\n"
   ]
  },
  {
   "cell_type": "code",
   "execution_count": null,
   "id": "b174d3d2",
   "metadata": {},
   "outputs": [],
   "source": []
  },
  {
   "cell_type": "code",
   "execution_count": 3,
   "id": "eb7158d8",
   "metadata": {},
   "outputs": [],
   "source": [
    "# Q6. Write a python program to create 4 processes, each process should print a different number using the\n",
    "# multiprocessing module in python.\n",
    "import multiprocessing\n",
    "import sys\n",
    "def printNum(n):\n",
    "    print(f\"process {n}\")\n",
    "\n",
    "if __name__ ==\"__main__\":\n",
    "    p=[]\n",
    "    for i in range(4):\n",
    "        proces=multiprocessing.Process(target=printNum, args=(i, ))\n",
    "        p.append(proces)\n",
    "        proces.start()\n",
    "        \n",
    "    for x in p:\n",
    "        x.join()\n",
    "        \n",
    " \n",
    "        \n"
   ]
  },
  {
   "cell_type": "markdown",
   "id": "ab85ed16",
   "metadata": {},
   "source": [
    "\n"
   ]
  },
  {
   "cell_type": "code",
   "execution_count": null,
   "id": "b3f232f9",
   "metadata": {},
   "outputs": [],
   "source": []
  }
 ],
 "metadata": {
  "kernelspec": {
   "display_name": "Python 3 (ipykernel)",
   "language": "python",
   "name": "python3"
  },
  "language_info": {
   "codemirror_mode": {
    "name": "ipython",
    "version": 3
   },
   "file_extension": ".py",
   "mimetype": "text/x-python",
   "name": "python",
   "nbconvert_exporter": "python",
   "pygments_lexer": "ipython3",
   "version": "3.10.9"
  }
 },
 "nbformat": 4,
 "nbformat_minor": 5
}
