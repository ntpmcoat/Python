{
 "cells": [
  {
   "cell_type": "markdown",
   "id": "3213d57f",
   "metadata": {},
   "source": [
    "In python to tackle exception we have 4 blocks :\n",
    "\n",
    "=>try : it cotains code which can generate exception/error\n",
    "=>except : when kernel finds any exception then controls comesin this block and it contains what to do if exception found\n",
    "=>else : this is block of code which is executed after try if exception is not found (like if-else exception->if)\n",
    "=>finally : block  which gets executed whatever happen\n",
    "\n",
    "exception   found                         not found\n",
    "          \n",
    "try       until exception founds         whole block\n",
    "except    yes                            no\n",
    "else      no                             yes\n",
    "finally   yes                            yes\n"
   ]
  },
  {
   "cell_type": "code",
   "execution_count": 16,
   "id": "978c5d18",
   "metadata": {},
   "outputs": [
    {
     "name": "stdout",
     "output_type": "stream",
     "text": [
      "finally\n"
     ]
    },
    {
     "ename": "NameError",
     "evalue": "name 'ZeroDivisionErro' is not defined",
     "output_type": "error",
     "traceback": [
      "\u001b[1;31m---------------------------------------------------------------------------\u001b[0m",
      "\u001b[1;31mZeroDivisionError\u001b[0m                         Traceback (most recent call last)",
      "Cell \u001b[1;32mIn[16], line 3\u001b[0m\n\u001b[0;32m      2\u001b[0m     a, b\u001b[38;5;241m=\u001b[39m \u001b[38;5;241m8\u001b[39m, \u001b[38;5;241m0\u001b[39m\n\u001b[1;32m----> 3\u001b[0m     \u001b[38;5;28mprint\u001b[39m(\u001b[43ma\u001b[49m\u001b[38;5;241;43m/\u001b[39;49m\u001b[43mb\u001b[49m)\n\u001b[0;32m      4\u001b[0m \u001b[38;5;28;01mexcept\u001b[39;00m ZeroDivisionErro \u001b[38;5;28;01mas\u001b[39;00m e :\n",
      "\u001b[1;31mZeroDivisionError\u001b[0m: division by zero",
      "\nDuring handling of the above exception, another exception occurred:\n",
      "\u001b[1;31mNameError\u001b[0m                                 Traceback (most recent call last)",
      "Cell \u001b[1;32mIn[16], line 4\u001b[0m\n\u001b[0;32m      2\u001b[0m     a, b\u001b[38;5;241m=\u001b[39m \u001b[38;5;241m8\u001b[39m, \u001b[38;5;241m0\u001b[39m\n\u001b[0;32m      3\u001b[0m     \u001b[38;5;28mprint\u001b[39m(a\u001b[38;5;241m/\u001b[39mb)\n\u001b[1;32m----> 4\u001b[0m \u001b[38;5;28;01mexcept\u001b[39;00m \u001b[43mZeroDivisionErro\u001b[49m \u001b[38;5;28;01mas\u001b[39;00m e :\n\u001b[0;32m      5\u001b[0m     \u001b[38;5;28mprint\u001b[39m(\u001b[38;5;124m\"\u001b[39m\u001b[38;5;124mException :--> \u001b[39m\u001b[38;5;124m\"\u001b[39m, e)\n\u001b[0;32m      6\u001b[0m \u001b[38;5;28;01melse\u001b[39;00m :\n",
      "\u001b[1;31mNameError\u001b[0m: name 'ZeroDivisionErro' is not defined"
     ]
    }
   ],
   "source": [
    "try : \n",
    "    a, b= 8, 0\n",
    "    print(a/b)\n",
    "except ZeroDivisionError as e :                \n",
    "    print(\"Exception :--> \", e)\n",
    "else :\n",
    "    print(\"op\")\n",
    "finally :\n",
    "    print(\"finally\")\n",
    "    "
   ]
  },
  {
   "cell_type": "code",
   "execution_count": 9,
   "id": "c5342b6f",
   "metadata": {},
   "outputs": [
    {
     "name": "stdout",
     "output_type": "stream",
     "text": [
      "2.0\n",
      "op\n",
      "finally\n"
     ]
    }
   ],
   "source": [
    "try : \n",
    "    a, b= 8, 4\n",
    "    print(a/b)\n",
    "except Exception as e :\n",
    "    print(\"Exception :--> \", e)\n",
    "else :\n",
    "    print(\"op\")\n",
    "finally :\n",
    "    print(\"finally\")\n",
    "    "
   ]
  },
  {
   "cell_type": "markdown",
   "id": "96b85392",
   "metadata": {},
   "source": [
    "\n",
    "            Custom exception  \n",
    "\n",
    "=> same as java just need to inherit Exception class which is parent class of all the exception"
   ]
  },
  {
   "cell_type": "code",
   "execution_count": 10,
   "id": "ffc95f1a",
   "metadata": {},
   "outputs": [],
   "source": [
    "class ex(Exception):\n",
    "    def __init__(self , msg):\n",
    "        self.msg=msg"
   ]
  },
  {
   "cell_type": "code",
   "execution_count": 12,
   "id": "514a56fe",
   "metadata": {},
   "outputs": [],
   "source": [
    "\n",
    "def Validate(age) :\n",
    "    if age>150 or age<0 : \n",
    "        raise ex(\"underage\")\n",
    "    else :\n",
    "        print(\"valid\")"
   ]
  },
  {
   "cell_type": "code",
   "execution_count": 14,
   "id": "bd8ffbe9",
   "metadata": {},
   "outputs": [
    {
     "name": "stdout",
     "output_type": "stream",
     "text": [
      "Enter : 8\n",
      "valid\n"
     ]
    }
   ],
   "source": [
    "try : \n",
    "    age = int(input(\"Enter : \"))\n",
    "    Validate(age)  \n",
    "except ex as e :\n",
    "    print(\"Exception :--> \", e)"
   ]
  },
  {
   "cell_type": "code",
   "execution_count": 38,
   "id": "94a6e204",
   "metadata": {},
   "outputs": [
    {
     "name": "stdout",
     "output_type": "stream",
     "text": [
      "2--> division by zero\n"
     ]
    }
   ],
   "source": [
    "#multiple except  concepts is also available it should be in order of child class to parent/super class\n",
    "# it checks firest except if not matches then next and so on until exception doesn't matches\n",
    "\n",
    "try:\n",
    "    print(4/0)\n",
    "except ImportError as e :\n",
    "    print(e)\n",
    "except Exception as e :\n",
    "    print(\"2-->\",e)"
   ]
  },
  {
   "cell_type": "code",
   "execution_count": 39,
   "id": "2a54dba1",
   "metadata": {},
   "outputs": [
    {
     "name": "stdout",
     "output_type": "stream",
     "text": [
      "1--> unsupported operand type(s) for +: 'int' and 'str'\n"
     ]
    }
   ],
   "source": [
    "try:\n",
    "    123 + \"h\"\n",
    "except TypeError as e :\n",
    "    print(\"1-->\" , e)\n",
    "except Exception as e :\n",
    "    print(\"2\",e)"
   ]
  },
  {
   "cell_type": "markdown",
   "id": "afe4cb02",
   "metadata": {},
   "source": [
    "\n",
    "        List of general use Exception\n",
    "        \n"
   ]
  },
  {
   "cell_type": "code",
   "execution_count": 20,
   "id": "cd11c619",
   "metadata": {},
   "outputs": [
    {
     "name": "stdout",
     "output_type": "stream",
     "text": [
      "0.8888888888888888\n",
      "Exception :-->  invalid literal for int() with base 10: 'str'\n"
     ]
    }
   ],
   "source": [
    "# can write multiple error except\n",
    "try : \n",
    "    a, b= 8, 9\n",
    "    print(a/b)\n",
    "    int(\"str\")\n",
    "except (ZeroDivisionError, TypeError, ValueError) as e :                \n",
    "    print(\"Exception :--> \", e)"
   ]
  },
  {
   "cell_type": "code",
   "execution_count": 22,
   "id": "17401698",
   "metadata": {},
   "outputs": [
    {
     "name": "stdout",
     "output_type": "stream",
     "text": [
      "0.8888888888888888\n",
      "Exception :--> \n"
     ]
    }
   ],
   "source": [
    "# by defult it calls the super class of allthe exception that is 'Exception ' which is capable to handle any type of error\n",
    "try : \n",
    "    a, b= 8, 9\n",
    "    print(a/b)\n",
    "    int(\"str\")\n",
    "except :\n",
    "    print(\"Exception :--> \")"
   ]
  },
  {
   "cell_type": "code",
   "execution_count": 23,
   "id": "8c62727f",
   "metadata": {},
   "outputs": [
    {
     "name": "stdout",
     "output_type": "stream",
     "text": [
      "No module named 'nikhil'\n"
     ]
    }
   ],
   "source": [
    "try:\n",
    "    import nikhil\n",
    "except ImportError as e :\n",
    "    print(e)"
   ]
  },
  {
   "cell_type": "code",
   "execution_count": 26,
   "id": "9d332daf",
   "metadata": {},
   "outputs": [
    {
     "name": "stdout",
     "output_type": "stream",
     "text": [
      "hii\n",
      "!!!!!!!!!! 4\n"
     ]
    }
   ],
   "source": [
    "try:\n",
    "    d={1 : \"hii\", 2 : \"bye\"}\n",
    "    print(d[1])\n",
    "    print(d[4])\n",
    "except KeyError as e :\n",
    "    print(\"!!!!!!!!!!\",e)"
   ]
  },
  {
   "cell_type": "code",
   "execution_count": 29,
   "id": "055354a9",
   "metadata": {},
   "outputs": [
    {
     "name": "stdout",
     "output_type": "stream",
     "text": [
      "'str' object has no attribute 'test'\n"
     ]
    }
   ],
   "source": [
    "try:\n",
    "   \"h\".test()\n",
    "except AttributeError as e :\n",
    "    print(e)"
   ]
  },
  {
   "cell_type": "code",
   "execution_count": 31,
   "id": "042d740e",
   "metadata": {},
   "outputs": [
    {
     "name": "stdout",
     "output_type": "stream",
     "text": [
      "list index out of range\n"
     ]
    }
   ],
   "source": [
    "try:\n",
    "    l=[1,3,4,6,78]\n",
    "    print(l[10])\n",
    "except IndexError as e :\n",
    "    print(e)"
   ]
  },
  {
   "cell_type": "code",
   "execution_count": 32,
   "id": "233475b5",
   "metadata": {},
   "outputs": [
    {
     "name": "stdout",
     "output_type": "stream",
     "text": [
      "unsupported operand type(s) for +: 'int' and 'str'\n"
     ]
    }
   ],
   "source": [
    "try:\n",
    "    255 +\"jk\"\n",
    "except TypeError as e :\n",
    "    print(e)"
   ]
  },
  {
   "cell_type": "code",
   "execution_count": 34,
   "id": "6bcba5d0",
   "metadata": {},
   "outputs": [
    {
     "name": "stdout",
     "output_type": "stream",
     "text": [
      "[Errno 2] No such file or directory: 't.txt'\n"
     ]
    }
   ],
   "source": [
    "try:\n",
    "    with open (\"t.txt\", 'r') as f:\n",
    "        f.read()\n",
    "except FileNotFoundError as e :\n",
    "    print(e)"
   ]
  },
  {
   "cell_type": "code",
   "execution_count": 35,
   "id": "cac88aa7",
   "metadata": {},
   "outputs": [
    {
     "data": {
      "text/plain": [
       "['__cause__',\n",
       " '__class__',\n",
       " '__context__',\n",
       " '__delattr__',\n",
       " '__dict__',\n",
       " '__dir__',\n",
       " '__doc__',\n",
       " '__eq__',\n",
       " '__format__',\n",
       " '__ge__',\n",
       " '__getattribute__',\n",
       " '__gt__',\n",
       " '__hash__',\n",
       " '__init__',\n",
       " '__init_subclass__',\n",
       " '__le__',\n",
       " '__lt__',\n",
       " '__ne__',\n",
       " '__new__',\n",
       " '__reduce__',\n",
       " '__reduce_ex__',\n",
       " '__repr__',\n",
       " '__setattr__',\n",
       " '__setstate__',\n",
       " '__sizeof__',\n",
       " '__str__',\n",
       " '__subclasshook__',\n",
       " '__suppress_context__',\n",
       " '__traceback__',\n",
       " 'args',\n",
       " 'with_traceback']"
      ]
     },
     "execution_count": 35,
     "metadata": {},
     "output_type": "execute_result"
    }
   ],
   "source": [
    "dir(Exception)"
   ]
  },
  {
   "cell_type": "markdown",
   "id": "e50b7dc6",
   "metadata": {},
   "source": [
    "\n",
    "                    Best practice of exception\n",
    "                    \n",
    "=> use always a specific exception ---------[TypeError, KeyError, etc]\n",
    "=> print alway proper msg-------------------[ex-> print(\"i am trying to handle a zerodivision error :\", e)]\n",
    "=> always try to log your error\n",
    "=> always avoid multiple except\n",
    "=> Document all the error\n",
    "=> cleanup all the resources----------------[ ex. file is open then close it inshort clean buffer area]"
   ]
  }
 ],
 "metadata": {
  "kernelspec": {
   "display_name": "Python 3 (ipykernel)",
   "language": "python",
   "name": "python3"
  },
  "language_info": {
   "codemirror_mode": {
    "name": "ipython",
    "version": 3
   },
   "file_extension": ".py",
   "mimetype": "text/x-python",
   "name": "python",
   "nbconvert_exporter": "python",
   "pygments_lexer": "ipython3",
   "version": "3.10.9"
  }
 },
 "nbformat": 4,
 "nbformat_minor": 5
}
