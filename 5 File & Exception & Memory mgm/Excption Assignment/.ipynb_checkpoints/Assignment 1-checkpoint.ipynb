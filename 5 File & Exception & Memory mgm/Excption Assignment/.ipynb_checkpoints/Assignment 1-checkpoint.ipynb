{
 "cells": [
  {
   "cell_type": "code",
   "execution_count": 1,
   "id": "4f30af4a",
   "metadata": {},
   "outputs": [
    {
     "name": "stderr",
     "output_type": "stream",
     "text": [
      "--- Logging error ---\n",
      "Traceback (most recent call last):\n",
      "  File \"C:\\Users\\asus\\anaconda3\\lib\\logging\\__init__.py\", line 1100, in emit\n",
      "    msg = self.format(record)\n",
      "  File \"C:\\Users\\asus\\anaconda3\\lib\\logging\\__init__.py\", line 943, in format\n",
      "    return fmt.format(record)\n",
      "  File \"C:\\Users\\asus\\anaconda3\\lib\\logging\\__init__.py\", line 681, in format\n",
      "    s = self.formatMessage(record)\n",
      "  File \"C:\\Users\\asus\\anaconda3\\lib\\logging\\__init__.py\", line 650, in formatMessage\n",
      "    return self._style.format(record)\n",
      "  File \"C:\\Users\\asus\\anaconda3\\lib\\logging\\__init__.py\", line 440, in format\n",
      "    return self._format(record)\n",
      "  File \"C:\\Users\\asus\\anaconda3\\lib\\logging\\__init__.py\", line 436, in _format\n",
      "    return self._fmt % values\n",
      "TypeError: not enough arguments for format string\n",
      "Call stack:\n",
      "  File \"C:\\Users\\asus\\anaconda3\\lib\\runpy.py\", line 196, in _run_module_as_main\n",
      "    return _run_code(code, main_globals, None,\n",
      "  File \"C:\\Users\\asus\\anaconda3\\lib\\runpy.py\", line 86, in _run_code\n",
      "    exec(code, run_globals)\n",
      "  File \"C:\\Users\\asus\\anaconda3\\lib\\site-packages\\ipykernel_launcher.py\", line 17, in <module>\n",
      "    app.launch_new_instance()\n",
      "  File \"C:\\Users\\asus\\anaconda3\\lib\\site-packages\\traitlets\\config\\application.py\", line 992, in launch_instance\n",
      "    app.start()\n",
      "  File \"C:\\Users\\asus\\anaconda3\\lib\\site-packages\\ipykernel\\kernelapp.py\", line 711, in start\n",
      "    self.io_loop.start()\n",
      "  File \"C:\\Users\\asus\\anaconda3\\lib\\site-packages\\tornado\\platform\\asyncio.py\", line 199, in start\n",
      "    self.asyncio_loop.run_forever()\n",
      "  File \"C:\\Users\\asus\\anaconda3\\lib\\asyncio\\base_events.py\", line 603, in run_forever\n",
      "    self._run_once()\n",
      "  File \"C:\\Users\\asus\\anaconda3\\lib\\asyncio\\base_events.py\", line 1906, in _run_once\n",
      "    handle._run()\n",
      "  File \"C:\\Users\\asus\\anaconda3\\lib\\asyncio\\events.py\", line 80, in _run\n",
      "    self._context.run(self._callback, *self._args)\n",
      "  File \"C:\\Users\\asus\\anaconda3\\lib\\site-packages\\ipykernel\\kernelbase.py\", line 510, in dispatch_queue\n",
      "    await self.process_one()\n",
      "  File \"C:\\Users\\asus\\anaconda3\\lib\\site-packages\\ipykernel\\kernelbase.py\", line 499, in process_one\n",
      "    await dispatch(*args)\n",
      "  File \"C:\\Users\\asus\\anaconda3\\lib\\site-packages\\ipykernel\\kernelbase.py\", line 406, in dispatch_shell\n",
      "    await result\n",
      "  File \"C:\\Users\\asus\\anaconda3\\lib\\site-packages\\ipykernel\\kernelbase.py\", line 729, in execute_request\n",
      "    reply_content = await reply_content\n",
      "  File \"C:\\Users\\asus\\anaconda3\\lib\\site-packages\\ipykernel\\ipkernel.py\", line 411, in do_execute\n",
      "    res = shell.run_cell(\n",
      "  File \"C:\\Users\\asus\\anaconda3\\lib\\site-packages\\ipykernel\\zmqshell.py\", line 531, in run_cell\n",
      "    return super().run_cell(*args, **kwargs)\n",
      "  File \"C:\\Users\\asus\\anaconda3\\lib\\site-packages\\IPython\\core\\interactiveshell.py\", line 2961, in run_cell\n",
      "    result = self._run_cell(\n",
      "  File \"C:\\Users\\asus\\anaconda3\\lib\\site-packages\\IPython\\core\\interactiveshell.py\", line 3016, in _run_cell\n",
      "    result = runner(coro)\n",
      "  File \"C:\\Users\\asus\\anaconda3\\lib\\site-packages\\IPython\\core\\async_helpers.py\", line 129, in _pseudo_sync_runner\n",
      "    coro.send(None)\n",
      "  File \"C:\\Users\\asus\\anaconda3\\lib\\site-packages\\IPython\\core\\interactiveshell.py\", line 3221, in run_cell_async\n",
      "    has_raised = await self.run_ast_nodes(code_ast.body, cell_name,\n",
      "  File \"C:\\Users\\asus\\anaconda3\\lib\\site-packages\\IPython\\core\\interactiveshell.py\", line 3400, in run_ast_nodes\n",
      "    if await self.run_code(code, result, async_=asy):\n",
      "  File \"C:\\Users\\asus\\anaconda3\\lib\\site-packages\\IPython\\core\\interactiveshell.py\", line 3460, in run_code\n",
      "    exec(code_obj, self.user_global_ns, self.user_ns)\n",
      "  File \"C:\\Users\\asus\\AppData\\Local\\Temp\\ipykernel_10708\\653891837.py\", line 4, in <module>\n",
      "    logging.info(\"hii\")\n",
      "Message: 'hii'\n",
      "Arguments: ()\n"
     ]
    }
   ],
   "source": [
    "import logging\n",
    "logging.basicConfig(filename = \"Logger.log\", level = logging.INFO,  format =\"%(asctime)s  %s(message)s\")\n",
    "\n",
    "logging.info(\"hii\")"
   ]
  },
  {
   "cell_type": "code",
   "execution_count": null,
   "id": "9e74e92e",
   "metadata": {},
   "outputs": [],
   "source": [
    "#Q1.What is an Exception in python?What is difference between Exception and Syntax error\n",
    "#Ans:-Exceptions are error.Difference between Exception and Syntax error is that Exception occur at run time and syntax error \n",
    "#is identified at compile time itseld\n",
    "#Q2.What happens when an exception is not handled?Explain with example?\n",
    "#Ans:-When exception is not handled it will disturb the flow of execution of code.Example:-\n",
    "a=10\n",
    "a/0\n",
    "print(\"My name is jai\")"
   ]
  },
  {
   "cell_type": "code",
   "execution_count": null,
   "id": "2cf3870f",
   "metadata": {},
   "outputs": [],
   "source": [
    "#Q3. Which Python statements are used to catch and handle exceptions? Explain with an example\n",
    "#Ans:-except statement is used to handle exception in python.\n",
    "try:\n",
    "    a=10\n",
    "    a/0\n",
    "except Exception as e:\n",
    "    print(e)\n",
    "    "
   ]
  },
  {
   "cell_type": "code",
   "execution_count": null,
   "id": "638beb8b",
   "metadata": {},
   "outputs": [],
   "source": [
    "#Q4. Explain with an example:\n",
    "#try and else:\n",
    "try:\n",
    "    a=10\n",
    "    a/0\n",
    "except Exception as e:\n",
    "    print(e)\n",
    "else:\n",
    "    print(\"Executes when try is executed\")\n",
    "#b.finally\n",
    "finally:\n",
    "    print(\"Executes everytime\")\n",
    "#c.raise:\n",
    "#It is used to raise an error"
   ]
  },
  {
   "cell_type": "code",
   "execution_count": null,
   "id": "d5918c20",
   "metadata": {},
   "outputs": [],
   "source": [
    "#Q5. What are Custom Exceptions in python? Why do we need Custom Exceptions? Explain with an example\n",
    "#Ans:It is user defined function.We can need custom exception as not every exception can be built in some can be situation dependent according to product.\n",
    "#Q6. Create custom exception calss. Use this class to handle an exception.\n",
    "#Ans:-\n",
    "class License(Exception):\n",
    "    def __init__(self,msg):\n",
    "        self.msg=msg\n",
    "def Validate(age):\n",
    "    if age<18:\n",
    "        raise License(\"Cannot Apply\")\n",
    "    elif age>80:\n",
    "        raise License(\"Sorry due to medical reason cannot apply\")\n",
    "    else:\n",
    "        print(\"You can Apply\")\n",
    "try:\n",
    "    age=int(input(\"Please enter age for License:\"))\n",
    "    Validate(age)\n",
    "except License as e:\n",
    "    print(e)"
   ]
  },
  {
   "cell_type": "code",
   "execution_count": null,
   "id": "66d800d5",
   "metadata": {},
   "outputs": [],
   "source": []
  }
 ],
 "metadata": {
  "kernelspec": {
   "display_name": "Python 3 (ipykernel)",
   "language": "python",
   "name": "python3"
  },
  "language_info": {
   "codemirror_mode": {
    "name": "ipython",
    "version": 3
   },
   "file_extension": ".py",
   "mimetype": "text/x-python",
   "name": "python",
   "nbconvert_exporter": "python",
   "pygments_lexer": "ipython3",
   "version": "3.10.9"
  }
 },
 "nbformat": 4,
 "nbformat_minor": 5
}
