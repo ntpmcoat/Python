{
 "cells": [
  {
   "cell_type": "code",
   "execution_count": 2,
   "id": "f2aad0cc",
   "metadata": {},
   "outputs": [],
   "source": [
    "import logging\n",
    "\n",
    "logging.basicConfig(filename = \"Logger.log\", level = logging.INFO)\n"
   ]
  },
  {
   "cell_type": "code",
   "execution_count": null,
   "id": "78749b9f",
   "metadata": {},
   "outputs": [],
   "source": []
  },
  {
   "cell_type": "markdown",
   "id": "b3aa2a5b",
   "metadata": {},
   "source": [
    "Q1.What is an Exception in python?What is difference between Exception and Syntax error\n",
    "\n",
    "=> Exception is an error that occurs during the execution of a program. \n",
    "=> When an exceptional situation is encountered, Python raises an exception, which interrupts the normal flow of the program and    jumps to a special block of code designed to handle that particular type of exception.\n",
    "=> This block of code is called an exception handler or an exception block\n",
    "\n",
    "\n",
    "\n",
    "**********Differencce between Exception and syntax error**************\n",
    "\n",
    "=>An exception is an error that occurs during the execution of a program, and it can happen at runtime.\n",
    "=>A syntax error is a type of error that occurs during the interpretation of code before the program starts executing.\n",
    "\n",
    "=> Syntax errors are caused by mistakes in the structure of the code, such as incorrect indentation, missing colons, etc.\n",
    "=>Exceptions are typically caused by logical errors, input mistakes, or unexpected situations during program execution."
   ]
  },
  {
   "cell_type": "markdown",
   "id": "b5e4375a",
   "metadata": {},
   "source": [
    "\n",
    "\n"
   ]
  },
  {
   "cell_type": "code",
   "execution_count": 8,
   "id": "38c19d05",
   "metadata": {},
   "outputs": [
    {
     "ename": "ZeroDivisionError",
     "evalue": "division by zero",
     "output_type": "error",
     "traceback": [
      "\u001b[1;31m---------------------------------------------------------------------------\u001b[0m",
      "\u001b[1;31mZeroDivisionError\u001b[0m                         Traceback (most recent call last)",
      "Cell \u001b[1;32mIn[8], line 11\u001b[0m\n\u001b[0;32m      1\u001b[0m \u001b[38;5;124;03m\"\"\"\u001b[39;00m\n\u001b[0;32m      2\u001b[0m \u001b[38;5;124;03mQ2.What happens when an exception is not handled?Explain with example?\u001b[39;00m\n\u001b[0;32m      3\u001b[0m \n\u001b[1;32m   (...)\u001b[0m\n\u001b[0;32m      6\u001b[0m \u001b[38;5;124;03mtype of exception, the location where it occurred in the code, and the call stack.\u001b[39;00m\n\u001b[0;32m      7\u001b[0m \u001b[38;5;124;03m\"\"\"\u001b[39;00m\n\u001b[0;32m      9\u001b[0m a\u001b[38;5;241m=\u001b[39m\u001b[38;5;241m10\u001b[39m\n\u001b[1;32m---> 11\u001b[0m logging\u001b[38;5;241m.\u001b[39merror(\u001b[43ma\u001b[49m\u001b[38;5;241;43m/\u001b[39;49m\u001b[38;5;241;43m0\u001b[39;49m)\n",
      "\u001b[1;31mZeroDivisionError\u001b[0m: division by zero"
     ]
    }
   ],
   "source": [
    "\"\"\"\n",
    "Q2.What happens when an exception is not handled?Explain with example?\n",
    "\n",
    "When an exception is not handled it leads to an \"unhandled exception,\" which causes the program to terminate abruptly. \n",
    "When an unhandled exception occurs, Python prints an error message, called a traceback, to the console, indicating the\n",
    "type of exception, the location where it occurred in the code, and the call stack.\n",
    "\"\"\"\n",
    " \n",
    "a=10\n",
    "\n",
    "logging.error(a/0)"
   ]
  },
  {
   "cell_type": "markdown",
   "id": "14a5e29a",
   "metadata": {},
   "source": [
    "\n",
    "\n"
   ]
  },
  {
   "cell_type": "code",
   "execution_count": null,
   "id": "2cf3870f",
   "metadata": {},
   "outputs": [],
   "source": [
    "#Q3. Which Python statements are used to catch and handle exceptions? Explain with an example\n",
    "#Ans:-except statement is used to handle exception in python.\n",
    "try:\n",
    "    a=10\n",
    "    a/0\n",
    "except Exception as e:\n",
    "    print(e)\n",
    "    "
   ]
  },
  {
   "cell_type": "markdown",
   "id": "4da27057",
   "metadata": {},
   "source": [
    "\n",
    "\n"
   ]
  },
  {
   "cell_type": "markdown",
   "id": "56317cdb",
   "metadata": {},
   "source": [
    "Q4. Explain with an example:\n",
    "\n",
    "=>try : it cotains code which can generate exception/error\n",
    "  except : when kernel finds any exception then controls comesin this block and it contains what to do if exception found\n",
    "  \n",
    "  else : this is block of code which is executed after try if exception is not found (like if-else exception->if)\n",
    "  \n",
    "=>finally : block  which gets executed whatever happen\n",
    "\n",
    "=>raise : It is used to raise an user-defined error/exception "
   ]
  },
  {
   "cell_type": "code",
   "execution_count": 13,
   "id": "638beb8b",
   "metadata": {},
   "outputs": [
    {
     "name": "stdout",
     "output_type": "stream",
     "text": [
      "division by zero\n",
      "Executes everytime\n"
     ]
    }
   ],
   "source": [
    "# try and else  And  finally\n",
    "try:\n",
    "    a=10\n",
    "    a/0            # to exceute else, comment out this so that no exception found \n",
    "except ZeroDivisionError as e:\n",
    "    logging.error(e)\n",
    "    print(e)\n",
    "else:\n",
    "    logging.info(\"Executes when try is executed\")\n",
    "    print(\"Executes when try is executed\")\n",
    "finally:\n",
    "    print(\"Executes everytime\")\n",
    "    \n",
    "    \n",
    "#c.raise:\n",
    "#It is used to raise an error"
   ]
  },
  {
   "cell_type": "code",
   "execution_count": 11,
   "id": "71ab08ad",
   "metadata": {},
   "outputs": [
    {
     "name": "stdout",
     "output_type": "stream",
     "text": [
      "valid\n"
     ]
    }
   ],
   "source": [
    "class ex(Exception):\n",
    "    def __init__(self , msg):\n",
    "        self.msg=msg\n",
    "        \n",
    "\n",
    "def Validate(age) :\n",
    "    if age>150 or age<0 : \n",
    "        raise ex(\"underage\")\n",
    "    else :\n",
    "        logging.info(\"Valid\")\n",
    "        print(\"valid\")\n",
    "        \n",
    "Validate(67)"
   ]
  },
  {
   "cell_type": "markdown",
   "id": "36c62f62",
   "metadata": {},
   "source": [
    "\n",
    "\n"
   ]
  },
  {
   "cell_type": "markdown",
   "id": "7098f9f7",
   "metadata": {},
   "source": [
    "\n",
    "Q5. What are Custom Exceptions in python? Why do we need Custom Exceptions? Explain with an example\n",
    "\n",
    "=>Custom exceptions in Python are user-defined exceptions that extend the functionality of built-in exceptions.\n",
    "=>By creating custom exceptions, we can define our own exception types to handle specific error scenarios that are \n",
    "  relevant to our application or domain. \n",
    "\n",
    "***Needs***\n",
    "=>allows us to create error types tailored to your application's needs, making it easier to understand what went wrong\n",
    "=> enhances readability and maintainability, as it becomes more evident what kind of exception our function or method can raise"
   ]
  },
  {
   "cell_type": "code",
   "execution_count": 9,
   "id": "d8f81344",
   "metadata": {},
   "outputs": [
    {
     "name": "stdout",
     "output_type": "stream",
     "text": [
      "Enter : 890\n",
      "Exception :-->  Invalid\n"
     ]
    }
   ],
   "source": [
    "class ex(Exception):\n",
    "    def __init__(self , msg):\n",
    "        self.msg=msg\n",
    "        \n",
    "\n",
    "def Validate(age) :\n",
    "    if age>150 or age<0 : \n",
    "        raise ex(\"Invalid\")\n",
    "    else :\n",
    "        logging.info(f\"valid\")\n",
    "        print(f\"valid\")\n",
    "        \n",
    "try : \n",
    "    age = int(input(\"Enter : \"))\n",
    "    Validate(age)  \n",
    "except ex as e :\n",
    "    logging.error(e)\n",
    "    print(\"Exception :--> \", e)\n"
   ]
  },
  {
   "cell_type": "markdown",
   "id": "d13ec55d",
   "metadata": {},
   "source": [
    "\n",
    "\n",
    "\n"
   ]
  },
  {
   "cell_type": "code",
   "execution_count": 10,
   "id": "bbe9e795",
   "metadata": {},
   "outputs": [
    {
     "name": "stdout",
     "output_type": "stream",
     "text": [
      "Please enter age for License:89\n",
      "Sorry due to medical reason cannot apply\n"
     ]
    }
   ],
   "source": [
    "#Q6. Create custom exception calss. Use this class to handle an exception.\n",
    "\n",
    "class License(Exception):\n",
    "    def __init__(self,msg):\n",
    "        self.msg=msg\n",
    "def Validate(age):\n",
    "    if age<18:\n",
    "        raise License(\"Cannot Apply\")\n",
    "    elif age>80:\n",
    "        raise License(\"Sorry due to medical reason cannot apply\")\n",
    "    else:\n",
    "        logging.info(\"You can Apply\")\n",
    "        print(\"You can Apply\")\n",
    "try:\n",
    "    age=int(input(\"Please enter age for License:\"))\n",
    "    Validate(age)\n",
    "except License as e:\n",
    "    print(e)\n",
    "    logging.error(e)"
   ]
  },
  {
   "cell_type": "code",
   "execution_count": null,
   "id": "631baee9",
   "metadata": {},
   "outputs": [],
   "source": []
  }
 ],
 "metadata": {
  "kernelspec": {
   "display_name": "Python 3 (ipykernel)",
   "language": "python",
   "name": "python3"
  },
  "language_info": {
   "codemirror_mode": {
    "name": "ipython",
    "version": 3
   },
   "file_extension": ".py",
   "mimetype": "text/x-python",
   "name": "python",
   "nbconvert_exporter": "python",
   "pygments_lexer": "ipython3",
   "version": "3.10.9"
  }
 },
 "nbformat": 4,
 "nbformat_minor": 5
}
