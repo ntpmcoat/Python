{
 "cells": [
  {
   "cell_type": "code",
   "execution_count": 1,
   "id": "08338264",
   "metadata": {},
   "outputs": [],
   "source": [
    "# Consider the below code to answer further questions:\n",
    "import numpy as np\n",
    "list_ = [ '1','2','3','4','5' ]\n",
    "array_list = np.array(object = list_)"
   ]
  },
  {
   "cell_type": "markdown",
   "id": "617cb4cf",
   "metadata": {},
   "source": [
    "\n",
    "\n",
    "\n",
    "\n",
    "\n"
   ]
  },
  {
   "cell_type": "markdown",
   "id": "5655de5a",
   "metadata": {},
   "source": [
    "Q1. Is there any difference in the data type of variables list_ and array_list? If there is then write a code\n",
    "to print the data types of both the variables.\n",
    "\n",
    "\n",
    "=> Yes, there is difference in the data type of variables list_ and array_list\n",
    "\n",
    "=> 'list_' is an list type of data whereas 'array_list' is array"
   ]
  },
  {
   "cell_type": "code",
   "execution_count": 2,
   "id": "c66fbc5b",
   "metadata": {},
   "outputs": [
    {
     "name": "stdout",
     "output_type": "stream",
     "text": [
      "list_ ------> <class 'list'>\n",
      "array_list -> <class 'numpy.ndarray'>\n"
     ]
    }
   ],
   "source": [
    "print(\"list_ ------>\",type(list_))\n",
    "print(\"array_list ->\", type(array_list))"
   ]
  },
  {
   "cell_type": "code",
   "execution_count": null,
   "id": "3459fbe7",
   "metadata": {},
   "outputs": [],
   "source": [
    "\n",
    "\n",
    "\n"
   ]
  },
  {
   "cell_type": "markdown",
   "id": "d4a96cb0",
   "metadata": {},
   "source": [
    "Q2. Write a code to print the data type of each and every element of both the variables list_ and\n",
    "arra_list."
   ]
  },
  {
   "cell_type": "code",
   "execution_count": 3,
   "id": "e8b1c9a8",
   "metadata": {},
   "outputs": [
    {
     "name": "stdout",
     "output_type": "stream",
     "text": [
      "array_list :\n",
      "1  -->  <class 'numpy.str_'>\n",
      "2  -->  <class 'numpy.str_'>\n",
      "3  -->  <class 'numpy.str_'>\n",
      "4  -->  <class 'numpy.str_'>\n",
      "5  -->  <class 'numpy.str_'>\n",
      "\n",
      "list_ :\n",
      "1  -->  <class 'str'>\n",
      "2  -->  <class 'str'>\n",
      "3  -->  <class 'str'>\n",
      "4  -->  <class 'str'>\n",
      "5  -->  <class 'str'>\n",
      "\n"
     ]
    }
   ],
   "source": [
    "def print_datatypes(x):\n",
    "    for i in x:\n",
    "        print(i,\" --> \", type(i))\n",
    "    print()\n",
    "        \n",
    "print(\"array_list :\")\n",
    "print_datatypes(array_list)\n",
    "print(\"list_ :\")\n",
    "print_datatypes(list_)"
   ]
  },
  {
   "cell_type": "code",
   "execution_count": null,
   "id": "94d7a644",
   "metadata": {},
   "outputs": [],
   "source": [
    "\n",
    "\n",
    "\n",
    "\n"
   ]
  },
  {
   "cell_type": "markdown",
   "id": "f954bcb9",
   "metadata": {},
   "source": [
    "Q3. Considering the following changes in the variable, array_list:\n",
    "array_list = np.array(object = list_, dtype = int)\n",
    "Will there be any difference in the data type of the elements present in both the variables, list_ and\n",
    "arra_list? If so then print the data types of each and every element present in both the variables, list_\n",
    "and arra_list.\n",
    "\n",
    "\n",
    "\n",
    "=>there will be  difference in the data type of the elements present array_list"
   ]
  },
  {
   "cell_type": "code",
   "execution_count": 4,
   "id": "8d1e856a",
   "metadata": {},
   "outputs": [
    {
     "name": "stdout",
     "output_type": "stream",
     "text": [
      "1  -->  <class 'str'>\n",
      "2  -->  <class 'str'>\n",
      "3  -->  <class 'str'>\n",
      "4  -->  <class 'str'>\n",
      "5  -->  <class 'str'>\n",
      "\n",
      "1  -->  <class 'numpy.int32'>\n",
      "2  -->  <class 'numpy.int32'>\n",
      "3  -->  <class 'numpy.int32'>\n",
      "4  -->  <class 'numpy.int32'>\n",
      "5  -->  <class 'numpy.int32'>\n",
      "\n"
     ]
    }
   ],
   "source": [
    "array_list = np.array(object = list_, dtype = int)\n",
    "print_datatypes(list_)\n",
    "print_datatypes(array_list)"
   ]
  },
  {
   "cell_type": "code",
   "execution_count": null,
   "id": "ef431aff",
   "metadata": {},
   "outputs": [],
   "source": [
    "\n",
    "\n"
   ]
  },
  {
   "cell_type": "code",
   "execution_count": 5,
   "id": "d3edb4d9",
   "metadata": {},
   "outputs": [],
   "source": [
    "# Consider the below code to answer further questions:\n",
    "import numpy as np\n",
    "num_list = [ [ 1 , 2 , 3 ] , [ 4 , 5 , 6 ] ]\n",
    "num_array = np.array(object = num_list)"
   ]
  },
  {
   "cell_type": "markdown",
   "id": "87dd31f4",
   "metadata": {},
   "source": [
    "\n",
    "\n"
   ]
  },
  {
   "cell_type": "markdown",
   "id": "880dfc7d",
   "metadata": {},
   "source": [
    "Q4. Write a code to find the following characteristics of variable, num_array:\n",
    "(i) shape\n",
    "(ii) size"
   ]
  },
  {
   "cell_type": "code",
   "execution_count": 8,
   "id": "8c76adf3",
   "metadata": {},
   "outputs": [
    {
     "name": "stdout",
     "output_type": "stream",
     "text": [
      "size ---->  6\n",
      "shape --->  (2, 3)\n"
     ]
    }
   ],
   "source": [
    "print(\"size ----> \" ,np.size(num_array))\n",
    "print(\"shape ---> \", np.shape(num_array))"
   ]
  },
  {
   "cell_type": "code",
   "execution_count": null,
   "id": "ed30e71b",
   "metadata": {},
   "outputs": [],
   "source": [
    "\n",
    "\n",
    "\n"
   ]
  },
  {
   "cell_type": "markdown",
   "id": "2a8f86db",
   "metadata": {},
   "source": [
    "Q5. Write a code to create numpy array of 3*3 matrix containing zeros only, using a numpy array\n",
    "creation function.\n",
    "[Hint: The size of the array will be 9 and the shape will be (3,3).]"
   ]
  },
  {
   "cell_type": "code",
   "execution_count": 10,
   "id": "a3190ff3",
   "metadata": {},
   "outputs": [
    {
     "data": {
      "text/plain": [
       "array([[0., 0., 0.],\n",
       "       [0., 0., 0.],\n",
       "       [0., 0., 0.]])"
      ]
     },
     "execution_count": 10,
     "metadata": {},
     "output_type": "execute_result"
    }
   ],
   "source": [
    "np.zeros((3,3))"
   ]
  },
  {
   "cell_type": "code",
   "execution_count": null,
   "id": "710ab425",
   "metadata": {},
   "outputs": [],
   "source": [
    "\n",
    "\n",
    "\n",
    "\n"
   ]
  },
  {
   "cell_type": "markdown",
   "id": "20c7cd4b",
   "metadata": {},
   "source": [
    "Q6. Create an identity matrix of shape (5,5) using numpy functions?\n",
    "[Hint: An identity matrix is a matrix containing 1 diagonally and other elements will be 0.]"
   ]
  },
  {
   "cell_type": "code",
   "execution_count": 12,
   "id": "733ad701",
   "metadata": {},
   "outputs": [
    {
     "data": {
      "text/plain": [
       "array([[1., 0., 0., 0., 0.],\n",
       "       [0., 1., 0., 0., 0.],\n",
       "       [0., 0., 1., 0., 0.],\n",
       "       [0., 0., 0., 1., 0.],\n",
       "       [0., 0., 0., 0., 1.]])"
      ]
     },
     "execution_count": 12,
     "metadata": {},
     "output_type": "execute_result"
    }
   ],
   "source": [
    "np.eye(5,5)"
   ]
  },
  {
   "cell_type": "code",
   "execution_count": null,
   "id": "c24cc9e7",
   "metadata": {},
   "outputs": [],
   "source": []
  }
 ],
 "metadata": {
  "kernelspec": {
   "display_name": "Python 3 (ipykernel)",
   "language": "python",
   "name": "python3"
  },
  "language_info": {
   "codemirror_mode": {
    "name": "ipython",
    "version": 3
   },
   "file_extension": ".py",
   "mimetype": "text/x-python",
   "name": "python",
   "nbconvert_exporter": "python",
   "pygments_lexer": "ipython3",
   "version": "3.10.9"
  }
 },
 "nbformat": 4,
 "nbformat_minor": 5
}
