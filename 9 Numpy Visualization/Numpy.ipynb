{
 "cells": [
  {
   "cell_type": "code",
   "execution_count": 1,
   "id": "bf334088",
   "metadata": {},
   "outputs": [],
   "source": [
    "import numpy as np"
   ]
  },
  {
   "cell_type": "markdown",
   "id": "d46b5dfe",
   "metadata": {},
   "source": [
    "=>it uses array or matrix as raw data "
   ]
  },
  {
   "cell_type": "code",
   "execution_count": 3,
   "id": "9dc70b48",
   "metadata": {},
   "outputs": [
    {
     "name": "stdout",
     "output_type": "stream",
     "text": [
      "[123  45  23  43  56]\n",
      "<class 'numpy.ndarray'>\n"
     ]
    }
   ],
   "source": [
    "l=[123,45,23,43,56]\n",
    "\n",
    "a= np.array(l)\n",
    "print(a)\n",
    "print(type(a))"
   ]
  },
  {
   "cell_type": "code",
   "execution_count": 6,
   "id": "af9c67ec",
   "metadata": {},
   "outputs": [
    {
     "name": "stdout",
     "output_type": "stream",
     "text": [
      "[123  45  23  43  56]\n",
      "<class 'numpy.ndarray'>\n"
     ]
    }
   ],
   "source": [
    "a= np.asarray(l)\n",
    "print(a)\n",
    "print(type(a))"
   ]
  },
  {
   "cell_type": "code",
   "execution_count": 14,
   "id": "dad2f7da",
   "metadata": {},
   "outputs": [
    {
     "name": "stdout",
     "output_type": "stream",
     "text": [
      "[123  45  23  43  56]\n",
      "<class 'numpy.ndarray'>\n"
     ]
    }
   ],
   "source": [
    "a= np.asanyarray(l)\n",
    "print(a)\n",
    "print(type(a))"
   ]
  },
  {
   "cell_type": "code",
   "execution_count": 15,
   "id": "a6f654fc",
   "metadata": {},
   "outputs": [
    {
     "name": "stdout",
     "output_type": "stream",
     "text": [
      "a [123  45  23  43  56]\n",
      "b [123  45  23  43  56]\n",
      "c [123  45  23  43  56]\n"
     ]
    }
   ],
   "source": [
    "\n",
    "b=a #--------------reference-----------------'sollow copy'\n",
    "c = np.copy(a) #-------makes another copy----'deep copy'\n",
    "\n",
    "print(\"a\", a)\n",
    "print(\"b\", b)\n",
    "print(\"c\", c)"
   ]
  },
  {
   "cell_type": "code",
   "execution_count": 16,
   "id": "dcac3a60",
   "metadata": {},
   "outputs": [
    {
     "name": "stdout",
     "output_type": "stream",
     "text": [
      "a [  123    45 10000    43    56]\n",
      "b [  123    45 10000    43    56]\n",
      "c [123  45  23  43  56]\n"
     ]
    }
   ],
   "source": [
    "a[2]=10000\n",
    "print(\"a\", a)\n",
    "print(\"b\", b)\n",
    "print(\"c\", c)"
   ]
  },
  {
   "cell_type": "code",
   "execution_count": 17,
   "id": "82b15056",
   "metadata": {},
   "outputs": [
    {
     "data": {
      "text/plain": [
       "array([[ True, False, False],\n",
       "       [False,  True, False],\n",
       "       [False, False,  True]])"
      ]
     },
     "execution_count": 17,
     "metadata": {},
     "output_type": "execute_result"
    }
   ],
   "source": [
    "# functions to create different types of array\n",
    "\n",
    "np.fromfunction(lambda i, j : i==j,(3,3))"
   ]
  },
  {
   "cell_type": "code",
   "execution_count": 18,
   "id": "45a20218",
   "metadata": {},
   "outputs": [
    {
     "data": {
      "text/plain": [
       "array([[0., 0., 0.],\n",
       "       [0., 1., 2.],\n",
       "       [0., 2., 4.]])"
      ]
     },
     "execution_count": 18,
     "metadata": {},
     "output_type": "execute_result"
    }
   ],
   "source": [
    "np.fromfunction(lambda i, j : i*j,(3,3))"
   ]
  },
  {
   "cell_type": "code",
   "execution_count": 23,
   "id": "c3a5a8b6",
   "metadata": {},
   "outputs": [
    {
     "data": {
      "text/plain": [
       "array([ 0.,  1.,  4.,  9., 16.])"
      ]
     },
     "execution_count": 23,
     "metadata": {},
     "output_type": "execute_result"
    }
   ],
   "source": [
    "ite = [i*i for i in range(5) ]\n",
    "\n",
    "# to create array from iterable data\n",
    "np.fromiter(ite,float)"
   ]
  },
  {
   "cell_type": "code",
   "execution_count": 27,
   "id": "8414b3c1",
   "metadata": {},
   "outputs": [
    {
     "data": {
      "text/plain": [
       "array([123., 345., 678.])"
      ]
     },
     "execution_count": 27,
     "metadata": {},
     "output_type": "execute_result"
    }
   ],
   "source": [
    "# from string\n",
    "np.fromstring(\"123 345 678\", sep =\" \")"
   ]
  },
  {
   "cell_type": "code",
   "execution_count": null,
   "id": "e4487395",
   "metadata": {},
   "outputs": [],
   "source": [
    "\n",
    "\n",
    "\n"
   ]
  },
  {
   "cell_type": "markdown",
   "id": "c214ab7d",
   "metadata": {},
   "source": [
    "<!-- Numpy datatypes  -->"
   ]
  },
  {
   "cell_type": "code",
   "execution_count": 28,
   "id": "56784ece",
   "metadata": {},
   "outputs": [
    {
     "data": {
      "text/plain": [
       "[2, 3, 4, 5, 6, 7]"
      ]
     },
     "execution_count": 28,
     "metadata": {},
     "output_type": "execute_result"
    }
   ],
   "source": [
    "l=[2,3,4,5,6,7]\n",
    "ar= np.array(l)\n",
    "l"
   ]
  },
  {
   "cell_type": "code",
   "execution_count": 29,
   "id": "ffbd54fd",
   "metadata": {},
   "outputs": [
    {
     "data": {
      "text/plain": [
       "1"
      ]
     },
     "execution_count": 29,
     "metadata": {},
     "output_type": "execute_result"
    }
   ],
   "source": [
    "# to find dimension of array \n",
    "ar.ndim"
   ]
  },
  {
   "cell_type": "code",
   "execution_count": 34,
   "id": "bc661623",
   "metadata": {},
   "outputs": [
    {
     "name": "stdout",
     "output_type": "stream",
     "text": [
      "[[1 2 3]\n",
      " [4 5 6]\n",
      " [7 8 9]]\n",
      "++++  2\n"
     ]
    }
   ],
   "source": [
    "ar2 = np.array([[1,2,3],[4,5,6],[7,8,9]])\n",
    "print(ar2)\n",
    "print(\"++++ \",ar2.ndim)"
   ]
  },
  {
   "cell_type": "code",
   "execution_count": 35,
   "id": "75d87967",
   "metadata": {},
   "outputs": [
    {
     "name": "stdout",
     "output_type": "stream",
     "text": [
      "6\n",
      "9\n"
     ]
    }
   ],
   "source": [
    "# to get size\n",
    "print(ar.size)\n",
    "print(ar2.size)"
   ]
  },
  {
   "cell_type": "code",
   "execution_count": 36,
   "id": "65c43483",
   "metadata": {},
   "outputs": [
    {
     "name": "stdout",
     "output_type": "stream",
     "text": [
      "(6,)\n",
      "(3, 3)\n"
     ]
    }
   ],
   "source": [
    "# to get shape\n",
    "print(ar.shape)\n",
    "print(ar2.shape)"
   ]
  },
  {
   "cell_type": "code",
   "execution_count": 40,
   "id": "76b93dde",
   "metadata": {},
   "outputs": [
    {
     "data": {
      "text/plain": [
       "array([2.3, 2.8, 3.3, 3.8, 4.3, 4.8, 5.3, 5.8, 6.3])"
      ]
     },
     "execution_count": 40,
     "metadata": {},
     "output_type": "execute_result"
    }
   ],
   "source": [
    "\n",
    "\n",
    "# range takes only int values as start stop jump\n",
    "# Numpy allows to give in floating points\n",
    "# list(np.arange(2.3,6.8,.5))------------------can convert it into list also\n",
    "np.arange(2.3,6.8,.5)"
   ]
  },
  {
   "cell_type": "code",
   "execution_count": 44,
   "id": "f8807ef7",
   "metadata": {},
   "outputs": [
    {
     "data": {
      "text/plain": [
       "array([ 10.,  20.,  30.,  40.,  50.,  60.,  70.,  80.,  90., 100.])"
      ]
     },
     "execution_count": 44,
     "metadata": {},
     "output_type": "execute_result"
    }
   ],
   "source": [
    "\n",
    "# linspace (start, end, n)\n",
    "# it creates array with n data b/w start and end with equal interval [including start , end]\n",
    "\n",
    "np.linspace(10,100,10)"
   ]
  },
  {
   "cell_type": "code",
   "execution_count": 51,
   "id": "f3c8b825",
   "metadata": {},
   "outputs": [
    {
     "data": {
      "text/plain": [
       "array([1.02400000e+03, 1.04857600e+06, 1.07374182e+09, 1.09951163e+12,\n",
       "       1.12589991e+15, 1.15292150e+18, 1.18059162e+21, 1.20892582e+24,\n",
       "       1.23794004e+27, 1.26765060e+30])"
      ]
     },
     "execution_count": 51,
     "metadata": {},
     "output_type": "execute_result"
    }
   ],
   "source": [
    "# it uses log to divide -normally base10\n",
    "np.logspace(10,100,10, base=2)"
   ]
  },
  {
   "cell_type": "code",
   "execution_count": 45,
   "id": "b64aeca7",
   "metadata": {},
   "outputs": [
    {
     "data": {
      "text/plain": [
       "array([0., 0., 0.])"
      ]
     },
     "execution_count": 45,
     "metadata": {},
     "output_type": "execute_result"
    }
   ],
   "source": [
    "# to create array of zeros of shape --> np.zeros(shape)\n",
    "np.zeros(3)"
   ]
  },
  {
   "cell_type": "code",
   "execution_count": 47,
   "id": "d1adcc7a",
   "metadata": {},
   "outputs": [
    {
     "data": {
      "text/plain": [
       "array([[1., 1., 1.],\n",
       "       [1., 1., 1.],\n",
       "       [1., 1., 1.]])"
      ]
     },
     "execution_count": 47,
     "metadata": {},
     "output_type": "execute_result"
    }
   ],
   "source": [
    "# to create array of 1 of shape --> np.ones(shape)\n",
    "x = np.ones((3,3))\n",
    "x"
   ]
  },
  {
   "cell_type": "code",
   "execution_count": 48,
   "id": "017c79a6",
   "metadata": {},
   "outputs": [
    {
     "data": {
      "text/plain": [
       "array([[10., 10., 10.],\n",
       "       [10., 10., 10.],\n",
       "       [10., 10., 10.]])"
      ]
     },
     "execution_count": 48,
     "metadata": {},
     "output_type": "execute_result"
    }
   ],
   "source": [
    "x+ 9"
   ]
  },
  {
   "cell_type": "code",
   "execution_count": 49,
   "id": "0f1c3a99",
   "metadata": {},
   "outputs": [
    {
     "data": {
      "text/plain": [
       "array([[1., 0., 0., 0.],\n",
       "       [0., 1., 0., 0.],\n",
       "       [0., 0., 1., 0.],\n",
       "       [0., 0., 0., 1.]])"
      ]
     },
     "execution_count": 49,
     "metadata": {},
     "output_type": "execute_result"
    }
   ],
   "source": [
    "# creates identity mat\n",
    "# identity mat ------square--diag=1\n",
    "np.eye(4)"
   ]
  },
  {
   "cell_type": "code",
   "execution_count": 52,
   "id": "55ea7b37",
   "metadata": {},
   "outputs": [
    {
     "data": {
      "text/plain": [
       "array([[-1.64415149,  0.98748605, -0.6564554 ,  0.32483594],\n",
       "       [-0.82866789,  1.59490685,  0.69428021,  0.61298917],\n",
       "       [ 0.08471153,  1.47674814, -0.5255423 , -0.4359141 ]])"
      ]
     },
     "execution_count": 52,
     "metadata": {},
     "output_type": "execute_result"
    }
   ],
   "source": [
    "# random \n",
    "np.random.randn(3,4)   # generate data such that mean=0 std=1"
   ]
  },
  {
   "cell_type": "code",
   "execution_count": 53,
   "id": "9169e564",
   "metadata": {},
   "outputs": [
    {
     "data": {
      "text/plain": [
       "array([[0.92379487, 0.46144786, 0.50684433, 0.7999575 ],\n",
       "       [0.43382924, 0.74075506, 0.07377957, 0.81085342],\n",
       "       [0.09220882, 0.76010109, 0.37215622, 0.80158187]])"
      ]
     },
     "execution_count": 53,
     "metadata": {},
     "output_type": "execute_result"
    }
   ],
   "source": [
    "np.random.rand(3,4)   "
   ]
  },
  {
   "cell_type": "code",
   "execution_count": 57,
   "id": "035ff8b9",
   "metadata": {},
   "outputs": [
    {
     "data": {
      "text/plain": [
       "array([[9, 3, 1],\n",
       "       [7, 7, 9],\n",
       "       [5, 3, 8],\n",
       "       [1, 1, 9]])"
      ]
     },
     "execution_count": 57,
     "metadata": {},
     "output_type": "execute_result"
    }
   ],
   "source": [
    "# randint(low, high=None, size=None, dtype=int)\n",
    "\n",
    "ar2=np.random.randint(1,10,(4,3), int )\n",
    "ar2"
   ]
  },
  {
   "cell_type": "code",
   "execution_count": 61,
   "id": "f74a5415",
   "metadata": {},
   "outputs": [
    {
     "data": {
      "text/plain": [
       "array([[9, 3],\n",
       "       [1, 7],\n",
       "       [7, 9],\n",
       "       [5, 3],\n",
       "       [8, 1],\n",
       "       [1, 9]])"
      ]
     },
     "execution_count": 61,
     "metadata": {},
     "output_type": "execute_result"
    }
   ],
   "source": [
    "# using same data we can re shape  but n*m shoud be equal\n",
    "#  if we want to give only one dimension  we can kernel will accordingly\n",
    "#  consider next dimension just provide that dimensionin in any negative\n",
    "ar2.reshape((6,-1))"
   ]
  },
  {
   "cell_type": "code",
   "execution_count": 63,
   "id": "c78d829c",
   "metadata": {},
   "outputs": [
    {
     "data": {
      "text/plain": [
       "3"
      ]
     },
     "execution_count": 63,
     "metadata": {},
     "output_type": "execute_result"
    }
   ],
   "source": [
    "\n",
    "# can retrive data based on location---[row][col]\n",
    "ar2[2][1]"
   ]
  },
  {
   "cell_type": "code",
   "execution_count": 69,
   "id": "7e76871f",
   "metadata": {},
   "outputs": [
    {
     "data": {
      "text/plain": [
       "array([[7, 9],\n",
       "       [3, 8],\n",
       "       [1, 9]])"
      ]
     },
     "execution_count": 69,
     "metadata": {},
     "output_type": "execute_result"
    }
   ],
   "source": [
    "# can give range/list also\n",
    "ar2[1:4, 1:3]"
   ]
  },
  {
   "cell_type": "code",
   "execution_count": 71,
   "id": "0a03b65f",
   "metadata": {},
   "outputs": [
    {
     "data": {
      "text/plain": [
       "array([[96,  1, 39, 89, 89],\n",
       "       [20, 38, 58, 66, 92],\n",
       "       [28, 61, 28, 77, 52],\n",
       "       [50, 45, 88, 21,  2],\n",
       "       [71, 59, 46, 64, 11]])"
      ]
     },
     "execution_count": 71,
     "metadata": {},
     "output_type": "execute_result"
    }
   ],
   "source": [
    "ar = np.random.randint(1,100,(5,5))\n",
    "ar"
   ]
  },
  {
   "cell_type": "code",
   "execution_count": 74,
   "id": "59d4f5e3",
   "metadata": {},
   "outputs": [
    {
     "data": {
      "text/plain": [
       "array([96, 89, 89, 58, 66, 92, 61, 77, 52, 88, 71, 59, 64])"
      ]
     },
     "execution_count": 74,
     "metadata": {},
     "output_type": "execute_result"
    }
   ],
   "source": [
    "# Q find elem greater than 50\n",
    "ar[ar >50]"
   ]
  },
  {
   "cell_type": "code",
   "execution_count": 75,
   "id": "74c8c3e1",
   "metadata": {},
   "outputs": [],
   "source": [
    "# can easily manipulate\n",
    "ar[0][0]=999"
   ]
  },
  {
   "cell_type": "code",
   "execution_count": 76,
   "id": "a27d9803",
   "metadata": {},
   "outputs": [
    {
     "data": {
      "text/plain": [
       "array([[999,   1,  39,  89,  89],\n",
       "       [ 20,  38,  58,  66,  92],\n",
       "       [ 28,  61,  28,  77,  52],\n",
       "       [ 50,  45,  88,  21,   2],\n",
       "       [ 71,  59,  46,  64,  11]])"
      ]
     },
     "execution_count": 76,
     "metadata": {},
     "output_type": "execute_result"
    }
   ],
   "source": [
    "ar"
   ]
  },
  {
   "cell_type": "markdown",
   "id": "a276ea22",
   "metadata": {},
   "source": [
    "\n",
    "\n",
    "            In-built function"
   ]
  },
  {
   "cell_type": "code",
   "execution_count": 77,
   "id": "841ad7c1",
   "metadata": {},
   "outputs": [],
   "source": [
    "arr1= np.random.randint(1,3, (3,3))\n",
    "arr2= np.random.randint(1,3, (3,3))"
   ]
  },
  {
   "cell_type": "code",
   "execution_count": 78,
   "id": "ea4046c8",
   "metadata": {},
   "outputs": [
    {
     "data": {
      "text/plain": [
       "array([[2, 2, 2],\n",
       "       [2, 1, 2],\n",
       "       [1, 1, 1]])"
      ]
     },
     "execution_count": 78,
     "metadata": {},
     "output_type": "execute_result"
    }
   ],
   "source": [
    "arr1"
   ]
  },
  {
   "cell_type": "code",
   "execution_count": 79,
   "id": "5253986b",
   "metadata": {},
   "outputs": [
    {
     "data": {
      "text/plain": [
       "array([[2, 2, 2],\n",
       "       [2, 2, 2],\n",
       "       [2, 1, 1]])"
      ]
     },
     "execution_count": 79,
     "metadata": {},
     "output_type": "execute_result"
    }
   ],
   "source": [
    "arr2"
   ]
  },
  {
   "cell_type": "code",
   "execution_count": 80,
   "id": "4bc098bf",
   "metadata": {},
   "outputs": [
    {
     "data": {
      "text/plain": [
       "array([[4, 4, 4],\n",
       "       [4, 3, 4],\n",
       "       [3, 2, 2]])"
      ]
     },
     "execution_count": 80,
     "metadata": {},
     "output_type": "execute_result"
    }
   ],
   "source": [
    "arr1+arr2"
   ]
  },
  {
   "cell_type": "code",
   "execution_count": 81,
   "id": "188e5ea0",
   "metadata": {},
   "outputs": [
    {
     "data": {
      "text/plain": [
       "array([[1. , 1. , 1. ],\n",
       "       [1. , 0.5, 1. ],\n",
       "       [0.5, 1. , 1. ]])"
      ]
     },
     "execution_count": 81,
     "metadata": {},
     "output_type": "execute_result"
    }
   ],
   "source": [
    "arr1/arr2"
   ]
  },
  {
   "cell_type": "code",
   "execution_count": 84,
   "id": "43cccd36",
   "metadata": {},
   "outputs": [
    {
     "data": {
      "text/plain": [
       "array([[4, 4, 4],\n",
       "       [4, 2, 4],\n",
       "       [2, 1, 1]])"
      ]
     },
     "execution_count": 84,
     "metadata": {},
     "output_type": "execute_result"
    }
   ],
   "source": [
    "# not an matrix multiplication \n",
    "# it is an index multiplication\n",
    "arr1*arr2"
   ]
  },
  {
   "cell_type": "code",
   "execution_count": 86,
   "id": "e3e3af98",
   "metadata": {},
   "outputs": [
    {
     "data": {
      "text/plain": [
       "array([[12, 10, 10],\n",
       "       [10,  8,  8],\n",
       "       [ 6,  5,  5]])"
      ]
     },
     "execution_count": 86,
     "metadata": {},
     "output_type": "execute_result"
    }
   ],
   "source": [
    "# matrix multiplication \n",
    "arr1@arr2"
   ]
  },
  {
   "cell_type": "code",
   "execution_count": 87,
   "id": "d6c01948",
   "metadata": {},
   "outputs": [
    {
     "name": "stderr",
     "output_type": "stream",
     "text": [
      "C:\\Users\\asus\\AppData\\Local\\Temp\\ipykernel_6368\\1265251489.py:2: RuntimeWarning: divide by zero encountered in divide\n",
      "  arr1/0\n"
     ]
    },
    {
     "data": {
      "text/plain": [
       "array([[inf, inf, inf],\n",
       "       [inf, inf, inf],\n",
       "       [inf, inf, inf]])"
      ]
     },
     "execution_count": 87,
     "metadata": {},
     "output_type": "execute_result"
    }
   ],
   "source": [
    "\n",
    "# in mumpy divide by zero is infinity doest give error\n",
    "arr1/0"
   ]
  },
  {
   "cell_type": "code",
   "execution_count": 88,
   "id": "1e49c821",
   "metadata": {},
   "outputs": [
    {
     "data": {
      "text/plain": [
       "array([[4, 4, 4],\n",
       "       [4, 1, 4],\n",
       "       [1, 1, 1]])"
      ]
     },
     "execution_count": 88,
     "metadata": {},
     "output_type": "execute_result"
    }
   ],
   "source": [
    "# can perform any operation\n",
    "arr1**2"
   ]
  },
  {
   "cell_type": "markdown",
   "id": "e4f7ae6b",
   "metadata": {},
   "source": [
    "\n",
    "                Numpy broadcasting\n",
    "          "
   ]
  },
  {
   "cell_type": "code",
   "execution_count": 95,
   "id": "46af8e8b",
   "metadata": {},
   "outputs": [
    {
     "data": {
      "text/plain": [
       "array([[0., 0., 0., 0.],\n",
       "       [0., 0., 0., 0.],\n",
       "       [0., 0., 0., 0.],\n",
       "       [0., 0., 0., 0.]])"
      ]
     },
     "execution_count": 95,
     "metadata": {},
     "output_type": "execute_result"
    }
   ],
   "source": [
    "arr = np.zeros((4,4))\n",
    "arr"
   ]
  },
  {
   "cell_type": "code",
   "execution_count": 106,
   "id": "a4932c5b",
   "metadata": {},
   "outputs": [
    {
     "name": "stdout",
     "output_type": "stream",
     "text": [
      "[1 2 3 4]\n",
      "(4,)\n"
     ]
    }
   ],
   "source": [
    "row =np.array([1,2,3,4])\n",
    "print(row)\n",
    "print(row.shape)"
   ]
  },
  {
   "cell_type": "code",
   "execution_count": 104,
   "id": "24b22d7d",
   "metadata": {},
   "outputs": [
    {
     "data": {
      "text/plain": [
       "array([[1., 2., 3., 4.],\n",
       "       [1., 2., 3., 4.],\n",
       "       [1., 2., 3., 4.],\n",
       "       [1., 2., 3., 4.]])"
      ]
     },
     "execution_count": 104,
     "metadata": {},
     "output_type": "execute_result"
    }
   ],
   "source": [
    "# above when we where adding 100 it was added to each  an every an element but\n",
    "# now we passed an row mat it added row wise this is known as broadcasting \n",
    "arr +row"
   ]
  },
  {
   "cell_type": "code",
   "execution_count": 112,
   "id": "b7b1ff23",
   "metadata": {},
   "outputs": [
    {
     "name": "stdout",
     "output_type": "stream",
     "text": [
      "[[1]\n",
      " [2]\n",
      " [3]\n",
      " [4]]\n",
      "(4, 1)\n"
     ]
    }
   ],
   "source": [
    "# can perform broadcasting col wise to by providing clo mat\n",
    "\n",
    "# can't get transope of 1D that's why generating 2D and transposing---->bcoz default creates row mat \n",
    "col= np.array([[1,2,3,4]]).T\n",
    "print(col)\n",
    "print(col.shape)"
   ]
  },
  {
   "cell_type": "code",
   "execution_count": 113,
   "id": "98754aac",
   "metadata": {},
   "outputs": [
    {
     "data": {
      "text/plain": [
       "array([[1., 1., 1., 1.],\n",
       "       [2., 2., 2., 2.],\n",
       "       [3., 3., 3., 3.],\n",
       "       [4., 4., 4., 4.]])"
      ]
     },
     "execution_count": 113,
     "metadata": {},
     "output_type": "execute_result"
    }
   ],
   "source": [
    "arr +col"
   ]
  },
  {
   "cell_type": "code",
   "execution_count": 114,
   "id": "6e8d9231",
   "metadata": {},
   "outputs": [],
   "source": [
    "arr= np.random.randint(1,4,(3,4))"
   ]
  },
  {
   "cell_type": "code",
   "execution_count": 115,
   "id": "c850d24a",
   "metadata": {},
   "outputs": [
    {
     "data": {
      "text/plain": [
       "array([[3, 1, 1, 3],\n",
       "       [3, 2, 1, 3],\n",
       "       [1, 1, 1, 3]])"
      ]
     },
     "execution_count": 115,
     "metadata": {},
     "output_type": "execute_result"
    }
   ],
   "source": [
    "arr"
   ]
  },
  {
   "cell_type": "code",
   "execution_count": 116,
   "id": "868173fb",
   "metadata": {},
   "outputs": [
    {
     "data": {
      "text/plain": [
       "array([[1.73205081, 1.        , 1.        , 1.73205081],\n",
       "       [1.73205081, 1.41421356, 1.        , 1.73205081],\n",
       "       [1.        , 1.        , 1.        , 1.73205081]])"
      ]
     },
     "execution_count": 116,
     "metadata": {},
     "output_type": "execute_result"
    }
   ],
   "source": [
    "# to find sqrt\n",
    "np.sqrt(arr)"
   ]
  },
  {
   "cell_type": "code",
   "execution_count": 117,
   "id": "d0ccea28",
   "metadata": {},
   "outputs": [
    {
     "data": {
      "text/plain": [
       "array([[20.08553692,  2.71828183,  2.71828183, 20.08553692],\n",
       "       [20.08553692,  7.3890561 ,  2.71828183, 20.08553692],\n",
       "       [ 2.71828183,  2.71828183,  2.71828183, 20.08553692]])"
      ]
     },
     "execution_count": 117,
     "metadata": {},
     "output_type": "execute_result"
    }
   ],
   "source": [
    "np.exp(arr)"
   ]
  },
  {
   "cell_type": "code",
   "execution_count": 119,
   "id": "5295ea21",
   "metadata": {},
   "outputs": [
    {
     "data": {
      "text/plain": [
       "array([[0.47712125, 0.        , 0.        , 0.47712125],\n",
       "       [0.47712125, 0.30103   , 0.        , 0.47712125],\n",
       "       [0.        , 0.        , 0.        , 0.47712125]])"
      ]
     },
     "execution_count": 119,
     "metadata": {},
     "output_type": "execute_result"
    }
   ],
   "source": [
    "# np.log(arr)\n",
    "np.log10(arr)"
   ]
  },
  {
   "cell_type": "code",
   "execution_count": null,
   "id": "24c09b9a",
   "metadata": {},
   "outputs": [],
   "source": [
    "\n",
    "\n"
   ]
  },
  {
   "cell_type": "markdown",
   "id": "2c50a68d",
   "metadata": {},
   "source": [
    "\n",
    "\n",
    "                            Numpy 2\n",
    "                            "
   ]
  },
  {
   "cell_type": "code",
   "execution_count": 120,
   "id": "2e3ce454",
   "metadata": {},
   "outputs": [],
   "source": [
    "# manipulation\n",
    "arr = np.random.randint(1,10,(3,4))"
   ]
  },
  {
   "cell_type": "code",
   "execution_count": 125,
   "id": "d0d6fbb8",
   "metadata": {},
   "outputs": [
    {
     "data": {
      "text/plain": [
       "array([[2, 7, 4, 1],\n",
       "       [7, 2, 2, 8],\n",
       "       [7, 5, 3, 3]])"
      ]
     },
     "execution_count": 125,
     "metadata": {},
     "output_type": "execute_result"
    }
   ],
   "source": [
    "arr"
   ]
  },
  {
   "cell_type": "code",
   "execution_count": 126,
   "id": "ba2d9920",
   "metadata": {},
   "outputs": [
    {
     "data": {
      "text/plain": [
       "array([2, 7, 4, 1, 7, 2, 2, 8, 7, 5, 3, 3])"
      ]
     },
     "execution_count": 126,
     "metadata": {},
     "output_type": "execute_result"
    }
   ],
   "source": [
    "# arr 2D ---> arr1D\n",
    "arr.flatten()"
   ]
  },
  {
   "cell_type": "code",
   "execution_count": 132,
   "id": "ca04e48b",
   "metadata": {},
   "outputs": [
    {
     "data": {
      "text/plain": [
       "array([[1],\n",
       "       [2],\n",
       "       [3],\n",
       "       [4]])"
      ]
     },
     "execution_count": 132,
     "metadata": {},
     "output_type": "execute_result"
    }
   ],
   "source": [
    "# to increase dimensions dynamically we \n",
    "arr1=np.array([1,2,3,4])\n",
    "x = np.expand_dims(arr1, axis=1)\n",
    "x"
   ]
  },
  {
   "cell_type": "code",
   "execution_count": 133,
   "id": "62d19575",
   "metadata": {},
   "outputs": [
    {
     "data": {
      "text/plain": [
       "array([[1, 2, 3, 4]])"
      ]
     },
     "execution_count": 133,
     "metadata": {},
     "output_type": "execute_result"
    }
   ],
   "source": [
    "np.expand_dims(arr1, axis=0)"
   ]
  },
  {
   "cell_type": "code",
   "execution_count": 137,
   "id": "03c345c2",
   "metadata": {},
   "outputs": [
    {
     "data": {
      "text/plain": [
       "array([1, 2, 3, 4])"
      ]
     },
     "execution_count": 137,
     "metadata": {},
     "output_type": "execute_result"
    }
   ],
   "source": [
    "# to decrease dimensions dynamically we \n",
    "\n",
    "y = np.squeeze(x)\n",
    "y"
   ]
  },
  {
   "cell_type": "code",
   "execution_count": 138,
   "id": "a0289c97",
   "metadata": {},
   "outputs": [
    {
     "data": {
      "text/plain": [
       "array([3, 4, 1, 2])"
      ]
     },
     "execution_count": 138,
     "metadata": {},
     "output_type": "execute_result"
    }
   ],
   "source": [
    "# to change the place on rolling postion\n",
    "np.roll(y, 2)\n",
    "# it will shif each element to two position ahead 1[at 0]---1[ at 0+2=2]"
   ]
  },
  {
   "cell_type": "code",
   "execution_count": 139,
   "id": "43759642",
   "metadata": {},
   "outputs": [
    {
     "data": {
      "text/plain": [
       "array([[1, 0, 0, 0],\n",
       "       [0, 2, 0, 0],\n",
       "       [0, 0, 3, 0],\n",
       "       [0, 0, 0, 4]])"
      ]
     },
     "execution_count": 139,
     "metadata": {},
     "output_type": "execute_result"
    }
   ],
   "source": [
    "\n",
    "# creates diagonal mat using list\n",
    "np.diag(y)"
   ]
  },
  {
   "cell_type": "markdown",
   "id": "815ca9bf",
   "metadata": {},
   "source": [
    "            \n",
    "            \n",
    "                Binary operation(+,-,*,/,%,~,&,|,<....................)"
   ]
  },
  {
   "cell_type": "code",
   "execution_count": 145,
   "id": "05beabdb",
   "metadata": {},
   "outputs": [
    {
     "name": "stdout",
     "output_type": "stream",
     "text": [
      "[[5 6 7 1]\n",
      " [2 1 3 3]\n",
      " [8 2 4 9]]\n",
      "=================\n",
      "[[3 9 6 3]\n",
      " [5 2 1 3]\n",
      " [1 8 6 9]]\n"
     ]
    }
   ],
   "source": [
    "arr1= np.random.randint(1, 10,(3,4))\n",
    "arr2= np.random.randint(1, 10,(3,4))\n",
    "\n",
    "print(arr1)\n",
    "print(\"=================\")\n",
    "print(arr2)"
   ]
  },
  {
   "cell_type": "code",
   "execution_count": 146,
   "id": "89db6a07",
   "metadata": {},
   "outputs": [
    {
     "data": {
      "text/plain": [
       "array([[2, 6, 1, 1],\n",
       "       [2, 1, 0, 0],\n",
       "       [0, 2, 4, 0]])"
      ]
     },
     "execution_count": 146,
     "metadata": {},
     "output_type": "execute_result"
    }
   ],
   "source": [
    "#  arr1{op}arr2\n",
    "# ex\n",
    "arr1%arr2"
   ]
  },
  {
   "cell_type": "code",
   "execution_count": 147,
   "id": "89fbf07b",
   "metadata": {},
   "outputs": [
    {
     "data": {
      "text/plain": [
       "array([[1, 0, 6, 1],\n",
       "       [0, 0, 1, 3],\n",
       "       [0, 0, 4, 9]])"
      ]
     },
     "execution_count": 147,
     "metadata": {},
     "output_type": "execute_result"
    }
   ],
   "source": [
    "arr1&arr2"
   ]
  },
  {
   "cell_type": "code",
   "execution_count": 148,
   "id": "478770c5",
   "metadata": {},
   "outputs": [
    {
     "data": {
      "text/plain": [
       "array([[ -6,  -7,  -8,  -2],\n",
       "       [ -3,  -2,  -4,  -4],\n",
       "       [ -9,  -3,  -5, -10]])"
      ]
     },
     "execution_count": 148,
     "metadata": {},
     "output_type": "execute_result"
    }
   ],
   "source": [
    "~arr1"
   ]
  },
  {
   "cell_type": "markdown",
   "id": "1c04e328",
   "metadata": {},
   "source": [
    "\n",
    "\n",
    "            String function\n",
    "            "
   ]
  },
  {
   "cell_type": "code",
   "execution_count": 151,
   "id": "51c16de7",
   "metadata": {},
   "outputs": [],
   "source": [
    "arr= np.array([\"nm\",\"pn\",\"tp\"])"
   ]
  },
  {
   "cell_type": "code",
   "execution_count": 152,
   "id": "2d9e0c3b",
   "metadata": {},
   "outputs": [
    {
     "data": {
      "text/plain": [
       "array(['nm', 'pn', 'tp'], dtype='<U2')"
      ]
     },
     "execution_count": 152,
     "metadata": {},
     "output_type": "execute_result"
    }
   ],
   "source": [
    "arr"
   ]
  },
  {
   "cell_type": "code",
   "execution_count": 153,
   "id": "955ed0b9",
   "metadata": {},
   "outputs": [
    {
     "data": {
      "text/plain": [
       "array(['NM', 'PN', 'TP'], dtype='<U2')"
      ]
     },
     "execution_count": 153,
     "metadata": {},
     "output_type": "execute_result"
    }
   ],
   "source": [
    "# to convert all elem to upper\n",
    "np.char.upper(arr)"
   ]
  },
  {
   "cell_type": "code",
   "execution_count": 154,
   "id": "639163e9",
   "metadata": {},
   "outputs": [
    {
     "data": {
      "text/plain": [
       "array(['Nm', 'Pn', 'Tp'], dtype='<U2')"
      ]
     },
     "execution_count": 154,
     "metadata": {},
     "output_type": "execute_result"
    }
   ],
   "source": [
    "np.char.title(arr)"
   ]
  },
  {
   "cell_type": "code",
   "execution_count": 156,
   "id": "caf80111",
   "metadata": {},
   "outputs": [
    {
     "data": {
      "text/plain": [
       "array(['Nm', 'Pn', 'Tp'], dtype='<U2')"
      ]
     },
     "execution_count": 156,
     "metadata": {},
     "output_type": "execute_result"
    }
   ],
   "source": [
    "np.char.capitalize(arr)"
   ]
  },
  {
   "cell_type": "markdown",
   "id": "91a8e10b",
   "metadata": {},
   "source": [
    "\n",
    "            Mathematical func\n"
   ]
  },
  {
   "cell_type": "code",
   "execution_count": 157,
   "id": "2be00be9",
   "metadata": {},
   "outputs": [
    {
     "data": {
      "text/plain": [
       "array([[5, 6, 7, 1],\n",
       "       [2, 1, 3, 3],\n",
       "       [8, 2, 4, 9]])"
      ]
     },
     "execution_count": 157,
     "metadata": {},
     "output_type": "execute_result"
    }
   ],
   "source": [
    "arr1"
   ]
  },
  {
   "cell_type": "code",
   "execution_count": 159,
   "id": "244de654",
   "metadata": {},
   "outputs": [
    {
     "data": {
      "text/plain": [
       "array([[-0.95892427, -0.2794155 ,  0.6569866 ,  0.84147098],\n",
       "       [ 0.90929743,  0.84147098,  0.14112001,  0.14112001],\n",
       "       [ 0.98935825,  0.90929743, -0.7568025 ,  0.41211849]])"
      ]
     },
     "execution_count": 159,
     "metadata": {},
     "output_type": "execute_result"
    }
   ],
   "source": [
    "# cos tan tanh exp sqrt log log10 .....\n",
    "np.sin(arr1)"
   ]
  },
  {
   "cell_type": "code",
   "execution_count": 160,
   "id": "56f7c5f8",
   "metadata": {},
   "outputs": [
    {
     "data": {
      "text/plain": [
       "array([[125, 216, 343,   1],\n",
       "       [  8,   1,  27,  27],\n",
       "       [512,   8,  64, 729]], dtype=int32)"
      ]
     },
     "execution_count": 160,
     "metadata": {},
     "output_type": "execute_result"
    }
   ],
   "source": [
    "np.power(arr1, 3)"
   ]
  },
  {
   "cell_type": "code",
   "execution_count": 162,
   "id": "d88be929",
   "metadata": {},
   "outputs": [
    {
     "data": {
      "text/plain": [
       "4.25"
      ]
     },
     "execution_count": 162,
     "metadata": {},
     "output_type": "execute_result"
    }
   ],
   "source": [
    "# mean median std var max min\n",
    "np.mean(arr1)"
   ]
  },
  {
   "cell_type": "code",
   "execution_count": null,
   "id": "636d918b",
   "metadata": {},
   "outputs": [],
   "source": [
    "\n",
    "\n",
    "\n",
    "\n",
    "\n"
   ]
  },
  {
   "cell_type": "markdown",
   "id": "08eb3f46",
   "metadata": {},
   "source": [
    "                                      \n",
    "                                      Part 3\n",
    "                                      "
   ]
  },
  {
   "cell_type": "code",
   "execution_count": 163,
   "id": "fbe3da5a",
   "metadata": {},
   "outputs": [],
   "source": [
    "# sort search counting func"
   ]
  },
  {
   "cell_type": "code",
   "execution_count": 164,
   "id": "0f2f42d7",
   "metadata": {},
   "outputs": [],
   "source": [
    "arr = np.array([3,5,6,7,3,5,6,7,93,3,3,4,5])"
   ]
  },
  {
   "cell_type": "code",
   "execution_count": 165,
   "id": "3fc3d46d",
   "metadata": {},
   "outputs": [
    {
     "data": {
      "text/plain": [
       "array([ 3,  5,  6,  7,  3,  5,  6,  7, 93,  3,  3,  4,  5])"
      ]
     },
     "execution_count": 165,
     "metadata": {},
     "output_type": "execute_result"
    }
   ],
   "source": [
    "arr"
   ]
  },
  {
   "cell_type": "code",
   "execution_count": 166,
   "id": "3d0aea9f",
   "metadata": {},
   "outputs": [
    {
     "data": {
      "text/plain": [
       "array([ 3,  3,  3,  3,  4,  5,  5,  5,  6,  6,  7,  7, 93])"
      ]
     },
     "execution_count": 166,
     "metadata": {},
     "output_type": "execute_result"
    }
   ],
   "source": [
    "np.sort(arr)"
   ]
  },
  {
   "cell_type": "code",
   "execution_count": 167,
   "id": "0e830da9",
   "metadata": {},
   "outputs": [
    {
     "data": {
      "text/plain": [
       "13"
      ]
     },
     "execution_count": 167,
     "metadata": {},
     "output_type": "execute_result"
    }
   ],
   "source": [
    "# return the index were data will be stored \n",
    "np.searchsorted(arr, 89)"
   ]
  },
  {
   "cell_type": "code",
   "execution_count": 170,
   "id": "1ebd7606",
   "metadata": {},
   "outputs": [
    {
     "data": {
      "text/plain": [
       "3"
      ]
     },
     "execution_count": 170,
     "metadata": {},
     "output_type": "execute_result"
    }
   ],
   "source": [
    "# to find no.of non zero val\n",
    "arr1 =np.array([0,34,0,4,0,0,0,3])\n",
    "np.count_nonzero(arr1)"
   ]
  },
  {
   "cell_type": "code",
   "execution_count": 174,
   "id": "ed0d87db",
   "metadata": {},
   "outputs": [
    {
     "name": "stdout",
     "output_type": "stream",
     "text": [
      "arr-- [ 3  5  6  7  3  5  6  7 93  3  3  4  5]\n"
     ]
    },
    {
     "data": {
      "text/plain": [
       "(array([2, 3, 6, 7, 8], dtype=int64),)"
      ]
     },
     "execution_count": 174,
     "metadata": {},
     "output_type": "execute_result"
    }
   ],
   "source": [
    "# to find index of elements which statisfies cond\n",
    "# in short filtering which returns index\n",
    "print('arr--',arr)\n",
    "np.where(arr>5)"
   ]
  },
  {
   "cell_type": "code",
   "execution_count": 177,
   "id": "f2d5cf78",
   "metadata": {},
   "outputs": [
    {
     "data": {
      "text/plain": [
       "array([93])"
      ]
     },
     "execution_count": 177,
     "metadata": {},
     "output_type": "execute_result"
    }
   ],
   "source": [
    "np.extract(arr>10,arr)"
   ]
  },
  {
   "cell_type": "code",
   "execution_count": 178,
   "id": "bd73c10d",
   "metadata": {},
   "outputs": [
    {
     "data": {
      "text/plain": [
       "array([ 3,  5,  6,  7,  3,  5,  6,  7, 93,  3,  3,  4,  5])"
      ]
     },
     "execution_count": 178,
     "metadata": {},
     "output_type": "execute_result"
    }
   ],
   "source": [
    "arr"
   ]
  },
  {
   "cell_type": "code",
   "execution_count": null,
   "id": "c67403dd",
   "metadata": {},
   "outputs": [],
   "source": [
    "\n",
    "\n",
    "\n",
    "# byte swapping"
   ]
  },
  {
   "cell_type": "code",
   "execution_count": 179,
   "id": "cf2aa11f",
   "metadata": {},
   "outputs": [
    {
     "data": {
      "text/plain": [
       "array([  50331648,   83886080,  100663296,  117440512,   50331648,\n",
       "         83886080,  100663296,  117440512, 1560281088,   50331648,\n",
       "         50331648,   67108864,   83886080])"
      ]
     },
     "execution_count": 179,
     "metadata": {},
     "output_type": "execute_result"
    }
   ],
   "source": [
    "arr.byteswap()"
   ]
  },
  {
   "cell_type": "code",
   "execution_count": 180,
   "id": "73e6e120",
   "metadata": {},
   "outputs": [],
   "source": [
    "\n",
    "\n",
    "# copies & views"
   ]
  },
  {
   "cell_type": "code",
   "execution_count": 182,
   "id": "c0d76a94",
   "metadata": {},
   "outputs": [],
   "source": [
    "# Deep copy------------------- makes another copy,  both will point to different obj\n",
    "a = np.copy(arr)"
   ]
  },
  {
   "cell_type": "code",
   "execution_count": 184,
   "id": "ed95048f",
   "metadata": {},
   "outputs": [],
   "source": [
    "# sollow copy------------------- doesn't makes another copy,  both will point to same obj \n",
    "# b= arr is same\n",
    "b= arr.view()"
   ]
  },
  {
   "cell_type": "code",
   "execution_count": 186,
   "id": "1bb63ed2",
   "metadata": {},
   "outputs": [
    {
     "name": "stdout",
     "output_type": "stream",
     "text": [
      "arr- [ 3  5  6  7  3  5  6  7 93  3  3  4  5]\n",
      "a--- [ 3  5  6  7  3  5  6  7 93  3  3  4  5]\n",
      "b--- [ 3  5  6  7  3  5  6  7 93  3  3  4  5]\n"
     ]
    }
   ],
   "source": [
    "print(\"arr-\",arr)\n",
    "print(\"a---\",a)\n",
    "print(\"b---\",b)"
   ]
  },
  {
   "cell_type": "code",
   "execution_count": 188,
   "id": "5cfe3b62",
   "metadata": {},
   "outputs": [
    {
     "name": "stdout",
     "output_type": "stream",
     "text": [
      "arr- [11  5  6  7  3  5  6  7 93  3  3  4  5]\n",
      "a--- [99  5  6  7  3  5  6  7 93  3  3  4  5]\n",
      "b--- [11  5  6  7  3  5  6  7 93  3  3  4  5]\n"
     ]
    }
   ],
   "source": [
    "a[0]=99\n",
    "b[0]=11\n",
    "print(\"arr-\",arr)\n",
    "print(\"a---\",a)\n",
    "print(\"b---\",b)"
   ]
  },
  {
   "cell_type": "code",
   "execution_count": 189,
   "id": "153bfac1",
   "metadata": {},
   "outputs": [],
   "source": [
    "\n",
    "\n",
    "# for matrix operation matlib libray is present in Numpy"
   ]
  },
  {
   "cell_type": "code",
   "execution_count": 190,
   "id": "bedcc7cc",
   "metadata": {},
   "outputs": [],
   "source": [
    "import numpy.matlib as nm"
   ]
  },
  {
   "cell_type": "code",
   "execution_count": 194,
   "id": "00108686",
   "metadata": {},
   "outputs": [
    {
     "data": {
      "text/plain": [
       "matrix([[1., 0., 0.],\n",
       "        [0., 1., 0.],\n",
       "        [0., 0., 1.]])"
      ]
     },
     "execution_count": 194,
     "metadata": {},
     "output_type": "execute_result"
    }
   ],
   "source": [
    "nm.eye(3)"
   ]
  },
  {
   "cell_type": "code",
   "execution_count": 195,
   "id": "eca57c1a",
   "metadata": {},
   "outputs": [],
   "source": [
    "\n",
    "\n",
    "\n",
    "# linear algebra"
   ]
  },
  {
   "cell_type": "code",
   "execution_count": 196,
   "id": "7fafd03f",
   "metadata": {},
   "outputs": [],
   "source": [
    "arr1 = np.random.randint([[2,3],[4,5]])\n",
    "arr2 = np.random.randint([[5,3],[2,5]])"
   ]
  },
  {
   "cell_type": "code",
   "execution_count": 197,
   "id": "8bc79fe2",
   "metadata": {},
   "outputs": [
    {
     "data": {
      "text/plain": [
       "array([[4, 2],\n",
       "       [5, 4]])"
      ]
     },
     "execution_count": 197,
     "metadata": {},
     "output_type": "execute_result"
    }
   ],
   "source": [
    "# returns dot product\n",
    "np.dot(arr1,arr2)"
   ]
  },
  {
   "cell_type": "code",
   "execution_count": 198,
   "id": "20f13519",
   "metadata": {},
   "outputs": [
    {
     "data": {
      "text/plain": [
       "array([[4, 2],\n",
       "       [5, 4]])"
      ]
     },
     "execution_count": 198,
     "metadata": {},
     "output_type": "execute_result"
    }
   ],
   "source": [
    "arr1@arr2"
   ]
  },
  {
   "cell_type": "code",
   "execution_count": 199,
   "id": "cc5d6184",
   "metadata": {},
   "outputs": [
    {
     "data": {
      "text/plain": [
       "13"
      ]
     },
     "execution_count": 199,
     "metadata": {},
     "output_type": "execute_result"
    }
   ],
   "source": [
    "np.count_nonzero(arr)"
   ]
  },
  {
   "cell_type": "code",
   "execution_count": null,
   "id": "44b07ab1",
   "metadata": {},
   "outputs": [],
   "source": []
  }
 ],
 "metadata": {
  "kernelspec": {
   "display_name": "Python 3 (ipykernel)",
   "language": "python",
   "name": "python3"
  },
  "language_info": {
   "codemirror_mode": {
    "name": "ipython",
    "version": 3
   },
   "file_extension": ".py",
   "mimetype": "text/x-python",
   "name": "python",
   "nbconvert_exporter": "python",
   "pygments_lexer": "ipython3",
   "version": "3.10.9"
  }
 },
 "nbformat": 4,
 "nbformat_minor": 5
}
