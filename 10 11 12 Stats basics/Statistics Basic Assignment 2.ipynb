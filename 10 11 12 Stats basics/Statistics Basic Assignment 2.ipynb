{
 "cells": [
  {
   "cell_type": "markdown",
   "id": "eeba281c",
   "metadata": {},
   "source": [
    "#  Q1. What are the three measures of central tendency?\n",
    "\n",
    "1. Mean\n",
    "2. Median\n",
    "3. Mode"
   ]
  },
  {
   "cell_type": "code",
   "execution_count": null,
   "id": "565fe10c",
   "metadata": {},
   "outputs": [],
   "source": [
    "\n",
    "\n"
   ]
  },
  {
   "cell_type": "markdown",
   "id": "3ca8f5ea",
   "metadata": {},
   "source": [
    "# Q2. What is the difference between the mean, median, and mode? How are they used to measure the central tendency of a dataset?\n",
    "\n",
    "### Mean \n",
    "- The mean is the average of all the values in a dataset. \n",
    "- It's highly influenced by outliers and can be affected by skewed distributions.\n",
    "- Mean is commonly used when the distribution is relatively symmetric and not heavily influenced by outliers.\n",
    "- Mean: Sum of all values / Total number of values.\n",
    "\n",
    "### Median\n",
    "- The median is the middle value in a sorted dataset.\n",
    "- Median is less sensitive to outliers and provides a more balanced representation of the central value.\n",
    "- Median is preferred when dealing with skewed distributions or datasets with outliers, as it's more robust to extreme values.\n",
    "- Median: Middle value (or average of two middle values) in a sorted dataset.\n",
    "    \n",
    "###  Mode\n",
    "- The mode is the value that appears most frequently in a dataset.\n",
    "- Mode is not sensitive to outliers, but in some cases, a dataset might not have a clear mode.\n",
    "- Mode is useful for categorical data or when identifying the most frequent value is important.\n",
    "- Mode: Most frequent value(s) in the dataset."
   ]
  },
  {
   "cell_type": "code",
   "execution_count": null,
   "id": "9efa5085",
   "metadata": {},
   "outputs": [],
   "source": [
    "\n",
    "\n",
    "\n"
   ]
  },
  {
   "cell_type": "markdown",
   "id": "692f26a3",
   "metadata": {},
   "source": [
    "# Q3. Measure the three measures of central tendency for the given height data\n",
    "[178,177,176,177,178.2,178,175,179,180,175,178.9,176.2,177,172.5,178,176.5]\n"
   ]
  },
  {
   "cell_type": "code",
   "execution_count": 7,
   "id": "81167560",
   "metadata": {},
   "outputs": [
    {
     "data": {
      "text/plain": [
       "A    177.01875\n",
       "dtype: float64"
      ]
     },
     "execution_count": 7,
     "metadata": {},
     "output_type": "execute_result"
    }
   ],
   "source": [
    "import pandas as pd\n",
    "data=[178,177,176,177,178.2,178,175,179,180,175,178.9,176.2,177,172.5,178,176.5]\n",
    "df=pd.DataFrame(data,columns=['A'])\n",
    "df.mean()"
   ]
  },
  {
   "cell_type": "code",
   "execution_count": 8,
   "id": "05496189",
   "metadata": {},
   "outputs": [
    {
     "data": {
      "text/plain": [
       "A    177.0\n",
       "dtype: float64"
      ]
     },
     "execution_count": 8,
     "metadata": {},
     "output_type": "execute_result"
    }
   ],
   "source": [
    "df.median()"
   ]
  },
  {
   "cell_type": "code",
   "execution_count": 9,
   "id": "4420958c",
   "metadata": {},
   "outputs": [
    {
     "data": {
      "text/html": [
       "<div>\n",
       "<style scoped>\n",
       "    .dataframe tbody tr th:only-of-type {\n",
       "        vertical-align: middle;\n",
       "    }\n",
       "\n",
       "    .dataframe tbody tr th {\n",
       "        vertical-align: top;\n",
       "    }\n",
       "\n",
       "    .dataframe thead th {\n",
       "        text-align: right;\n",
       "    }\n",
       "</style>\n",
       "<table border=\"1\" class=\"dataframe\">\n",
       "  <thead>\n",
       "    <tr style=\"text-align: right;\">\n",
       "      <th></th>\n",
       "      <th>A</th>\n",
       "    </tr>\n",
       "  </thead>\n",
       "  <tbody>\n",
       "    <tr>\n",
       "      <th>0</th>\n",
       "      <td>177.0</td>\n",
       "    </tr>\n",
       "    <tr>\n",
       "      <th>1</th>\n",
       "      <td>178.0</td>\n",
       "    </tr>\n",
       "  </tbody>\n",
       "</table>\n",
       "</div>"
      ],
      "text/plain": [
       "       A\n",
       "0  177.0\n",
       "1  178.0"
      ]
     },
     "execution_count": 9,
     "metadata": {},
     "output_type": "execute_result"
    }
   ],
   "source": [
    "df.mode()"
   ]
  },
  {
   "cell_type": "code",
   "execution_count": null,
   "id": "eb819ca3",
   "metadata": {},
   "outputs": [],
   "source": [
    "\n",
    "\n",
    "\n"
   ]
  },
  {
   "cell_type": "markdown",
   "id": "8fedaae7",
   "metadata": {},
   "source": [
    "# Q4. Find the standard deviation for the given data:\n",
    "[178,177,176,177,178.2,178,175,179,180,175,178.9,176.2,177,172.5,178,176.5]"
   ]
  },
  {
   "cell_type": "code",
   "execution_count": 10,
   "id": "16bcf06c",
   "metadata": {},
   "outputs": [
    {
     "data": {
      "text/plain": [
       "A    1.847239\n",
       "dtype: float64"
      ]
     },
     "execution_count": 10,
     "metadata": {},
     "output_type": "execute_result"
    }
   ],
   "source": [
    "df.std()"
   ]
  },
  {
   "cell_type": "code",
   "execution_count": null,
   "id": "850d350c",
   "metadata": {},
   "outputs": [],
   "source": [
    "\n",
    "\n"
   ]
  },
  {
   "cell_type": "markdown",
   "id": "b715312c",
   "metadata": {},
   "source": [
    "# Q5. How are measures of dispersion such as range, variance, and standard deviation used to describe the spread of a dataset? Provide an example.\n",
    "\n",
    "    Suppose we have a dataset representing the daily temperatures (in degrees Celsius) for a city over a week:\n",
    "    Temperatures=[25,27,26,23,28,24,25]\n",
    "\n",
    "Range:\n",
    "- The range is the simplest measure of dispersion and is calculated as the difference between the maximum and minimum values in the dataset.\n",
    "- It gives an idea of the overall spread of the data but is sensitive to outliers.\n",
    "- Range=Max(Temperatures)−Min(Temperatures)\n",
    "- Range=28−23=5\n",
    "\n",
    " Variance:\n",
    "- Variance measures how much the individual data points deviate from the mean of the dataset.\n",
    "- It's calculated by averaging the squared differences between each data point and the mean.\n",
    "- A higher variance indicates more variability in the data.\n",
    "- Variance = ((75-85)^2 + (80-85)^2 + (85-85)^2 + (90-85)^2 + (95-85)^2) / 5 = 50\n",
    "\n",
    "\n",
    " Standard Deviation:\n",
    "- The standard deviation is the square root of the variance and provides a measure of dispersion in the original units of the data. \n",
    "- A higher standard deviation indicates greater variability.\n",
    "- Standard Deviation = sqrt(Variance) = sqrt(50) = 7.07\n",
    "\n",
    "\n",
    " \n"
   ]
  },
  {
   "cell_type": "code",
   "execution_count": null,
   "id": "c4eade7d",
   "metadata": {},
   "outputs": [],
   "source": [
    "\n",
    "\n"
   ]
  },
  {
   "cell_type": "markdown",
   "id": "2fa1f2f9",
   "metadata": {},
   "source": [
    "# Q6. What is a Venn diagram?\n",
    "\n",
    "- A Venn diagram is a graphical representation that uses circles (or sometimes other shapes) to show the relationships between different sets or groups of items.\n",
    "- It visually illustrates the overlap and differences between these sets.\n",
    "- Venn diagrams are widely used in various fields, including mathematics, logic, statistics, and data analysis, to help clarify concepts related to set theory and comparisons.\n"
   ]
  },
  {
   "cell_type": "code",
   "execution_count": null,
   "id": "38dd19e1",
   "metadata": {},
   "outputs": [],
   "source": [
    "\n",
    "\n",
    "\n"
   ]
  },
  {
   "cell_type": "markdown",
   "id": "351dd8e8",
   "metadata": {},
   "source": [
    "# Q7. For the two given sets A = (2,3,4,5,6,7) & B = (0,2,6,8,10).  Find:\n",
    "### (i) A intersection B\n",
    "    {2,6}\n",
    "### (ii) A ⋃ B\n",
    "    {0,2,3,4,5,6,7,8,10}"
   ]
  },
  {
   "cell_type": "code",
   "execution_count": null,
   "id": "8065be6f",
   "metadata": {},
   "outputs": [],
   "source": [
    "\n",
    "\n",
    "\n"
   ]
  },
  {
   "cell_type": "markdown",
   "id": "8e4a4f1f",
   "metadata": {},
   "source": [
    "# Q8. What do you understand about skewness in data?\n",
    "\n",
    "- Skewness is a statistical term that measures the asymmetry of the probability distribution of a dataset. \n",
    "- In other words, it indicates the extent to which the data is skewed or distorted to one side of the mean, rather than being symmetrically distributed.\n",
    "- Skewness is an important concept in understanding the shape of data distributions, especially in statistics and data analysis.\n",
    "- There are three types of skewness:\n",
    "    - Positive\n",
    "    - Negative\n",
    "    - Symmetric distribution"
   ]
  },
  {
   "cell_type": "code",
   "execution_count": null,
   "id": "447e7086",
   "metadata": {},
   "outputs": [],
   "source": [
    "\n",
    "\n",
    "\n"
   ]
  },
  {
   "cell_type": "markdown",
   "id": "802c960d",
   "metadata": {},
   "source": [
    "# Q9. If a data is right skewed then what will be the position of median with respect to mean?\n",
    "\n",
    "mean < meadian"
   ]
  },
  {
   "cell_type": "code",
   "execution_count": null,
   "id": "ced6d78e",
   "metadata": {},
   "outputs": [],
   "source": [
    "\n",
    "\n"
   ]
  },
  {
   "cell_type": "markdown",
   "id": "5eef7377",
   "metadata": {},
   "source": [
    "# Q10. Explain the difference between covariance and correlation. How are these measures used in  statistical analysis?\n",
    "\n",
    "\n",
    "- Covariance is a measure of how much two random variables vary together whereas Correlation is a statistical measure that indicates how strongly two variables are related.\n",
    "- Covariance lie between -infinity and +infinity whereas correlation lie between -1 and +1\n",
    "- Covariance provide direction of relationship whereas correlation provide direction and strength of relationship\n",
    "\n",
    "\n",
    "### Use in Statistical Analysis:\n",
    "1. Covariance: \n",
    "> Covariance is used to determine the direction of the linear relationship between two variables. Positive covariance indicates a positive relationship, negative covariance indicates a negative relationship, and near-zero covariance suggests little to no linear relationship. However, the magnitude of covariance is not easily interpretable, and it can be affected by the scales of the variables.\n",
    "\n",
    "2. Correlation:\n",
    "> Correlation provides a standardized measure of the strength and direction of the linear relationship between two variables. It's widely used in statistical analysis to quantify the degree to which two variables move together. Correlation ranges from -1 to 1, allowing for easy interpretation. A correlation close to -1 or 1 suggests a strong linear relationship, while a correlation close to 0 indicates a weak or no linear relationship."
   ]
  },
  {
   "cell_type": "code",
   "execution_count": null,
   "id": "5a5b6a31",
   "metadata": {},
   "outputs": [],
   "source": [
    "\n",
    "\n",
    "\n"
   ]
  },
  {
   "cell_type": "markdown",
   "id": "18198cca",
   "metadata": {},
   "source": [
    "# Q11. What is the formula for calculating the sample mean? Provide an example calculation for a dataset.\n",
    "\n",
    "\n",
    "    Sample mean=sum(x)/n\n",
    "    Example:-\n",
    "    Suppose you have a dataset representing the scores of a class of students in a math exam:\n",
    "    Scores=[90, 75, 10, 25]\n",
    "\n",
    "#### Steps to calculate sample mean:-\n",
    "1. Add up all scores :---- 90 + 75 + 10 + 25 = 200\n",
    "2. Divide it by no of scores :---- sample_mean = 200 /4 = 50 "
   ]
  },
  {
   "cell_type": "code",
   "execution_count": null,
   "id": "86f0911d",
   "metadata": {},
   "outputs": [],
   "source": [
    "\n",
    "\n"
   ]
  },
  {
   "cell_type": "markdown",
   "id": "cc9f9216",
   "metadata": {},
   "source": [
    "# Q12. For a normal distribution data what is the relationship between its measure of central tendency?\n",
    " \n",
    "mean = median = mode"
   ]
  },
  {
   "cell_type": "code",
   "execution_count": null,
   "id": "f09dbd29",
   "metadata": {},
   "outputs": [],
   "source": [
    "\n",
    "\n"
   ]
  },
  {
   "cell_type": "markdown",
   "id": "1615a8cc",
   "metadata": {},
   "source": [
    "\n",
    "# Q13. How is covariance different from correlation?\n",
    "\n",
    "\n",
    "- Covariance is a measure of how much two random variables vary together whereas Correlation is a statistical measure that indicates how strongly two variables are related.\n",
    "- Covariance lie between -infinity and +infinity whereas correlation lie between -1 and +1\n",
    "- Covariance provide direction of relationship whereas correlation provide direction and strength of relationship\n"
   ]
  },
  {
   "cell_type": "code",
   "execution_count": null,
   "id": "09219855",
   "metadata": {},
   "outputs": [],
   "source": [
    "\n",
    "\n"
   ]
  },
  {
   "cell_type": "markdown",
   "id": "c526d40b",
   "metadata": {},
   "source": [
    "# Q14. How do outliers affect measures of central tendency and dispersion? Provide an example.\n",
    "\n",
    "- Outliers are data points that significantly differ from the rest of the data in a dataset. \n",
    "- They can have a notable impact on measures of central tendency (mean, median, mode) and measures of dispersion (range, variance, standard deviation).\n",
    "\n",
    "### Let's consider an example to understand how outliers affect measures of central tendency and dispersion:\n",
    "\n",
    "= Suppose we have a dataset representing the ages of a group of peoples\n",
    "Ages=[22,25,27,30,31,32,33,35,37,45,51,59]\n",
    "\n",
    "    1. Measures of Central Tendency:\n",
    "        - Mean:  34.5.\n",
    "        - Median:  33.\n",
    "        - Mode: There is no mode, as all values are unique.\n",
    "\n",
    "    2. Measures of Dispersion:\n",
    "        - Range:  59−22=37.\n",
    "        - Variance:  176.25\n",
    "        - Std Deviation:  13.28\n",
    "\n",
    "Now, let's introduce an outlier, an age of 90, into the dataset:\n",
    "Ages with Outlier=[22,25,27,30,31,32,33,35,37,45,51,59,90]\n",
    "\n",
    "    1. Measures of Central Tendency (with Outlier):\n",
    "       - Mean: 42.15 --------------> significantly affected by the outlier.\n",
    "       - Median: 33 ---------------> unchanged by the outlier.\n",
    "       - Mode: There is no mode, as all values are unique.\n",
    "       \n",
    "    2. Measures of Dispersion (with Outlier):\n",
    "       - Range:  90−22=68,----------> due to the outlier.\n",
    "       - Variance:  473.71 ---------> reflecting the increased variability caused by the outlier.\n",
    "       - Std. Deviation: 21.76 -----> reflecting the increased variability caused by the outlier"
   ]
  },
  {
   "cell_type": "code",
   "execution_count": null,
   "id": "8d0d9256",
   "metadata": {},
   "outputs": [],
   "source": []
  }
 ],
 "metadata": {
  "kernelspec": {
   "display_name": "Python 3 (ipykernel)",
   "language": "python",
   "name": "python3"
  },
  "language_info": {
   "codemirror_mode": {
    "name": "ipython",
    "version": 3
   },
   "file_extension": ".py",
   "mimetype": "text/x-python",
   "name": "python",
   "nbconvert_exporter": "python",
   "pygments_lexer": "ipython3",
   "version": "3.10.9"
  }
 },
 "nbformat": 4,
 "nbformat_minor": 5
}
