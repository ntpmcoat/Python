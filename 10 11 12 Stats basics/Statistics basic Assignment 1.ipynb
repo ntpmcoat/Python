{
 "cells": [
  {
   "cell_type": "code",
   "execution_count": null,
   "id": "ebfaedc0",
   "metadata": {},
   "outputs": [],
   "source": []
  },
  {
   "cell_type": "markdown",
   "id": "86d9b6a8",
   "metadata": {},
   "source": [
    "# Q1. What is Statistics?\n",
    "\n",
    "\n",
    "- Statistics refers to the field of study that involves the collection, analysis, interpretation, presentation, and organization of data. \n",
    "- It is both a branch of mathematics and a methodological approach that plays a crucial role in various disciplines, including science, social science, business, economics, and more."
   ]
  },
  {
   "cell_type": "code",
   "execution_count": null,
   "id": "792d5e34",
   "metadata": {},
   "outputs": [],
   "source": [
    "\n",
    "\n",
    "\n"
   ]
  },
  {
   "cell_type": "markdown",
   "id": "eafeebc5",
   "metadata": {},
   "source": [
    "\n",
    "# Q2. Define the different types of statistics and give an example of when each type might be used.\n",
    "\n",
    "\n",
    "### 1. Descriptive Statistics:\n",
    "    - Descriptive statistics summarize and describe the main features of a dataset, providing insights into its central tendencies, dispersion, and shape.\n",
    "    - Example: Calculating the mean, median, and standard deviation of a dataset to understand its average value, central value, and how spread out the values are\n",
    "\n",
    "### 2. Inferential statistics\n",
    "    - Inferential statistics involve drawing conclusions about a population based on a sample, using probability theory and hypothesis testing.\n",
    "    - Example: A pharmaceutical company wants to determine the effectiveness of a new drug for a specific medical condition. They conduct a clinical trial with a sample of patients and measure the improvement in their symptoms. By applying inferential statistics, they can estimate the likelihood that the observed improvements in the sample are representative of what would happen if the drug were given to the entire population of patients with that medical condition."
   ]
  },
  {
   "cell_type": "code",
   "execution_count": null,
   "id": "c0619c6d",
   "metadata": {},
   "outputs": [],
   "source": [
    "\n",
    "\n",
    "\n"
   ]
  },
  {
   "cell_type": "markdown",
   "id": "727d84b8",
   "metadata": {},
   "source": [
    "# Q3. What are the different types of data and how do they differ from each other? Provide an example of each type of data.\n",
    "\n",
    "#### 1. Nominal Data:\n",
    "    - Nominal data represents categories or labels that have no inherent order or hierarchy.\n",
    "    - Examples: Gender (Male/Female), Marital Status (Single/Married/Divorced), Colors (Red/Blue/Green).\n",
    "    \n",
    "    \n",
    "#### 2. Ordinal Data:\n",
    "    - Ordinal data represents categories with a meaningful order or ranking but without a consistent difference between them.\n",
    "    - Examples: Education Level (High School/Diploma/Bachelor's/Master's), Customer Satisfaction (Poor/Fair/Good/Excellent), Star Ratings (1 star to 5 stars).\n",
    "    \n",
    "    \n",
    "    \n",
    "#### 3. Interval Data:\n",
    "    - Interval data has a consistent interval between values but lacks a true \"zero\" point. Mathematical operations like addition and subtraction are meaningful, but ratios are not.\n",
    "    - Examples: Temperatures in Celsius or Fahrenheit, Years (2000, 2001, 2002), IQ Scores.\n",
    "    \n",
    "    \n",
    "    \n",
    "#### 4. Ratio Data:\n",
    "    - Ratio data has a true \"zero\" point, and both ratios and differences are meaningful. It allows for all arithmetic operations.\n",
    "    - Examples: Height (in cm), Weight (in kg), Age (in years), Income (in dollars).\n",
    "    - A weight of 60 kg is twice as heavy as 30 kg, and an income of Rs1000 is five times larger than Rs200.\n",
    "    \n",
    "\n"
   ]
  },
  {
   "cell_type": "code",
   "execution_count": null,
   "id": "b8771e69",
   "metadata": {},
   "outputs": [],
   "source": [
    "\n",
    "\n",
    "\n"
   ]
  },
  {
   "cell_type": "markdown",
   "id": "af24b8f2",
   "metadata": {},
   "source": [
    "# Q4. Categorise the following datasets with respect to quantitative and qualitative data types:\n",
    "\n",
    "    (i) Grading in exam: A+, A, B+, B, C+, C, D, E\n",
    "    (ii) Colour of mangoes: yellow, green, orange, red\n",
    "    (iii) Height data of a class: [178.9, 179, 179.5, 176, 177.2, 178.3, 175.8,...]\n",
    "    (iv) Number of mangoes exported by a farm: [500, 600, 478, 672, ...]\n",
    "\n",
    "\n",
    "\n",
    "==>\n",
    "#### Qualitative Data\n",
    "    (i) Grading in exam: A+, A, B+, B, C+, C, D, E\n",
    "    (ii) Colour of mangoes: yellow, green, orange, red\n",
    "\n",
    "#### Quantitative Data\n",
    "    (iii) Height data of a class: [178.9, 179, 179.5, 176, 177.2, 178.3, 175.8,...]\n",
    "    (iv) Number of mangoes exported by a farm: [500, 600, 478, 672, ...]"
   ]
  },
  {
   "cell_type": "code",
   "execution_count": null,
   "id": "e2e2c02e",
   "metadata": {},
   "outputs": [],
   "source": [
    "\n",
    "\n",
    "\n",
    "\n",
    "\n"
   ]
  },
  {
   "cell_type": "markdown",
   "id": "68a08c20",
   "metadata": {},
   "source": [
    "\n",
    "# Q5. Explain the concept of levels of measurement and give an example of a variable for each level.\n",
    "\n",
    "## Nominal Level:\n",
    "- Represents categorical data without any inherent order.\n",
    "- Data can be classified into distinct categories.\n",
    "- Example: Eye colors (blue, brown, green) – Each color is a distinct category without any inherent order or numerical value.\n",
    "    \n",
    "## Ordinal Level:\n",
    "- Represents categorical data with a defined order or ranking.\n",
    "- Differences between categories are not standardized or quantifiable.\n",
    "- Example: Education levels (high school, bachelor's, master's, doctorate) –->There's a clear order, but the difference between educational levels might not be uniform.\n",
    "    \n",
    "## Interval Level:\n",
    "- Represents numerical data with a consistent interval between values.\n",
    "- Zero point is arbitrary and doesn't indicate absence.\n",
    "- Operations like addition and subtraction are meaningful, but ratios are not.\n",
    "- Example:Temperature in Celsius – The differences between degrees are consistent, but you can't say that 20°C is twice as hot as 10°C.\n",
    "    \n",
    "## Ratio Level:\n",
    "- Represents numerical data with a consistent interval between values and a meaningful zero point.\n",
    "- Ratios between values are meaningful, allowing multiplication and division.\n",
    "- Example: Height, weight, income – A height of 180 cm is twice as tall as 90 cm, and an income of rs.1000 is twice as much as rs. 500.\n"
   ]
  },
  {
   "cell_type": "code",
   "execution_count": null,
   "id": "70b63b3d",
   "metadata": {},
   "outputs": [],
   "source": [
    "\n",
    "\n",
    "\n",
    "\n"
   ]
  },
  {
   "cell_type": "markdown",
   "id": "00105a69",
   "metadata": {},
   "source": [
    "# Q6. Why is it important to understand the level of measurement when analyzing data? Provide an example to illustrate your answer.\n",
    "\n",
    "\n",
    "    \n",
    "### the level of measurement in data (nominal, ordinal, interval, ratio) is crucial because it:\n",
    "\n",
    "- Guides data interpretation.\n",
    "- Determines appropriate analysis methods.\n",
    "- Enables data transformation for accuracy.\n",
    "- Influences visualization choices.\n",
    "- Ensures valid statistical inference.\n",
    "\n",
    "Example: Analyzing job satisfaction data with variables like \"Gender\" (nominal), \"Job Position\" (ordinal), and \"Salary\" (ratio) requires tailored analysis and visualization based on their measurement levels for accurate insights in data science."
   ]
  },
  {
   "cell_type": "code",
   "execution_count": null,
   "id": "93972f24",
   "metadata": {},
   "outputs": [],
   "source": [
    "\n",
    "\n",
    "\n"
   ]
  },
  {
   "cell_type": "markdown",
   "id": "cfe1a211",
   "metadata": {},
   "source": [
    "# Q7. How nominal data type is different from ordinal data type.\n",
    "\n",
    "\n",
    "- Nominal data represents categories without any inherent order or ranking whereas Ordinal data represents categories with a specific order or ranking.\n",
    "\n",
    "- In nominal, Categories cannot be arranged in a meaningful sequence whereas in ordinal categories have a meaningful order, but the differences between categories may not be equal.\n",
    "\n",
    "- In nominal, mathematical operations like addition or subtraction don't make sense whereas in ordinal can perform basic mathematical comparisons like greater than, less than.\n",
    "\n",
    "- example \n",
    "   > for nominal  Colors, genders, types of animals\n",
    "   \n",
    "   > for Education levels (e.g., high school, bachelor's, master's), satisfaction levels (e.g., very satisfied, satisfied, dissatisfied)"
   ]
  },
  {
   "cell_type": "code",
   "execution_count": null,
   "id": "92fed48b",
   "metadata": {},
   "outputs": [],
   "source": [
    "\n",
    "\n",
    "\n",
    "\n"
   ]
  },
  {
   "cell_type": "markdown",
   "id": "5c96a54a",
   "metadata": {},
   "source": [
    "# Q8. Which type of plot can be used to display data in terms of range?\n",
    "\n",
    "\n",
    "- A Box Plot (also known as a Box-and-Whisker Plot) is commonly used to display data in terms of range.\n",
    "- It provides a visual summary of the distribution of data, showing the minimum, maximum, median, and quartiles. \n",
    "- This plot is particularly useful for identifying outliers and understanding the spread of data within different groups or categories.\n"
   ]
  },
  {
   "cell_type": "code",
   "execution_count": null,
   "id": "63562491",
   "metadata": {},
   "outputs": [],
   "source": [
    "\n",
    "\n",
    "\n",
    "\n"
   ]
  },
  {
   "cell_type": "markdown",
   "id": "3071358f",
   "metadata": {},
   "source": [
    "# Q9. Describe the difference between descriptive and inferential statistics. Give an example of each type of statistics and explain how they are used.\n",
    "\n",
    "### Descriptive Statistics:\n",
    "\n",
    "- Descriptive statistics involve methods for summarizing, organizing, and presenting data in a meaningful and concise manner.\n",
    "\n",
    "- These statistics provide a clear overview of the main characteristics of a dataset, helping to understand its central tendency, dispersion, and distribution. \n",
    "- Descriptive statistics do not involve making inferences beyond the data at hand; their purpose is to describe what the data shows.\n",
    "- Example: Suppose you have collected the ages of students in a classroom: 18, 20, 19, 22, 21. Descriptive statistics for this dataset would include calculating the mean (average) age (20 years), the median (middle value) age (20 years), and the standard deviation (a measure of how much the  ages vary from the mean).\n",
    "\n",
    "### Inferential Statistics:\n",
    "- Inferential statistics, on the other hand, involve drawing conclusions or making predictions about a larger population based on a sample of data. \n",
    "- These statistics allow researchers to generalize findings from a smaller subset (sample) to a larger group (population) and to assess the likelihood of the findings being accurate.\n",
    "- Example: Imagine you want to estimate the average height of all students in a school using a sample of 50 students. You calculate the average  height of the sample and then use inferential statistics to estimate the range within which the average height of the entire school's student population likely falls. This estimation involves measures like confidence intervals and hypothesis testing.\n"
   ]
  },
  {
   "cell_type": "code",
   "execution_count": null,
   "id": "71c21c65",
   "metadata": {},
   "outputs": [],
   "source": [
    "\n",
    "\n",
    "\n",
    "\n"
   ]
  },
  {
   "cell_type": "markdown",
   "id": "af2207f2",
   "metadata": {},
   "source": [
    "# Q10. What are some common measures of central tendency and variability used in statistics? Explain how each measure can be used to describe a dataset. \n",
    "\n",
    "\n",
    "## Measures of Central Tendency:\n",
    "These measures give an idea of the central or typical value of a dataset.\n",
    "\n",
    "1. Mean: \n",
    "    - The mean is the average value of a dataset. \n",
    "    - It is calculated by summing up all the values and then dividing by the number of values.\n",
    "\n",
    "\n",
    "\n",
    "2. Median:\n",
    "    - The median is the middle value in a sorted dataset.\n",
    "    - It divides the data into two halves, with half the values above and half below.\n",
    "\n",
    "\n",
    "\n",
    "3. Mode: \n",
    "    - The mode is the value that appears most frequently in a dataset.\n",
    "\n",
    "## Measures of Variability:\n",
    "These measures describe how spread out or dispersed the values in a dataset are.\n",
    "\n",
    "1. Range:\n",
    "    - The range is the difference between the maximum and minimum values in a dataset.\n",
    "    - It gives an idea of how much the values spread out.\n",
    "\n",
    "\n",
    "\n",
    "2. Variance:\n",
    "    - Variance measures the average squared difference between each data point and the mean. \n",
    "    - It provides a sense of how much the individual values deviate from the mean.\n",
    "\n",
    "\n",
    "\n",
    "3. Standard Deviation:\n",
    "    - The standard deviation is the square root of the variance. \n",
    "    - It measures the average amount by which values in a dataset differ from the mean.\n",
    "    - A larger standard deviation indicates greater variability. "
   ]
  }
 ],
 "metadata": {
  "kernelspec": {
   "display_name": "Python 3 (ipykernel)",
   "language": "python",
   "name": "python3"
  },
  "language_info": {
   "codemirror_mode": {
    "name": "ipython",
    "version": 3
   },
   "file_extension": ".py",
   "mimetype": "text/x-python",
   "name": "python",
   "nbconvert_exporter": "python",
   "pygments_lexer": "ipython3",
   "version": "3.10.9"
  }
 },
 "nbformat": 4,
 "nbformat_minor": 5
}
