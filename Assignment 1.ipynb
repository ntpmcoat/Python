{
 "cells": [
  {
   "cell_type": "code",
   "execution_count": 15,
   "id": "8e809a3f",
   "metadata": {},
   "outputs": [
    {
     "data": {
      "text/plain": [
       "[1, 3, 5, 7, 9, 11, 13, 15, 17, 19, 21, 23, 25]"
      ]
     },
     "execution_count": 15,
     "metadata": {},
     "output_type": "execute_result"
    }
   ],
   "source": [
    "#Q1]Which keyword is used to create a function? Create a function to return a list of odd numbers in the range of 1 to 25.\n",
    "\n",
    "#Ans:-\n",
    "#  def keyword is used to create function.\n",
    "#  way to implement is def keyword followed by funcation name with parenthesis with colon after this defifinition if function\n",
    "\n",
    "\n",
    "def odd_num():\n",
    "    odd=[]\n",
    "    for i in range(1,26):\n",
    "        if i%2!=0:\n",
    "            odd.append(i)\n",
    "        else:\n",
    "            continue\n",
    "    return  odd\n",
    "\n",
    "\n",
    "odd_num()"
   ]
  },
  {
   "cell_type": "code",
   "execution_count": null,
   "id": "61a882df",
   "metadata": {},
   "outputs": [],
   "source": [
    "\n",
    "\n"
   ]
  },
  {
   "cell_type": "code",
   "execution_count": 23,
   "id": "0afcf178",
   "metadata": {},
   "outputs": [
    {
     "name": "stdout",
     "output_type": "stream",
     "text": [
      "[1, 2, 3, 4, 5, 6]\n",
      "name == Nikhil Mishra\n",
      "Age == 19\n"
     ]
    }
   ],
   "source": [
    "\"\"\"\n",
    "Q2]Why *args and **kwargs is used in some functions? Create a function each for *args and **kwargs to demonstrate their use.\n",
    "\n",
    "Ans:-\n",
    "\n",
    "=> *args are used to take variable(not fixed) number of argument.\n",
    "=> is used to pass a non-keyworded, variable-length argument list. \n",
    "=> *args, any number of extra arguments can be tacked on to your current formal parameters (including zero extra arguments).\n",
    "\n",
    "\"\"\"\n",
    "def test(*args):\n",
    "    for i in args:\n",
    "        print(i)\n",
    "args=[1,2,3,4,5,6]\n",
    "test(args)\n",
    "\n",
    "\"\"\"\n",
    "**kwargs is used to take variable number of keyworded or key-value pair as arguments\n",
    " allows us to pass through keyword arguments (and any number of them).\n",
    "A keyword argument is where you provide a name to the variable as you pass it into the function.\n",
    "One can think of the kwargs as being a dictionary that maps each keyword to the value that we pass alongside it\n",
    "we can also say that it is used to take dictionary element as input\n",
    "\"\"\"\n",
    "\n",
    "def myFun(**kwargs):\n",
    "    for key, value in kwargs.items():\n",
    "        print(\"%s == %s\" % (key, value))\n",
    "      \n",
    "        \n",
    "myFun(name=\"Nikhil Mishra\", Age=19)"
   ]
  },
  {
   "cell_type": "code",
   "execution_count": null,
   "id": "8709d321",
   "metadata": {},
   "outputs": [],
   "source": [
    "\n",
    "\n"
   ]
  },
  {
   "cell_type": "code",
   "execution_count": 1,
   "id": "41cb2da6",
   "metadata": {},
   "outputs": [
    {
     "name": "stdout",
     "output_type": "stream",
     "text": [
      "2\n",
      "4\n",
      "6\n",
      "8\n",
      "10\n"
     ]
    }
   ],
   "source": [
    "'''\n",
    "Q3]What is an iterator in python? Name the method used to initialise the iterator object and the method\n",
    "used for iteration. Use these methods to print the first five elements of the given list [2, 4, 6, 8, 10, 12, 14,\n",
    "16, 18, 20].\n",
    "\n",
    "=> Iterator is an object that is used to iterate over iterable objects.\n",
    "=> Iterators are methods that iterate collections like lists, tuples, etc. \n",
    "=> Using an iterator method, we can loop through an object and return its elements.\n",
    "=> The Python iterators object is initialized using the iter() method.  This returns an iterator object\n",
    "=> It uses the next() method for iteration. It returns the next value for the iterable.\n",
    "\n",
    "'''\n",
    "s=[2,4,6,8,10,12,14,16,18,20]\n",
    "s1=iter(s)\n",
    "print(next(s1))\n",
    "print(next(s1))\n",
    "print(next(s1))\n",
    "print(next(s1))\n",
    "print(next(s1))\n"
   ]
  },
  {
   "cell_type": "code",
   "execution_count": 6,
   "id": "dde32bb7",
   "metadata": {},
   "outputs": [
    {
     "name": "stdout",
     "output_type": "stream",
     "text": [
      "2\n",
      "4\n",
      "6\n",
      "8\n",
      "10\n"
     ]
    }
   ],
   "source": [
    "\"\"\"\n",
    "Q4]What is a generator function in python? Why yield keyword is used? Give an example of a generator function.\n",
    "\n",
    "=>A generator function in Python is a special type of function that returns an iterator object with a sequence\n",
    "  of values when it is iterated over. \n",
    "=>It is defined like a normal function, but whenever it needs to generate a value,it does so with the yield keyword\n",
    "  rather than return. If the body of a def contains yield, the function automatically becomes a generator function. \n",
    "\"\"\"\n",
    "def even(n):\n",
    "    a=1\n",
    "    while a<=n:\n",
    "        if a%2==0 :\n",
    "            yield a\n",
    "        a=a+1\n",
    "        \n",
    "a=even(10)\n",
    "for i in a:\n",
    "    print(i)"
   ]
  },
  {
   "cell_type": "code",
   "execution_count": 15,
   "id": "41ac5b77",
   "metadata": {},
   "outputs": [
    {
     "data": {
      "text/plain": [
       "[]"
      ]
     },
     "execution_count": 15,
     "metadata": {},
     "output_type": "execute_result"
    }
   ],
   "source": [
    "2//2\n",
    "\n",
    "l= list(range(2,2))\n",
    "l"
   ]
  },
  {
   "cell_type": "code",
   "execution_count": 51,
   "id": "fe175311",
   "metadata": {},
   "outputs": [
    {
     "name": "stdout",
     "output_type": "stream",
     "text": [
      "2\n",
      "3\n",
      "5\n",
      "7\n",
      "11\n",
      "13\n",
      "17\n",
      "19\n",
      "23\n",
      "29\n",
      "31\n",
      "37\n",
      "41\n",
      "43\n",
      "47\n",
      "53\n",
      "59\n",
      "61\n",
      "67\n",
      "71\n"
     ]
    }
   ],
   "source": [
    "#Q5. Create a generator function for prime numbers less than 1000. Use the next() method to print the first 20 prime numbers.\n",
    "\n",
    "import math\n",
    "\n",
    "def isPrime(num):\n",
    "    if num < 2:\n",
    "        return False\n",
    "    for i in range(2, math.isqrt(num) + 1):\n",
    "        if num % i == 0:\n",
    "            return False\n",
    "    return True\n",
    "\n",
    "def primeGenerator():\n",
    "    num = 1\n",
    "    while num <= 1000:\n",
    "        if isPrime(num):\n",
    "            yield num\n",
    "        num += 1\n",
    "        \n",
    "prime = primeGenerator()\n",
    "\n",
    "for _ in range(20):\n",
    "    print(next(prime))\n"
   ]
  },
  {
   "cell_type": "code",
   "execution_count": null,
   "id": "176a8537",
   "metadata": {},
   "outputs": [],
   "source": [
    "\n",
    "\n"
   ]
  },
  {
   "cell_type": "code",
   "execution_count": 52,
   "id": "79aa42af",
   "metadata": {},
   "outputs": [
    {
     "name": "stdout",
     "output_type": "stream",
     "text": [
      "0\n",
      "1\n",
      "1\n",
      "2\n",
      "3\n",
      "5\n",
      "8\n",
      "13\n",
      "21\n",
      "34\n"
     ]
    }
   ],
   "source": [
    "#Q6]Write a python program to print the first 10 Fibonacci numbers using a while loop.\n",
    "\n",
    "a , b = 0 , 1\n",
    "num=1\n",
    "while num<=10:\n",
    "    print(a)\n",
    "    a , b = b , a+b\n",
    "    num=num+1"
   ]
  },
  {
   "cell_type": "code",
   "execution_count": null,
   "id": "4cb79b32",
   "metadata": {},
   "outputs": [],
   "source": [
    "\n",
    "\n",
    "\n"
   ]
  },
  {
   "cell_type": "code",
   "execution_count": 7,
   "id": "c8334273",
   "metadata": {},
   "outputs": [
    {
     "data": {
      "text/plain": [
       "['p', 'w', 's', 'k', 'i', 'l', 'l', 's']"
      ]
     },
     "execution_count": 7,
     "metadata": {},
     "output_type": "execute_result"
    }
   ],
   "source": [
    "\"\"\"\n",
    "Q7]Write a List Comprehension to iterate through the given string: ‘pwskills’.\n",
    "Expected output: ['p', 'w', 's', 'k', 'i', 'l', 'l', 's']      \n",
    "\"\"\"\n",
    "\n",
    "s=\"pwskills\"\n",
    "ans=[i for i in s]\n",
    "ans"
   ]
  },
  {
   "cell_type": "code",
   "execution_count": null,
   "id": "885b72f1",
   "metadata": {},
   "outputs": [],
   "source": [
    "\n",
    "\n"
   ]
  },
  {
   "cell_type": "code",
   "execution_count": 54,
   "id": "6341ab6c",
   "metadata": {},
   "outputs": [
    {
     "name": "stdout",
     "output_type": "stream",
     "text": [
      "Please enter a number : 8893\n",
      "Not a Palindrome\n"
     ]
    }
   ],
   "source": [
    "#Q8]Write a python program to check whether a given number is Palindrome or not using a while loop.\n",
    "\n",
    "a=int(input(\"Please enter a number : \"))\n",
    "\n",
    "temp=a\n",
    "rem=0\n",
    "rev=0\n",
    "while a>0:\n",
    "    rem=a%10\n",
    "    rev=rev*10+rem\n",
    "    a//=10\n",
    "    \n",
    "if(rev==temp):\n",
    "    print(\"Is Palindrome\")\n",
    "else:\n",
    "    print(\"Not a Palindrome\")"
   ]
  },
  {
   "cell_type": "code",
   "execution_count": null,
   "id": "3eb8e2aa",
   "metadata": {},
   "outputs": [],
   "source": [
    "\n",
    "\n"
   ]
  },
  {
   "cell_type": "code",
   "execution_count": 9,
   "id": "af7d4893",
   "metadata": {},
   "outputs": [
    {
     "name": "stdout",
     "output_type": "stream",
     "text": [
      "[1, 3, 5, 7, 9, 11, 13, 15, 17, 19, 21, 23, 25, 27, 29, 31, 33, 35, 37, 39, 41, 43, 45, 47, 49, 51, 53, 55, 57, 59, 61, 63, 65, 67, 69, 71, 73, 75, 77, 79, 81, 83, 85, 87, 89, 91, 93, 95, 97, 99]\n"
     ]
    }
   ],
   "source": [
    "\"\"\"\n",
    "Q9]Write a code to print odd numbers from 1 to 100 using list comprehension.\n",
    "Use a list comprehension to create a list from 1 to 100 and use another List comprehension to filter\n",
    "out odd numbers.\n",
    "\"\"\"\n",
    "\n",
    "num=[i for i in range(100)]\n",
    "odd=[i for i in num if i%2!=0]\n",
    "print(odd)"
   ]
  },
  {
   "cell_type": "code",
   "execution_count": null,
   "id": "4f316cd3",
   "metadata": {},
   "outputs": [],
   "source": []
  }
 ],
 "metadata": {
  "kernelspec": {
   "display_name": "Python 3 (ipykernel)",
   "language": "python",
   "name": "python3"
  },
  "language_info": {
   "codemirror_mode": {
    "name": "ipython",
    "version": 3
   },
   "file_extension": ".py",
   "mimetype": "text/x-python",
   "name": "python",
   "nbconvert_exporter": "python",
   "pygments_lexer": "ipython3",
   "version": "3.10.9"
  }
 },
 "nbformat": 4,
 "nbformat_minor": 5
}
